{
 "cells": [
  {
   "cell_type": "code",
   "execution_count": null,
   "id": "ac59341a",
   "metadata": {},
   "outputs": [],
   "source": [
    "from functools import lru_cache\n",
    "import re\n",
    "\n",
    "import pyspark.sql.functions as F\n",
    "from pyspark.sql import SparkSession\n",
    "from pyspark.sql.avro.functions import from_avro, to_avro\n",
    "from pyspark.sql.functions import udf\n",
    "from pyspark.sql.types import (\n",
    "    StringType,\n",
    "    BinaryType,\n",
    "    TimestampType,\n",
    "    IntegerType,\n",
    "    DoubleType,\n",
    ")\n",
    "from pyspark.sql import DataFrame\n",
    "from pyspark.sql.functions import col, when, regexp_extract\n",
    "from confluent_kafka.schema_registry import SchemaRegistryClient, RegisteredSchema"
   ]
  },
  {
   "cell_type": "code",
   "execution_count": null,
   "id": "1ae572d8",
   "metadata": {},
   "outputs": [],
   "source": [
    "# ========== CONFIGURATION ==========\n",
    "TOPIC = \"cdr.voice\"\n",
    "SUBJECT = f\"{TOPIC}-value\"  # Confluent's default subject naming strategy\n",
    "TOPIC_SINK = \"cdr.ok\"\n",
    "SUBJECT_SINK = f\"{TOPIC_SINK}-value\"  # Confluent's default subject naming strategy\n",
    "KAFKA_BOOTSTRAP_SERVERS = \"localhost:9092,localhost:9093,localhost:9094\"\n",
    "SCHEMA_REGISTRY_URL = \"http://localhost:8081\""
   ]
  },
  {
   "cell_type": "code",
   "execution_count": null,
   "id": "5794e207",
   "metadata": {},
   "outputs": [],
   "source": [
    "spark = (\n",
    "    SparkSession.builder.appName(\"streaming_mediation_pipeline\")\n",
    "    .config(\n",
    "        \"spark.jars.packages\",\n",
    "        \"org.apache.spark:spark-sql-kafka-0-10_2.12:3.5.5,\"\n",
    "        \"org.apache.spark:spark-avro_2.12:3.5.5\",\n",
    "    )\n",
    "    .getOrCreate()\n",
    ")\n",
    "spark.sparkContext.setLogLevel(\"WARN\")"
   ]
  },
  {
   "cell_type": "code",
   "execution_count": null,
   "id": "2531d544",
   "metadata": {},
   "outputs": [],
   "source": [
    "binary_to_string_udf = F.udf(lambda x: str(int.from_bytes(x, \"big\")), StringType())\n",
    "int_to_binary_udf = F.udf(\n",
    "    lambda value, byte_size: (value).to_bytes(byte_size, byteorder=\"big\"), BinaryType()\n",
    ")"
   ]
  },
  {
   "cell_type": "code",
   "execution_count": null,
   "id": "13f8f6b6",
   "metadata": {},
   "outputs": [],
   "source": [
    "def __normalize_msisdn(msisdn: str) -> str:\n",
    "    \"\"\"\n",
    "    Normalize Moroccan MSISDN:\n",
    "    - Remove spaces, dashes, parentheses, etc.\n",
    "    - Convert local format (06/07) to international (2126/2127)\n",
    "    \"\"\"\n",
    "    if msisdn is None:\n",
    "        return None\n",
    "    digits = re.sub(r\"\\D\", \"\", msisdn)\n",
    "\n",
    "    if digits.startswith(\"06\") or digits.startswith(\"07\"):\n",
    "        digits = \"212\" + digits[1:]\n",
    "    elif digits.startswith(\"00212\"):\n",
    "        digits = digits[2:]\n",
    "    elif digits.startswith(\"212\"):\n",
    "        pass\n",
    "    elif digits.startswith(\"+212\"):\n",
    "        digits = digits[1:]\n",
    "\n",
    "    return digits if digits.startswith(\"212\") else None\n",
    "\n",
    "\n",
    "normalize_msisdn_udf = udf(__normalize_msisdn, StringType())\n",
    "\n",
    "\n",
    "def normalize(df: DataFrame) -> DataFrame:\n",
    "    \"\"\"\n",
    "    Normalize raw CDR/EDR DataFrame to the unified normalized schema.\n",
    "    \"\"\"\n",
    "\n",
    "    optional_fields = [\"sender_id\", \"receiver_id\", \"user_id\", \"data_volume_mb\"]\n",
    "    for field in optional_fields:\n",
    "        if field not in df.columns:\n",
    "            df = df.withColumn(field, F.lit(None))\n",
    "    return (\n",
    "        df.withColumn(\n",
    "            \"msisdn\",\n",
    "            when(col(\"record_type\") == \"voice\", col(\"caller_id\"))\n",
    "            .when(col(\"record_type\") == \"sms\", col(\"sender_id\"))\n",
    "            .when(col(\"record_type\") == \"data\", col(\"user_id\"))\n",
    "            .otherwise(None),\n",
    "        )\n",
    "        .withColumn(\"msisdn\", normalize_msisdn_udf(col(\"msisdn\")))\n",
    "        .withColumn(\n",
    "            \"counterparty_msisdn\",\n",
    "            when(col(\"record_type\") == \"voice\", col(\"callee_id\"))\n",
    "            .when(col(\"record_type\") == \"sms\", col(\"receiver_id\"))\n",
    "            .otherwise(F.lit(None)),\n",
    "        )\n",
    "        .withColumn(\n",
    "            \"counterparty_msisdn\", normalize_msisdn_udf(col(\"counterparty_msisdn\"))\n",
    "        )\n",
    "        .withColumn(\n",
    "            \"duration_sec\",\n",
    "            when(col(\"record_type\") == \"voice\", col(\"duration_sec\"))\n",
    "            .when(col(\"record_type\") == \"data\", col(\"duration_sec\"))\n",
    "            .otherwise(F.lit(None)),\n",
    "        )\n",
    "        .withColumn(\n",
    "            \"data_volume_mb\",\n",
    "            when(col(\"record_type\") == \"data\", col(\"data_volume_mb\")).otherwise(\n",
    "                F.lit(None)\n",
    "            ),\n",
    "        )\n",
    "        .withColumn(\"status\", F.lit(\"ok\"))\n",
    "        .select(\n",
    "            \"uuid\",\n",
    "            \"record_type\",\n",
    "            \"timestamp\",\n",
    "            \"msisdn\",\n",
    "            \"counterparty_msisdn\",\n",
    "            \"duration_sec\",\n",
    "            \"data_volume_mb\",\n",
    "            \"cell_id\",\n",
    "            \"technology\",\n",
    "            \"status\",\n",
    "        )\n",
    "    )\n",
    "\n",
    "\n",
    "def tag_cdrs(df: DataFrame) -> DataFrame:\n",
    "    \"\"\"\n",
    "    Tags CDRs with 'status':\n",
    "    - 'error': if msisdn is missing/invalid or both uuid and timestamp missing\n",
    "    - 'invalid_usage': if usage fields are corrupt\n",
    "    - 'partial': if metadata (cell_id, technology) is missing or malformed\n",
    "    \"\"\"\n",
    "    msisdn_valid_regex = r\"^212[6-7][0-9]{8}$\"\n",
    "    cellid_pattern = r\"^[a-z][a-z_]*?_[0-9]*$\"\n",
    "\n",
    "    return df.withColumn(\n",
    "        \"status\",\n",
    "        when(\n",
    "            col(\"msisdn\").isNull()\n",
    "            | (regexp_extract(col(\"msisdn\"), msisdn_valid_regex, 0) == \"\")\n",
    "            | (col(\"uuid\").isNull() & col(\"timestamp\").isNull()),\n",
    "            \"error\",\n",
    "        )\n",
    "        .when(\n",
    "            (col(\"record_type\") == \"voice\")\n",
    "            & (\n",
    "                col(\"duration_sec\").isNull()\n",
    "                | (col(\"duration_sec\") < 0)\n",
    "                | (col(\"duration_sec\") > 7200)\n",
    "            ),\n",
    "            \"invalid_usage\",\n",
    "        )\n",
    "        .when(\n",
    "            (col(\"record_type\") == \"data\")\n",
    "            & (\n",
    "                col(\"data_volume_mb\").isNull()\n",
    "                | (col(\"duration_sec\") < 0)\n",
    "                | (col(\"duration_sec\") > 86400)\n",
    "                | (col(\"data_volume_mb\") < 0)\n",
    "                | (col(\"data_volume_mb\") > 100000)\n",
    "            ),\n",
    "            \"invalid_usage\",\n",
    "        )\n",
    "        .when(\n",
    "            col(\"cell_id\").isNull()\n",
    "            | (regexp_extract(col(\"cell_id\"), cellid_pattern, 0) == \"\")\n",
    "            | col(\"technology\").isNull()\n",
    "            | col(\"timestamp\").isNull()\n",
    "            | col(\"uuid\").isNull(),\n",
    "            \"partial\",\n",
    "        )\n",
    "        .otherwise(\"ok\"),\n",
    "    )\n",
    "\n",
    "\n",
    "def deduplicate_streaming(df: DataFrame, watermark_delay=\"30 minutes\") -> DataFrame:\n",
    "    \"\"\"\n",
    "    Deduplicate streaming CDRs in real time:\n",
    "    - Keeps first UUID seen within the watermark window.\n",
    "    - Drops late or duplicate UUIDs.\n",
    "    - Requires 'uuid' and 'timestamp' fields.\n",
    "    \"\"\"\n",
    "    return df.withWatermark(\"timestamp\", watermark_delay).dropDuplicates([\"uuid\"])\n"
   ]
  },
  {
   "cell_type": "code",
   "execution_count": null,
   "id": "bf200a06",
   "metadata": {},
   "outputs": [],
   "source": [
    "# ========== SCHEMA RESOLVER ==========\n",
    "@lru_cache()\n",
    "def get_latest_schema_str(subject: str) -> RegisteredSchema:\n",
    "    \"\"\"\n",
    "    Get the latest schema string from the schema registry.\n",
    "    \"\"\"\n",
    "    sr = SchemaRegistryClient({\"url\": SCHEMA_REGISTRY_URL})\n",
    "    return sr.get_latest_version(subject)\n"
   ]
  },
  {
   "cell_type": "code",
   "execution_count": null,
   "id": "18d53f65",
   "metadata": {},
   "outputs": [],
   "source": [
    "schema_str = get_latest_schema_str(SUBJECT).schema.schema_str\n",
    "schema_str"
   ]
  },
  {
   "cell_type": "code",
   "execution_count": null,
   "id": "ac2e48d6",
   "metadata": {},
   "outputs": [],
   "source": [
    "kafka_df = (\n",
    "    spark.readStream.format(\"kafka\")\n",
    "    .option(\"kafka.bootstrap.servers\", KAFKA_BOOTSTRAP_SERVERS)\n",
    "    .option(\"subscribe\", TOPIC)\n",
    "    .option(\"startingOffsets\", \"earliest\")\n",
    "    .load()\n",
    ")"
   ]
  },
  {
   "cell_type": "code",
   "execution_count": null,
   "id": "8a9468f6",
   "metadata": {},
   "outputs": [],
   "source": [
    "kafka_df = kafka_df.withColumn(\n",
    "    \"payload\", F.expr(\"substring(value, 6, length(value) - 5)\")\n",
    ").withColumn(\"schemaId\", binary_to_string_udf(F.expr(\"substring(value, 2, 4)\")))\n"
   ]
  },
  {
   "cell_type": "code",
   "execution_count": null,
   "id": "ffead1b9",
   "metadata": {},
   "outputs": [],
   "source": [
    "# ========== DESERIALIZE AVRO PAYLOAD ==========\n",
    "kafka_df.printSchema()\n",
    "decoded_df = kafka_df.select(from_avro(F.col(\"payload\"), schema_str).alias(\"record\"))\n",
    "decoded_df.printSchema()\n",
    "# Flatten struct fields from \"record\"\n",
    "result_df = decoded_df.select(\"record.*\")\n",
    "result_df.printSchema()\n",
    "\n",
    "result_df = result_df.withColumn(\"uuid\", F.expr(\"uuid()\")).withColumn(\n",
    "    \"timestamp\", F.to_timestamp(F.col(\"timestamp\"), \"yyyy-MM-dd'T'HH:mm:ss.SSS'Z'\")\n",
    ")\n",
    "result_df.printSchema()\n",
    "# ========== NORMALIZE ==========\n",
    "result_df = normalize(result_df)\n",
    "result_df.printSchema()\n",
    "result_df = tag_cdrs(result_df)\n",
    "result_df.printSchema()"
   ]
  },
  {
   "cell_type": "code",
   "execution_count": null,
   "id": "df6f6bf0",
   "metadata": {},
   "outputs": [],
   "source": [
    "result_df = result_df.select(\n",
    "    col(\"uuid\").cast(StringType()),\n",
    "    col(\"record_type\").cast(StringType()),\n",
    "    col(\"timestamp\").cast(TimestampType()),\n",
    "    col(\"msisdn\").cast(StringType()),\n",
    "    col(\"counterparty_msisdn\").cast(StringType()),\n",
    "    col(\"duration_sec\").cast(IntegerType()),\n",
    "    col(\"data_volume_mb\").cast(DoubleType()),\n",
    "    col(\"cell_id\").cast(StringType()),\n",
    "    col(\"technology\").cast(StringType()),\n",
    "    col(\"status\").cast(StringType()),\n",
    ")"
   ]
  },
  {
   "cell_type": "code",
   "execution_count": null,
   "id": "cccdab48",
   "metadata": {},
   "outputs": [
    {
     "name": "stderr",
     "output_type": "stream",
     "text": [
      "25/05/05 23:17:12 WARN KafkaDataConsumer: KafkaDataConsumer is not running in UninterruptibleThread. It may hang when KafkaDataConsumer's methods are interrupted because of KAFKA-1894\n",
      "                                                                                \r"
     ]
    },
    {
     "name": "stdout",
     "output_type": "stream",
     "text": [
      "-------------------------------------------\n",
      "Batch: 116\n",
      "-------------------------------------------\n",
      "+----+-----------+---------+------+-------------------+------------+--------------+-------+----------+------+\n",
      "|uuid|record_type|timestamp|msisdn|counterparty_msisdn|duration_sec|data_volume_mb|cell_id|technology|status|\n",
      "+----+-----------+---------+------+-------------------+------------+--------------+-------+----------+------+\n",
      "+----+-----------+---------+------+-------------------+------------+--------------+-------+----------+------+\n",
      "\n"
     ]
    },
    {
     "name": "stderr",
     "output_type": "stream",
     "text": [
      "25/05/05 23:17:13 WARN KafkaDataConsumer: KafkaDataConsumer is not running in UninterruptibleThread. It may hang when KafkaDataConsumer's methods are interrupted because of KAFKA-1894\n"
     ]
    },
    {
     "name": "stdout",
     "output_type": "stream",
     "text": [
      "-------------------------------------------\n",
      "Batch: 117\n",
      "-------------------------------------------\n",
      "+------------------------------------+-----------+-----------------------+------+-------------------+------------+--------------+----------+----------+------+\n",
      "|uuid                                |record_type|timestamp              |msisdn|counterparty_msisdn|duration_sec|data_volume_mb|cell_id   |technology|status|\n",
      "+------------------------------------+-----------+-----------------------+------+-------------------+------------+--------------+----------+----------+------+\n",
      "|e24a1704-47fc-4bfb-b303-4623c8312248|voice      |2025-05-05 23:17:12.997|NULL  |212672640855       |627         |NULL          |tisgdal_34|3G        |error |\n",
      "+------------------------------------+-----------+-----------------------+------+-------------------+------------+--------------+----------+----------+------+\n",
      "\n"
     ]
    },
    {
     "name": "stderr",
     "output_type": "stream",
     "text": [
      "25/05/05 23:17:14 WARN KafkaDataConsumer: KafkaDataConsumer is not running in UninterruptibleThread. It may hang when KafkaDataConsumer's methods are interrupted because of KAFKA-1894\n"
     ]
    },
    {
     "name": "stdout",
     "output_type": "stream",
     "text": [
      "-------------------------------------------\n",
      "Batch: 118\n",
      "-------------------------------------------\n",
      "+----+-----------+---------+------+-------------------+------------+--------------+-------+----------+------+\n",
      "|uuid|record_type|timestamp|msisdn|counterparty_msisdn|duration_sec|data_volume_mb|cell_id|technology|status|\n",
      "+----+-----------+---------+------+-------------------+------------+--------------+-------+----------+------+\n",
      "+----+-----------+---------+------+-------------------+------------+--------------+-------+----------+------+\n",
      "\n"
     ]
    },
    {
     "name": "stderr",
     "output_type": "stream",
     "text": [
      "25/05/05 23:17:15 WARN KafkaDataConsumer: KafkaDataConsumer is not running in UninterruptibleThread. It may hang when KafkaDataConsumer's methods are interrupted because of KAFKA-1894\n",
      "25/05/05 23:17:15 WARN KafkaDataConsumer: KafkaDataConsumer is not running in UninterruptibleThread. It may hang when KafkaDataConsumer's methods are interrupted because of KAFKA-1894\n",
      "                                                                                \r"
     ]
    },
    {
     "name": "stdout",
     "output_type": "stream",
     "text": [
      "-------------------------------------------\n",
      "Batch: 119\n",
      "-------------------------------------------\n",
      "+----+-----------+---------+------+-------------------+------------+--------------+-------+----------+------+\n",
      "|uuid|record_type|timestamp|msisdn|counterparty_msisdn|duration_sec|data_volume_mb|cell_id|technology|status|\n",
      "+----+-----------+---------+------+-------------------+------------+--------------+-------+----------+------+\n",
      "+----+-----------+---------+------+-------------------+------------+--------------+-------+----------+------+\n",
      "\n"
     ]
    },
    {
     "name": "stderr",
     "output_type": "stream",
     "text": [
      "25/05/05 23:17:17 WARN KafkaDataConsumer: KafkaDataConsumer is not running in UninterruptibleThread. It may hang when KafkaDataConsumer's methods are interrupted because of KAFKA-1894\n",
      "25/05/05 23:17:17 WARN KafkaDataConsumer: KafkaDataConsumer is not running in UninterruptibleThread. It may hang when KafkaDataConsumer's methods are interrupted because of KAFKA-1894\n",
      "                                                                                \r"
     ]
    },
    {
     "name": "stdout",
     "output_type": "stream",
     "text": [
      "-------------------------------------------\n",
      "Batch: 120\n",
      "-------------------------------------------\n",
      "+----+-----------+---------+------+-------------------+------------+--------------+-------+----------+------+\n",
      "|uuid|record_type|timestamp|msisdn|counterparty_msisdn|duration_sec|data_volume_mb|cell_id|technology|status|\n",
      "+----+-----------+---------+------+-------------------+------------+--------------+-------+----------+------+\n",
      "+----+-----------+---------+------+-------------------+------------+--------------+-------+----------+------+\n",
      "\n"
     ]
    },
    {
     "name": "stderr",
     "output_type": "stream",
     "text": [
      "25/05/05 23:17:18 WARN KafkaDataConsumer: KafkaDataConsumer is not running in UninterruptibleThread. It may hang when KafkaDataConsumer's methods are interrupted because of KAFKA-1894\n",
      "                                                                                \r"
     ]
    },
    {
     "name": "stdout",
     "output_type": "stream",
     "text": [
      "-------------------------------------------\n",
      "Batch: 121\n",
      "-------------------------------------------\n",
      "+------------------------------------+-----------+-----------------------+------+-------------------+------------+--------------+-----------------+----------+------+\n",
      "|uuid                                |record_type|timestamp              |msisdn|counterparty_msisdn|duration_sec|data_volume_mb|cell_id          |technology|status|\n",
      "+------------------------------------+-----------+-----------------------+------+-------------------+------------+--------------+-----------------+----------+------+\n",
      "|556d2d88-09b3-4665-a9e0-4c786811f955|voice      |2025-05-05 23:17:18.054|NULL  |212796128776       |335         |NULL          |moulay_yaacoub_55|4G        |error |\n",
      "+------------------------------------+-----------+-----------------------+------+-------------------+------------+--------------+-----------------+----------+------+\n",
      "\n"
     ]
    },
    {
     "name": "stderr",
     "output_type": "stream",
     "text": [
      "25/05/05 23:17:19 WARN KafkaDataConsumer: KafkaDataConsumer is not running in UninterruptibleThread. It may hang when KafkaDataConsumer's methods are interrupted because of KAFKA-1894\n"
     ]
    },
    {
     "name": "stdout",
     "output_type": "stream",
     "text": [
      "-------------------------------------------\n",
      "Batch: 122\n",
      "-------------------------------------------\n",
      "+----+-----------+---------+------+-------------------+------------+--------------+-------+----------+------+\n",
      "|uuid|record_type|timestamp|msisdn|counterparty_msisdn|duration_sec|data_volume_mb|cell_id|technology|status|\n",
      "+----+-----------+---------+------+-------------------+------------+--------------+-------+----------+------+\n",
      "+----+-----------+---------+------+-------------------+------------+--------------+-------+----------+------+\n",
      "\n"
     ]
    },
    {
     "name": "stderr",
     "output_type": "stream",
     "text": [
      "25/05/05 23:17:20 WARN KafkaDataConsumer: KafkaDataConsumer is not running in UninterruptibleThread. It may hang when KafkaDataConsumer's methods are interrupted because of KAFKA-1894\n",
      "25/05/05 23:17:20 WARN KafkaDataConsumer: KafkaDataConsumer is not running in UninterruptibleThread. It may hang when KafkaDataConsumer's methods are interrupted because of KAFKA-1894\n"
     ]
    },
    {
     "name": "stdout",
     "output_type": "stream",
     "text": [
      "-------------------------------------------\n",
      "Batch: 123\n",
      "-------------------------------------------\n",
      "+----+-----------+---------+------+-------------------+------------+--------------+-------+----------+------+\n",
      "|uuid|record_type|timestamp|msisdn|counterparty_msisdn|duration_sec|data_volume_mb|cell_id|technology|status|\n",
      "+----+-----------+---------+------+-------------------+------------+--------------+-------+----------+------+\n",
      "+----+-----------+---------+------+-------------------+------------+--------------+-------+----------+------+\n",
      "\n"
     ]
    },
    {
     "name": "stderr",
     "output_type": "stream",
     "text": [
      "25/05/05 23:17:21 WARN KafkaDataConsumer: KafkaDataConsumer is not running in UninterruptibleThread. It may hang when KafkaDataConsumer's methods are interrupted because of KAFKA-1894\n",
      "                                                                                \r"
     ]
    },
    {
     "name": "stdout",
     "output_type": "stream",
     "text": [
      "-------------------------------------------\n",
      "Batch: 124\n",
      "-------------------------------------------\n",
      "+----+-----------+---------+------+-------------------+------------+--------------+-------+----------+------+\n",
      "|uuid|record_type|timestamp|msisdn|counterparty_msisdn|duration_sec|data_volume_mb|cell_id|technology|status|\n",
      "+----+-----------+---------+------+-------------------+------------+--------------+-------+----------+------+\n",
      "+----+-----------+---------+------+-------------------+------------+--------------+-------+----------+------+\n",
      "\n"
     ]
    },
    {
     "name": "stderr",
     "output_type": "stream",
     "text": [
      "25/05/05 23:17:23 WARN KafkaDataConsumer: KafkaDataConsumer is not running in UninterruptibleThread. It may hang when KafkaDataConsumer's methods are interrupted because of KAFKA-1894\n"
     ]
    },
    {
     "name": "stdout",
     "output_type": "stream",
     "text": [
      "-------------------------------------------\n",
      "Batch: 125\n",
      "-------------------------------------------\n",
      "+----+-----------+---------+------+-------------------+------------+--------------+-------+----------+------+\n",
      "|uuid|record_type|timestamp|msisdn|counterparty_msisdn|duration_sec|data_volume_mb|cell_id|technology|status|\n",
      "+----+-----------+---------+------+-------------------+------------+--------------+-------+----------+------+\n",
      "+----+-----------+---------+------+-------------------+------------+--------------+-------+----------+------+\n",
      "\n"
     ]
    },
    {
     "name": "stderr",
     "output_type": "stream",
     "text": [
      "25/05/05 23:17:23 WARN KafkaDataConsumer: KafkaDataConsumer is not running in UninterruptibleThread. It may hang when KafkaDataConsumer's methods are interrupted because of KAFKA-1894\n"
     ]
    },
    {
     "name": "stdout",
     "output_type": "stream",
     "text": [
      "-------------------------------------------\n",
      "Batch: 126\n",
      "-------------------------------------------\n",
      "+----+-----------+---------+------+-------------------+------------+--------------+-------+----------+------+\n",
      "|uuid|record_type|timestamp|msisdn|counterparty_msisdn|duration_sec|data_volume_mb|cell_id|technology|status|\n",
      "+----+-----------+---------+------+-------------------+------------+--------------+-------+----------+------+\n",
      "+----+-----------+---------+------+-------------------+------------+--------------+-------+----------+------+\n",
      "\n"
     ]
    },
    {
     "name": "stderr",
     "output_type": "stream",
     "text": [
      "25/05/05 23:17:24 WARN KafkaDataConsumer: KafkaDataConsumer is not running in UninterruptibleThread. It may hang when KafkaDataConsumer's methods are interrupted because of KAFKA-1894\n",
      "25/05/05 23:17:24 WARN KafkaDataConsumer: KafkaDataConsumer is not running in UninterruptibleThread. It may hang when KafkaDataConsumer's methods are interrupted because of KAFKA-1894\n"
     ]
    },
    {
     "name": "stdout",
     "output_type": "stream",
     "text": [
      "-------------------------------------------\n",
      "Batch: 127\n",
      "-------------------------------------------\n",
      "+----+-----------+---------+------+-------------------+------------+--------------+-------+----------+------+\n",
      "|uuid|record_type|timestamp|msisdn|counterparty_msisdn|duration_sec|data_volume_mb|cell_id|technology|status|\n",
      "+----+-----------+---------+------+-------------------+------------+--------------+-------+----------+------+\n",
      "+----+-----------+---------+------+-------------------+------------+--------------+-------+----------+------+\n",
      "\n"
     ]
    },
    {
     "name": "stderr",
     "output_type": "stream",
     "text": [
      "25/05/05 23:17:25 WARN KafkaDataConsumer: KafkaDataConsumer is not running in UninterruptibleThread. It may hang when KafkaDataConsumer's methods are interrupted because of KAFKA-1894\n"
     ]
    },
    {
     "name": "stdout",
     "output_type": "stream",
     "text": [
      "-------------------------------------------\n",
      "Batch: 128\n",
      "-------------------------------------------\n",
      "+----+-----------+---------+------+-------------------+------------+--------------+-------+----------+------+\n",
      "|uuid|record_type|timestamp|msisdn|counterparty_msisdn|duration_sec|data_volume_mb|cell_id|technology|status|\n",
      "+----+-----------+---------+------+-------------------+------------+--------------+-------+----------+------+\n",
      "+----+-----------+---------+------+-------------------+------------+--------------+-------+----------+------+\n",
      "\n"
     ]
    },
    {
     "name": "stderr",
     "output_type": "stream",
     "text": [
      "25/05/05 23:17:26 WARN KafkaDataConsumer: KafkaDataConsumer is not running in UninterruptibleThread. It may hang when KafkaDataConsumer's methods are interrupted because of KAFKA-1894\n"
     ]
    },
    {
     "name": "stdout",
     "output_type": "stream",
     "text": [
      "-------------------------------------------\n",
      "Batch: 129\n",
      "-------------------------------------------\n",
      "+----+-----------+---------+------+-------------------+------------+--------------+-------+----------+------+\n",
      "|uuid|record_type|timestamp|msisdn|counterparty_msisdn|duration_sec|data_volume_mb|cell_id|technology|status|\n",
      "+----+-----------+---------+------+-------------------+------------+--------------+-------+----------+------+\n",
      "+----+-----------+---------+------+-------------------+------------+--------------+-------+----------+------+\n",
      "\n"
     ]
    },
    {
     "name": "stderr",
     "output_type": "stream",
     "text": [
      "25/05/05 23:17:27 WARN KafkaDataConsumer: KafkaDataConsumer is not running in UninterruptibleThread. It may hang when KafkaDataConsumer's methods are interrupted because of KAFKA-1894\n"
     ]
    },
    {
     "name": "stdout",
     "output_type": "stream",
     "text": [
      "-------------------------------------------\n",
      "Batch: 130\n",
      "-------------------------------------------\n",
      "+----+-----------+---------+------+-------------------+------------+--------------+-------+----------+------+\n",
      "|uuid|record_type|timestamp|msisdn|counterparty_msisdn|duration_sec|data_volume_mb|cell_id|technology|status|\n",
      "+----+-----------+---------+------+-------------------+------------+--------------+-------+----------+------+\n",
      "+----+-----------+---------+------+-------------------+------------+--------------+-------+----------+------+\n",
      "\n"
     ]
    },
    {
     "name": "stderr",
     "output_type": "stream",
     "text": [
      "25/05/05 23:17:27 WARN KafkaDataConsumer: KafkaDataConsumer is not running in UninterruptibleThread. It may hang when KafkaDataConsumer's methods are interrupted because of KAFKA-1894\n",
      "25/05/05 23:17:27 WARN KafkaDataConsumer: KafkaDataConsumer is not running in UninterruptibleThread. It may hang when KafkaDataConsumer's methods are interrupted because of KAFKA-1894\n"
     ]
    },
    {
     "name": "stdout",
     "output_type": "stream",
     "text": [
      "-------------------------------------------\n",
      "Batch: 131\n",
      "-------------------------------------------\n",
      "+------------------------------------+-----------+-----------------------+------+-------------------+------------+--------------+--------------+----------+------+\n",
      "|uuid                                |record_type|timestamp              |msisdn|counterparty_msisdn|duration_sec|data_volume_mb|cell_id       |technology|status|\n",
      "+------------------------------------+-----------+-----------------------+------+-------------------+------------+--------------+--------------+----------+------+\n",
      "|af26f287-dddb-4509-9941-68a7d759598f|voice      |2025-05-05 23:17:27.156|NULL  |212738085525       |1452        |NULL          |oued_heimer_22|4G        |error |\n",
      "+------------------------------------+-----------+-----------------------+------+-------------------+------------+--------------+--------------+----------+------+\n",
      "\n"
     ]
    },
    {
     "name": "stderr",
     "output_type": "stream",
     "text": [
      "25/05/05 23:17:28 WARN KafkaDataConsumer: KafkaDataConsumer is not running in UninterruptibleThread. It may hang when KafkaDataConsumer's methods are interrupted because of KAFKA-1894\n",
      "                                                                                \r"
     ]
    },
    {
     "name": "stdout",
     "output_type": "stream",
     "text": [
      "-------------------------------------------\n",
      "Batch: 132\n",
      "-------------------------------------------\n",
      "+----+-----------+---------+------+-------------------+------------+--------------+-------+----------+------+\n",
      "|uuid|record_type|timestamp|msisdn|counterparty_msisdn|duration_sec|data_volume_mb|cell_id|technology|status|\n",
      "+----+-----------+---------+------+-------------------+------------+--------------+-------+----------+------+\n",
      "+----+-----------+---------+------+-------------------+------------+--------------+-------+----------+------+\n",
      "\n"
     ]
    },
    {
     "name": "stderr",
     "output_type": "stream",
     "text": [
      "25/05/05 23:17:30 WARN KafkaDataConsumer: KafkaDataConsumer is not running in UninterruptibleThread. It may hang when KafkaDataConsumer's methods are interrupted because of KAFKA-1894\n",
      "25/05/05 23:17:30 WARN KafkaDataConsumer: KafkaDataConsumer is not running in UninterruptibleThread. It may hang when KafkaDataConsumer's methods are interrupted because of KAFKA-1894\n",
      "                                                                                \r"
     ]
    },
    {
     "name": "stdout",
     "output_type": "stream",
     "text": [
      "-------------------------------------------\n",
      "Batch: 133\n",
      "-------------------------------------------\n",
      "+----+-----------+---------+------+-------------------+------------+--------------+-------+----------+------+\n",
      "|uuid|record_type|timestamp|msisdn|counterparty_msisdn|duration_sec|data_volume_mb|cell_id|technology|status|\n",
      "+----+-----------+---------+------+-------------------+------------+--------------+-------+----------+------+\n",
      "+----+-----------+---------+------+-------------------+------------+--------------+-------+----------+------+\n",
      "\n"
     ]
    },
    {
     "name": "stderr",
     "output_type": "stream",
     "text": [
      "25/05/05 23:17:31 WARN KafkaDataConsumer: KafkaDataConsumer is not running in UninterruptibleThread. It may hang when KafkaDataConsumer's methods are interrupted because of KAFKA-1894\n",
      "25/05/05 23:17:31 WARN KafkaDataConsumer: KafkaDataConsumer is not running in UninterruptibleThread. It may hang when KafkaDataConsumer's methods are interrupted because of KAFKA-1894\n",
      "                                                                                \r"
     ]
    },
    {
     "name": "stdout",
     "output_type": "stream",
     "text": [
      "-------------------------------------------\n",
      "Batch: 134\n",
      "-------------------------------------------\n",
      "+----+-----------+---------+------+-------------------+------------+--------------+-------+----------+------+\n",
      "|uuid|record_type|timestamp|msisdn|counterparty_msisdn|duration_sec|data_volume_mb|cell_id|technology|status|\n",
      "+----+-----------+---------+------+-------------------+------------+--------------+-------+----------+------+\n",
      "+----+-----------+---------+------+-------------------+------------+--------------+-------+----------+------+\n",
      "\n"
     ]
    },
    {
     "name": "stderr",
     "output_type": "stream",
     "text": [
      "25/05/05 23:17:32 WARN KafkaDataConsumer: KafkaDataConsumer is not running in UninterruptibleThread. It may hang when KafkaDataConsumer's methods are interrupted because of KAFKA-1894\n",
      "25/05/05 23:17:32 WARN KafkaDataConsumer: KafkaDataConsumer is not running in UninterruptibleThread. It may hang when KafkaDataConsumer's methods are interrupted because of KAFKA-1894\n",
      "                                                                                \r"
     ]
    },
    {
     "name": "stdout",
     "output_type": "stream",
     "text": [
      "-------------------------------------------\n",
      "Batch: 135\n",
      "-------------------------------------------\n",
      "+----+-----------+---------+------+-------------------+------------+--------------+-------+----------+------+\n",
      "|uuid|record_type|timestamp|msisdn|counterparty_msisdn|duration_sec|data_volume_mb|cell_id|technology|status|\n",
      "+----+-----------+---------+------+-------------------+------------+--------------+-------+----------+------+\n",
      "+----+-----------+---------+------+-------------------+------------+--------------+-------+----------+------+\n",
      "\n"
     ]
    },
    {
     "name": "stderr",
     "output_type": "stream",
     "text": [
      "25/05/05 23:17:33 WARN KafkaDataConsumer: KafkaDataConsumer is not running in UninterruptibleThread. It may hang when KafkaDataConsumer's methods are interrupted because of KAFKA-1894\n",
      "25/05/05 23:17:33 WARN KafkaDataConsumer: KafkaDataConsumer is not running in UninterruptibleThread. It may hang when KafkaDataConsumer's methods are interrupted because of KAFKA-1894\n",
      "25/05/05 23:17:33 WARN KafkaDataConsumer: KafkaDataConsumer is not running in UninterruptibleThread. It may hang when KafkaDataConsumer's methods are interrupted because of KAFKA-1894\n",
      "                                                                                \r"
     ]
    },
    {
     "name": "stdout",
     "output_type": "stream",
     "text": [
      "-------------------------------------------\n",
      "Batch: 136\n",
      "-------------------------------------------\n",
      "+----+-----------+---------+------+-------------------+------------+--------------+-------+----------+------+\n",
      "|uuid|record_type|timestamp|msisdn|counterparty_msisdn|duration_sec|data_volume_mb|cell_id|technology|status|\n",
      "+----+-----------+---------+------+-------------------+------------+--------------+-------+----------+------+\n",
      "+----+-----------+---------+------+-------------------+------------+--------------+-------+----------+------+\n",
      "\n"
     ]
    },
    {
     "name": "stderr",
     "output_type": "stream",
     "text": [
      "25/05/05 23:17:35 WARN KafkaDataConsumer: KafkaDataConsumer is not running in UninterruptibleThread. It may hang when KafkaDataConsumer's methods are interrupted because of KAFKA-1894\n"
     ]
    },
    {
     "name": "stdout",
     "output_type": "stream",
     "text": [
      "-------------------------------------------\n",
      "Batch: 137\n",
      "-------------------------------------------\n",
      "+----+-----------+---------+------+-------------------+------------+--------------+-------+----------+------+\n",
      "|uuid|record_type|timestamp|msisdn|counterparty_msisdn|duration_sec|data_volume_mb|cell_id|technology|status|\n",
      "+----+-----------+---------+------+-------------------+------------+--------------+-------+----------+------+\n",
      "+----+-----------+---------+------+-------------------+------------+--------------+-------+----------+------+\n",
      "\n"
     ]
    },
    {
     "name": "stderr",
     "output_type": "stream",
     "text": [
      "25/05/05 23:17:37 WARN KafkaDataConsumer: KafkaDataConsumer is not running in UninterruptibleThread. It may hang when KafkaDataConsumer's methods are interrupted because of KAFKA-1894\n"
     ]
    },
    {
     "name": "stdout",
     "output_type": "stream",
     "text": [
      "-------------------------------------------\n",
      "Batch: 138\n",
      "-------------------------------------------\n",
      "+----+-----------+---------+------+-------------------+------------+--------------+-------+----------+------+\n",
      "|uuid|record_type|timestamp|msisdn|counterparty_msisdn|duration_sec|data_volume_mb|cell_id|technology|status|\n",
      "+----+-----------+---------+------+-------------------+------------+--------------+-------+----------+------+\n",
      "+----+-----------+---------+------+-------------------+------------+--------------+-------+----------+------+\n",
      "\n"
     ]
    },
    {
     "name": "stderr",
     "output_type": "stream",
     "text": [
      "25/05/05 23:17:38 WARN KafkaDataConsumer: KafkaDataConsumer is not running in UninterruptibleThread. It may hang when KafkaDataConsumer's methods are interrupted because of KAFKA-1894\n",
      "                                                                                \r"
     ]
    },
    {
     "name": "stdout",
     "output_type": "stream",
     "text": [
      "-------------------------------------------\n",
      "Batch: 139\n",
      "-------------------------------------------\n",
      "+----+-----------+---------+------+-------------------+------------+--------------+-------+----------+------+\n",
      "|uuid|record_type|timestamp|msisdn|counterparty_msisdn|duration_sec|data_volume_mb|cell_id|technology|status|\n",
      "+----+-----------+---------+------+-------------------+------------+--------------+-------+----------+------+\n",
      "+----+-----------+---------+------+-------------------+------------+--------------+-------+----------+------+\n",
      "\n"
     ]
    },
    {
     "name": "stderr",
     "output_type": "stream",
     "text": [
      "25/05/05 23:17:39 WARN KafkaDataConsumer: KafkaDataConsumer is not running in UninterruptibleThread. It may hang when KafkaDataConsumer's methods are interrupted because of KAFKA-1894\n"
     ]
    },
    {
     "name": "stdout",
     "output_type": "stream",
     "text": [
      "-------------------------------------------\n",
      "Batch: 140\n",
      "-------------------------------------------\n",
      "+----+-----------+---------+------+-------------------+------------+--------------+-------+----------+------+\n",
      "|uuid|record_type|timestamp|msisdn|counterparty_msisdn|duration_sec|data_volume_mb|cell_id|technology|status|\n",
      "+----+-----------+---------+------+-------------------+------------+--------------+-------+----------+------+\n",
      "+----+-----------+---------+------+-------------------+------------+--------------+-------+----------+------+\n",
      "\n"
     ]
    },
    {
     "name": "stderr",
     "output_type": "stream",
     "text": [
      "25/05/05 23:17:39 WARN KafkaDataConsumer: KafkaDataConsumer is not running in UninterruptibleThread. It may hang when KafkaDataConsumer's methods are interrupted because of KAFKA-1894\n"
     ]
    },
    {
     "name": "stdout",
     "output_type": "stream",
     "text": [
      "-------------------------------------------\n",
      "Batch: 141\n",
      "-------------------------------------------\n",
      "+----+-----------+---------+------+-------------------+------------+--------------+-------+----------+------+\n",
      "|uuid|record_type|timestamp|msisdn|counterparty_msisdn|duration_sec|data_volume_mb|cell_id|technology|status|\n",
      "+----+-----------+---------+------+-------------------+------------+--------------+-------+----------+------+\n",
      "+----+-----------+---------+------+-------------------+------------+--------------+-------+----------+------+\n",
      "\n"
     ]
    },
    {
     "name": "stderr",
     "output_type": "stream",
     "text": [
      "25/05/05 23:17:40 WARN KafkaDataConsumer: KafkaDataConsumer is not running in UninterruptibleThread. It may hang when KafkaDataConsumer's methods are interrupted because of KAFKA-1894\n",
      "25/05/05 23:17:41 WARN KafkaDataConsumer: KafkaDataConsumer is not running in UninterruptibleThread. It may hang when KafkaDataConsumer's methods are interrupted because of KAFKA-1894\n"
     ]
    },
    {
     "name": "stdout",
     "output_type": "stream",
     "text": [
      "-------------------------------------------\n",
      "Batch: 142\n",
      "-------------------------------------------\n",
      "+----+-----------+---------+------+-------------------+------------+--------------+-------+----------+------+\n",
      "|uuid|record_type|timestamp|msisdn|counterparty_msisdn|duration_sec|data_volume_mb|cell_id|technology|status|\n",
      "+----+-----------+---------+------+-------------------+------------+--------------+-------+----------+------+\n",
      "+----+-----------+---------+------+-------------------+------------+--------------+-------+----------+------+\n",
      "\n"
     ]
    },
    {
     "name": "stderr",
     "output_type": "stream",
     "text": [
      "25/05/05 23:17:42 WARN KafkaDataConsumer: KafkaDataConsumer is not running in UninterruptibleThread. It may hang when KafkaDataConsumer's methods are interrupted because of KAFKA-1894\n"
     ]
    },
    {
     "name": "stdout",
     "output_type": "stream",
     "text": [
      "-------------------------------------------\n",
      "Batch: 143\n",
      "-------------------------------------------\n",
      "+----+-----------+---------+------+-------------------+------------+--------------+-------+----------+------+\n",
      "|uuid|record_type|timestamp|msisdn|counterparty_msisdn|duration_sec|data_volume_mb|cell_id|technology|status|\n",
      "+----+-----------+---------+------+-------------------+------------+--------------+-------+----------+------+\n",
      "+----+-----------+---------+------+-------------------+------------+--------------+-------+----------+------+\n",
      "\n"
     ]
    },
    {
     "name": "stderr",
     "output_type": "stream",
     "text": [
      "25/05/05 23:17:44 WARN KafkaDataConsumer: KafkaDataConsumer is not running in UninterruptibleThread. It may hang when KafkaDataConsumer's methods are interrupted because of KAFKA-1894\n"
     ]
    },
    {
     "name": "stdout",
     "output_type": "stream",
     "text": [
      "-------------------------------------------\n",
      "Batch: 144\n",
      "-------------------------------------------\n",
      "+----+-----------+---------+------+-------------------+------------+--------------+-------+----------+------+\n",
      "|uuid|record_type|timestamp|msisdn|counterparty_msisdn|duration_sec|data_volume_mb|cell_id|technology|status|\n",
      "+----+-----------+---------+------+-------------------+------------+--------------+-------+----------+------+\n",
      "+----+-----------+---------+------+-------------------+------------+--------------+-------+----------+------+\n",
      "\n"
     ]
    },
    {
     "name": "stderr",
     "output_type": "stream",
     "text": [
      "25/05/05 23:17:46 WARN KafkaDataConsumer: KafkaDataConsumer is not running in UninterruptibleThread. It may hang when KafkaDataConsumer's methods are interrupted because of KAFKA-1894\n"
     ]
    },
    {
     "name": "stdout",
     "output_type": "stream",
     "text": [
      "-------------------------------------------\n",
      "Batch: 145\n",
      "-------------------------------------------\n",
      "+----+-----------+---------+------+-------------------+------------+--------------+-------+----------+------+\n",
      "|uuid|record_type|timestamp|msisdn|counterparty_msisdn|duration_sec|data_volume_mb|cell_id|technology|status|\n",
      "+----+-----------+---------+------+-------------------+------------+--------------+-------+----------+------+\n",
      "+----+-----------+---------+------+-------------------+------------+--------------+-------+----------+------+\n",
      "\n"
     ]
    },
    {
     "name": "stderr",
     "output_type": "stream",
     "text": [
      "25/05/05 23:17:47 WARN KafkaDataConsumer: KafkaDataConsumer is not running in UninterruptibleThread. It may hang when KafkaDataConsumer's methods are interrupted because of KAFKA-1894\n"
     ]
    },
    {
     "name": "stdout",
     "output_type": "stream",
     "text": [
      "-------------------------------------------\n",
      "Batch: 146\n",
      "-------------------------------------------\n",
      "+----+-----------+---------+------+-------------------+------------+--------------+-------+----------+------+\n",
      "|uuid|record_type|timestamp|msisdn|counterparty_msisdn|duration_sec|data_volume_mb|cell_id|technology|status|\n",
      "+----+-----------+---------+------+-------------------+------------+--------------+-------+----------+------+\n",
      "+----+-----------+---------+------+-------------------+------------+--------------+-------+----------+------+\n",
      "\n"
     ]
    },
    {
     "name": "stderr",
     "output_type": "stream",
     "text": [
      "25/05/05 23:17:48 WARN KafkaDataConsumer: KafkaDataConsumer is not running in UninterruptibleThread. It may hang when KafkaDataConsumer's methods are interrupted because of KAFKA-1894\n"
     ]
    },
    {
     "name": "stdout",
     "output_type": "stream",
     "text": [
      "-------------------------------------------\n",
      "Batch: 147\n",
      "-------------------------------------------\n",
      "+----+-----------+---------+------+-------------------+------------+--------------+-------+----------+------+\n",
      "|uuid|record_type|timestamp|msisdn|counterparty_msisdn|duration_sec|data_volume_mb|cell_id|technology|status|\n",
      "+----+-----------+---------+------+-------------------+------------+--------------+-------+----------+------+\n",
      "+----+-----------+---------+------+-------------------+------------+--------------+-------+----------+------+\n",
      "\n"
     ]
    },
    {
     "name": "stderr",
     "output_type": "stream",
     "text": [
      "25/05/05 23:17:49 WARN KafkaDataConsumer: KafkaDataConsumer is not running in UninterruptibleThread. It may hang when KafkaDataConsumer's methods are interrupted because of KAFKA-1894\n"
     ]
    },
    {
     "name": "stdout",
     "output_type": "stream",
     "text": [
      "-------------------------------------------\n",
      "Batch: 148\n",
      "-------------------------------------------\n",
      "+----+-----------+---------+------+-------------------+------------+--------------+-------+----------+------+\n",
      "|uuid|record_type|timestamp|msisdn|counterparty_msisdn|duration_sec|data_volume_mb|cell_id|technology|status|\n",
      "+----+-----------+---------+------+-------------------+------------+--------------+-------+----------+------+\n",
      "+----+-----------+---------+------+-------------------+------------+--------------+-------+----------+------+\n",
      "\n"
     ]
    },
    {
     "name": "stderr",
     "output_type": "stream",
     "text": [
      "25/05/05 23:17:50 WARN KafkaDataConsumer: KafkaDataConsumer is not running in UninterruptibleThread. It may hang when KafkaDataConsumer's methods are interrupted because of KAFKA-1894\n",
      "                                                                                \r"
     ]
    },
    {
     "name": "stdout",
     "output_type": "stream",
     "text": [
      "-------------------------------------------\n",
      "Batch: 149\n",
      "-------------------------------------------\n",
      "+----+-----------+---------+------+-------------------+------------+--------------+-------+----------+------+\n",
      "|uuid|record_type|timestamp|msisdn|counterparty_msisdn|duration_sec|data_volume_mb|cell_id|technology|status|\n",
      "+----+-----------+---------+------+-------------------+------------+--------------+-------+----------+------+\n",
      "+----+-----------+---------+------+-------------------+------------+--------------+-------+----------+------+\n",
      "\n"
     ]
    },
    {
     "name": "stderr",
     "output_type": "stream",
     "text": [
      "25/05/05 23:17:51 WARN KafkaDataConsumer: KafkaDataConsumer is not running in UninterruptibleThread. It may hang when KafkaDataConsumer's methods are interrupted because of KAFKA-1894\n",
      "25/05/05 23:17:51 WARN KafkaDataConsumer: KafkaDataConsumer is not running in UninterruptibleThread. It may hang when KafkaDataConsumer's methods are interrupted because of KAFKA-1894\n"
     ]
    },
    {
     "name": "stdout",
     "output_type": "stream",
     "text": [
      "-------------------------------------------\n",
      "Batch: 150\n",
      "-------------------------------------------\n",
      "+----+-----------+---------+------+-------------------+------------+--------------+-------+----------+------+\n",
      "|uuid|record_type|timestamp|msisdn|counterparty_msisdn|duration_sec|data_volume_mb|cell_id|technology|status|\n",
      "+----+-----------+---------+------+-------------------+------------+--------------+-------+----------+------+\n",
      "+----+-----------+---------+------+-------------------+------------+--------------+-------+----------+------+\n",
      "\n"
     ]
    },
    {
     "name": "stderr",
     "output_type": "stream",
     "text": [
      "25/05/05 23:17:52 WARN KafkaDataConsumer: KafkaDataConsumer is not running in UninterruptibleThread. It may hang when KafkaDataConsumer's methods are interrupted because of KAFKA-1894\n",
      "25/05/05 23:17:52 WARN KafkaDataConsumer: KafkaDataConsumer is not running in UninterruptibleThread. It may hang when KafkaDataConsumer's methods are interrupted because of KAFKA-1894\n"
     ]
    },
    {
     "name": "stdout",
     "output_type": "stream",
     "text": [
      "-------------------------------------------\n",
      "Batch: 151\n",
      "-------------------------------------------\n",
      "+----+-----------+---------+------+-------------------+------------+--------------+-------+----------+------+\n",
      "|uuid|record_type|timestamp|msisdn|counterparty_msisdn|duration_sec|data_volume_mb|cell_id|technology|status|\n",
      "+----+-----------+---------+------+-------------------+------------+--------------+-------+----------+------+\n",
      "+----+-----------+---------+------+-------------------+------------+--------------+-------+----------+------+\n",
      "\n"
     ]
    },
    {
     "name": "stderr",
     "output_type": "stream",
     "text": [
      "25/05/05 23:17:53 WARN KafkaDataConsumer: KafkaDataConsumer is not running in UninterruptibleThread. It may hang when KafkaDataConsumer's methods are interrupted because of KAFKA-1894\n"
     ]
    },
    {
     "name": "stdout",
     "output_type": "stream",
     "text": [
      "-------------------------------------------\n",
      "Batch: 152\n",
      "-------------------------------------------\n",
      "+----+-----------+---------+------+-------------------+------------+--------------+-------+----------+------+\n",
      "|uuid|record_type|timestamp|msisdn|counterparty_msisdn|duration_sec|data_volume_mb|cell_id|technology|status|\n",
      "+----+-----------+---------+------+-------------------+------------+--------------+-------+----------+------+\n",
      "+----+-----------+---------+------+-------------------+------------+--------------+-------+----------+------+\n",
      "\n"
     ]
    },
    {
     "name": "stderr",
     "output_type": "stream",
     "text": [
      "25/05/05 23:17:53 WARN KafkaDataConsumer: KafkaDataConsumer is not running in UninterruptibleThread. It may hang when KafkaDataConsumer's methods are interrupted because of KAFKA-1894\n",
      "25/05/05 23:17:53 WARN KafkaDataConsumer: KafkaDataConsumer is not running in UninterruptibleThread. It may hang when KafkaDataConsumer's methods are interrupted because of KAFKA-1894\n"
     ]
    },
    {
     "name": "stdout",
     "output_type": "stream",
     "text": [
      "-------------------------------------------\n",
      "Batch: 153\n",
      "-------------------------------------------\n",
      "+----+-----------+---------+------+-------------------+------------+--------------+-------+----------+------+\n",
      "|uuid|record_type|timestamp|msisdn|counterparty_msisdn|duration_sec|data_volume_mb|cell_id|technology|status|\n",
      "+----+-----------+---------+------+-------------------+------------+--------------+-------+----------+------+\n",
      "+----+-----------+---------+------+-------------------+------------+--------------+-------+----------+------+\n",
      "\n"
     ]
    },
    {
     "name": "stderr",
     "output_type": "stream",
     "text": [
      "25/05/05 23:17:54 WARN KafkaDataConsumer: KafkaDataConsumer is not running in UninterruptibleThread. It may hang when KafkaDataConsumer's methods are interrupted because of KAFKA-1894\n"
     ]
    },
    {
     "name": "stdout",
     "output_type": "stream",
     "text": [
      "-------------------------------------------\n",
      "Batch: 154\n",
      "-------------------------------------------\n",
      "+----+-----------+---------+------+-------------------+------------+--------------+-------+----------+------+\n",
      "|uuid|record_type|timestamp|msisdn|counterparty_msisdn|duration_sec|data_volume_mb|cell_id|technology|status|\n",
      "+----+-----------+---------+------+-------------------+------------+--------------+-------+----------+------+\n",
      "+----+-----------+---------+------+-------------------+------------+--------------+-------+----------+------+\n",
      "\n"
     ]
    },
    {
     "name": "stderr",
     "output_type": "stream",
     "text": [
      "25/05/05 23:17:55 WARN KafkaDataConsumer: KafkaDataConsumer is not running in UninterruptibleThread. It may hang when KafkaDataConsumer's methods are interrupted because of KAFKA-1894\n"
     ]
    },
    {
     "name": "stdout",
     "output_type": "stream",
     "text": [
      "-------------------------------------------\n",
      "Batch: 155\n",
      "-------------------------------------------\n",
      "+----+-----------+---------+------+-------------------+------------+--------------+-------+----------+------+\n",
      "|uuid|record_type|timestamp|msisdn|counterparty_msisdn|duration_sec|data_volume_mb|cell_id|technology|status|\n",
      "+----+-----------+---------+------+-------------------+------------+--------------+-------+----------+------+\n",
      "+----+-----------+---------+------+-------------------+------------+--------------+-------+----------+------+\n",
      "\n"
     ]
    },
    {
     "name": "stderr",
     "output_type": "stream",
     "text": [
      "25/05/05 23:17:56 WARN KafkaDataConsumer: KafkaDataConsumer is not running in UninterruptibleThread. It may hang when KafkaDataConsumer's methods are interrupted because of KAFKA-1894\n"
     ]
    },
    {
     "name": "stdout",
     "output_type": "stream",
     "text": [
      "-------------------------------------------\n",
      "Batch: 156\n",
      "-------------------------------------------\n",
      "+----+-----------+---------+------+-------------------+------------+--------------+-------+----------+------+\n",
      "|uuid|record_type|timestamp|msisdn|counterparty_msisdn|duration_sec|data_volume_mb|cell_id|technology|status|\n",
      "+----+-----------+---------+------+-------------------+------------+--------------+-------+----------+------+\n",
      "+----+-----------+---------+------+-------------------+------------+--------------+-------+----------+------+\n",
      "\n"
     ]
    },
    {
     "name": "stderr",
     "output_type": "stream",
     "text": [
      "25/05/05 23:17:57 WARN KafkaDataConsumer: KafkaDataConsumer is not running in UninterruptibleThread. It may hang when KafkaDataConsumer's methods are interrupted because of KAFKA-1894\n",
      "                                                                                \r"
     ]
    },
    {
     "name": "stdout",
     "output_type": "stream",
     "text": [
      "-------------------------------------------\n",
      "Batch: 157\n",
      "-------------------------------------------\n",
      "+----+-----------+---------+------+-------------------+------------+--------------+-------+----------+------+\n",
      "|uuid|record_type|timestamp|msisdn|counterparty_msisdn|duration_sec|data_volume_mb|cell_id|technology|status|\n",
      "+----+-----------+---------+------+-------------------+------------+--------------+-------+----------+------+\n",
      "+----+-----------+---------+------+-------------------+------------+--------------+-------+----------+------+\n",
      "\n"
     ]
    },
    {
     "name": "stderr",
     "output_type": "stream",
     "text": [
      "25/05/05 23:17:58 WARN KafkaDataConsumer: KafkaDataConsumer is not running in UninterruptibleThread. It may hang when KafkaDataConsumer's methods are interrupted because of KAFKA-1894\n"
     ]
    },
    {
     "name": "stdout",
     "output_type": "stream",
     "text": [
      "-------------------------------------------\n",
      "Batch: 158\n",
      "-------------------------------------------\n",
      "+----+-----------+---------+------+-------------------+------------+--------------+-------+----------+------+\n",
      "|uuid|record_type|timestamp|msisdn|counterparty_msisdn|duration_sec|data_volume_mb|cell_id|technology|status|\n",
      "+----+-----------+---------+------+-------------------+------------+--------------+-------+----------+------+\n",
      "+----+-----------+---------+------+-------------------+------------+--------------+-------+----------+------+\n",
      "\n"
     ]
    },
    {
     "name": "stderr",
     "output_type": "stream",
     "text": [
      "25/05/05 23:17:59 WARN KafkaDataConsumer: KafkaDataConsumer is not running in UninterruptibleThread. It may hang when KafkaDataConsumer's methods are interrupted because of KAFKA-1894\n"
     ]
    },
    {
     "name": "stdout",
     "output_type": "stream",
     "text": [
      "-------------------------------------------\n",
      "Batch: 159\n",
      "-------------------------------------------\n",
      "+----+-----------+---------+------+-------------------+------------+--------------+-------+----------+------+\n",
      "|uuid|record_type|timestamp|msisdn|counterparty_msisdn|duration_sec|data_volume_mb|cell_id|technology|status|\n",
      "+----+-----------+---------+------+-------------------+------------+--------------+-------+----------+------+\n",
      "+----+-----------+---------+------+-------------------+------------+--------------+-------+----------+------+\n",
      "\n"
     ]
    },
    {
     "name": "stderr",
     "output_type": "stream",
     "text": [
      "25/05/05 23:18:00 WARN KafkaDataConsumer: KafkaDataConsumer is not running in UninterruptibleThread. It may hang when KafkaDataConsumer's methods are interrupted because of KAFKA-1894\n",
      "                                                                                \r"
     ]
    },
    {
     "name": "stdout",
     "output_type": "stream",
     "text": [
      "-------------------------------------------\n",
      "Batch: 160\n",
      "-------------------------------------------\n",
      "+------------------------------------+-----------+-----------------------+------+-------------------+------------+--------------+--------+----------+------+\n",
      "|uuid                                |record_type|timestamp              |msisdn|counterparty_msisdn|duration_sec|data_volume_mb|cell_id |technology|status|\n",
      "+------------------------------------+-----------+-----------------------+------+-------------------+------------+--------------+--------+----------+------+\n",
      "|0f6169ff-c12b-4fb4-ab05-6fb3d7bbcdb7|voice      |2025-05-05 23:18:00.497|NULL  |212681196743       |183         |NULL          |ghmate_6|2G        |error |\n",
      "+------------------------------------+-----------+-----------------------+------+-------------------+------------+--------------+--------+----------+------+\n",
      "\n"
     ]
    },
    {
     "name": "stderr",
     "output_type": "stream",
     "text": [
      "25/05/05 23:18:01 WARN KafkaDataConsumer: KafkaDataConsumer is not running in UninterruptibleThread. It may hang when KafkaDataConsumer's methods are interrupted because of KAFKA-1894\n"
     ]
    },
    {
     "name": "stdout",
     "output_type": "stream",
     "text": [
      "-------------------------------------------\n",
      "Batch: 161\n",
      "-------------------------------------------\n",
      "+----+-----------+---------+------+-------------------+------------+--------------+-------+----------+------+\n",
      "|uuid|record_type|timestamp|msisdn|counterparty_msisdn|duration_sec|data_volume_mb|cell_id|technology|status|\n",
      "+----+-----------+---------+------+-------------------+------------+--------------+-------+----------+------+\n",
      "+----+-----------+---------+------+-------------------+------------+--------------+-------+----------+------+\n",
      "\n"
     ]
    },
    {
     "name": "stderr",
     "output_type": "stream",
     "text": [
      "25/05/05 23:18:02 WARN KafkaDataConsumer: KafkaDataConsumer is not running in UninterruptibleThread. It may hang when KafkaDataConsumer's methods are interrupted because of KAFKA-1894\n",
      "                                                                                \r"
     ]
    },
    {
     "name": "stdout",
     "output_type": "stream",
     "text": [
      "-------------------------------------------\n",
      "Batch: 162\n",
      "-------------------------------------------\n",
      "+----+-----------+---------+------+-------------------+------------+--------------+-------+----------+------+\n",
      "|uuid|record_type|timestamp|msisdn|counterparty_msisdn|duration_sec|data_volume_mb|cell_id|technology|status|\n",
      "+----+-----------+---------+------+-------------------+------------+--------------+-------+----------+------+\n",
      "+----+-----------+---------+------+-------------------+------------+--------------+-------+----------+------+\n",
      "\n"
     ]
    },
    {
     "name": "stderr",
     "output_type": "stream",
     "text": [
      "25/05/05 23:18:03 WARN KafkaDataConsumer: KafkaDataConsumer is not running in UninterruptibleThread. It may hang when KafkaDataConsumer's methods are interrupted because of KAFKA-1894\n",
      "                                                                                \r"
     ]
    },
    {
     "name": "stdout",
     "output_type": "stream",
     "text": [
      "-------------------------------------------\n",
      "Batch: 163\n",
      "-------------------------------------------\n",
      "+----+-----------+---------+------+-------------------+------------+--------------+-------+----------+------+\n",
      "|uuid|record_type|timestamp|msisdn|counterparty_msisdn|duration_sec|data_volume_mb|cell_id|technology|status|\n",
      "+----+-----------+---------+------+-------------------+------------+--------------+-------+----------+------+\n",
      "+----+-----------+---------+------+-------------------+------------+--------------+-------+----------+------+\n",
      "\n"
     ]
    },
    {
     "name": "stderr",
     "output_type": "stream",
     "text": [
      "25/05/05 23:18:04 WARN KafkaDataConsumer: KafkaDataConsumer is not running in UninterruptibleThread. It may hang when KafkaDataConsumer's methods are interrupted because of KAFKA-1894\n"
     ]
    },
    {
     "name": "stdout",
     "output_type": "stream",
     "text": [
      "-------------------------------------------\n",
      "Batch: 164\n",
      "-------------------------------------------\n",
      "+----+-----------+---------+------+-------------------+------------+--------------+-------+----------+------+\n",
      "|uuid|record_type|timestamp|msisdn|counterparty_msisdn|duration_sec|data_volume_mb|cell_id|technology|status|\n",
      "+----+-----------+---------+------+-------------------+------------+--------------+-------+----------+------+\n",
      "+----+-----------+---------+------+-------------------+------------+--------------+-------+----------+------+\n",
      "\n"
     ]
    },
    {
     "name": "stderr",
     "output_type": "stream",
     "text": [
      "25/05/05 23:18:05 WARN KafkaDataConsumer: KafkaDataConsumer is not running in UninterruptibleThread. It may hang when KafkaDataConsumer's methods are interrupted because of KAFKA-1894\n"
     ]
    },
    {
     "name": "stdout",
     "output_type": "stream",
     "text": [
      "-------------------------------------------\n",
      "Batch: 165\n",
      "-------------------------------------------\n",
      "+----+-----------+---------+------+-------------------+------------+--------------+-------+----------+------+\n",
      "|uuid|record_type|timestamp|msisdn|counterparty_msisdn|duration_sec|data_volume_mb|cell_id|technology|status|\n",
      "+----+-----------+---------+------+-------------------+------------+--------------+-------+----------+------+\n",
      "+----+-----------+---------+------+-------------------+------------+--------------+-------+----------+------+\n",
      "\n"
     ]
    },
    {
     "name": "stderr",
     "output_type": "stream",
     "text": [
      "25/05/05 23:18:05 WARN KafkaDataConsumer: KafkaDataConsumer is not running in UninterruptibleThread. It may hang when KafkaDataConsumer's methods are interrupted because of KAFKA-1894\n"
     ]
    },
    {
     "name": "stdout",
     "output_type": "stream",
     "text": [
      "-------------------------------------------\n",
      "Batch: 166\n",
      "-------------------------------------------\n",
      "+----+-----------+---------+------+-------------------+------------+--------------+-------+----------+------+\n",
      "|uuid|record_type|timestamp|msisdn|counterparty_msisdn|duration_sec|data_volume_mb|cell_id|technology|status|\n",
      "+----+-----------+---------+------+-------------------+------------+--------------+-------+----------+------+\n",
      "+----+-----------+---------+------+-------------------+------------+--------------+-------+----------+------+\n",
      "\n"
     ]
    },
    {
     "name": "stderr",
     "output_type": "stream",
     "text": [
      "25/05/05 23:18:07 WARN KafkaDataConsumer: KafkaDataConsumer is not running in UninterruptibleThread. It may hang when KafkaDataConsumer's methods are interrupted because of KAFKA-1894\n"
     ]
    },
    {
     "name": "stdout",
     "output_type": "stream",
     "text": [
      "-------------------------------------------\n",
      "Batch: 167\n",
      "-------------------------------------------\n",
      "+----+-----------+---------+------+-------------------+------------+--------------+-------+----------+------+\n",
      "|uuid|record_type|timestamp|msisdn|counterparty_msisdn|duration_sec|data_volume_mb|cell_id|technology|status|\n",
      "+----+-----------+---------+------+-------------------+------------+--------------+-------+----------+------+\n",
      "+----+-----------+---------+------+-------------------+------------+--------------+-------+----------+------+\n",
      "\n"
     ]
    },
    {
     "name": "stderr",
     "output_type": "stream",
     "text": [
      "25/05/05 23:18:07 WARN KafkaDataConsumer: KafkaDataConsumer is not running in UninterruptibleThread. It may hang when KafkaDataConsumer's methods are interrupted because of KAFKA-1894\n"
     ]
    },
    {
     "name": "stdout",
     "output_type": "stream",
     "text": [
      "-------------------------------------------\n",
      "Batch: 168\n",
      "-------------------------------------------\n",
      "+----+-----------+---------+------+-------------------+------------+--------------+-------+----------+------+\n",
      "|uuid|record_type|timestamp|msisdn|counterparty_msisdn|duration_sec|data_volume_mb|cell_id|technology|status|\n",
      "+----+-----------+---------+------+-------------------+------------+--------------+-------+----------+------+\n",
      "+----+-----------+---------+------+-------------------+------------+--------------+-------+----------+------+\n",
      "\n"
     ]
    },
    {
     "name": "stderr",
     "output_type": "stream",
     "text": [
      "25/05/05 23:18:08 WARN KafkaDataConsumer: KafkaDataConsumer is not running in UninterruptibleThread. It may hang when KafkaDataConsumer's methods are interrupted because of KAFKA-1894\n"
     ]
    },
    {
     "name": "stdout",
     "output_type": "stream",
     "text": [
      "-------------------------------------------\n",
      "Batch: 169\n",
      "-------------------------------------------\n",
      "+----+-----------+---------+------+-------------------+------------+--------------+-------+----------+------+\n",
      "|uuid|record_type|timestamp|msisdn|counterparty_msisdn|duration_sec|data_volume_mb|cell_id|technology|status|\n",
      "+----+-----------+---------+------+-------------------+------------+--------------+-------+----------+------+\n",
      "+----+-----------+---------+------+-------------------+------------+--------------+-------+----------+------+\n",
      "\n"
     ]
    },
    {
     "name": "stderr",
     "output_type": "stream",
     "text": [
      "25/05/05 23:18:10 WARN KafkaDataConsumer: KafkaDataConsumer is not running in UninterruptibleThread. It may hang when KafkaDataConsumer's methods are interrupted because of KAFKA-1894\n"
     ]
    },
    {
     "name": "stdout",
     "output_type": "stream",
     "text": [
      "-------------------------------------------\n",
      "Batch: 170\n",
      "-------------------------------------------\n",
      "+----+-----------+---------+------+-------------------+------------+--------------+-------+----------+------+\n",
      "|uuid|record_type|timestamp|msisdn|counterparty_msisdn|duration_sec|data_volume_mb|cell_id|technology|status|\n",
      "+----+-----------+---------+------+-------------------+------------+--------------+-------+----------+------+\n",
      "+----+-----------+---------+------+-------------------+------------+--------------+-------+----------+------+\n",
      "\n"
     ]
    },
    {
     "name": "stderr",
     "output_type": "stream",
     "text": [
      "25/05/05 23:18:11 WARN KafkaDataConsumer: KafkaDataConsumer is not running in UninterruptibleThread. It may hang when KafkaDataConsumer's methods are interrupted because of KAFKA-1894\n",
      "25/05/05 23:18:11 WARN KafkaDataConsumer: KafkaDataConsumer is not running in UninterruptibleThread. It may hang when KafkaDataConsumer's methods are interrupted because of KAFKA-1894\n",
      "25/05/05 23:18:11 WARN KafkaDataConsumer: KafkaDataConsumer is not running in UninterruptibleThread. It may hang when KafkaDataConsumer's methods are interrupted because of KAFKA-1894\n"
     ]
    },
    {
     "name": "stdout",
     "output_type": "stream",
     "text": [
      "-------------------------------------------\n",
      "Batch: 171\n",
      "-------------------------------------------\n",
      "+----+-----------+---------+------+-------------------+------------+--------------+-------+----------+------+\n",
      "|uuid|record_type|timestamp|msisdn|counterparty_msisdn|duration_sec|data_volume_mb|cell_id|technology|status|\n",
      "+----+-----------+---------+------+-------------------+------------+--------------+-------+----------+------+\n",
      "+----+-----------+---------+------+-------------------+------------+--------------+-------+----------+------+\n",
      "\n"
     ]
    },
    {
     "name": "stderr",
     "output_type": "stream",
     "text": [
      "25/05/05 23:18:12 WARN KafkaDataConsumer: KafkaDataConsumer is not running in UninterruptibleThread. It may hang when KafkaDataConsumer's methods are interrupted because of KAFKA-1894\n",
      "                                                                                \r"
     ]
    },
    {
     "name": "stdout",
     "output_type": "stream",
     "text": [
      "-------------------------------------------\n",
      "Batch: 172\n",
      "-------------------------------------------\n",
      "+----+-----------+---------+------+-------------------+------------+--------------+-------+----------+------+\n",
      "|uuid|record_type|timestamp|msisdn|counterparty_msisdn|duration_sec|data_volume_mb|cell_id|technology|status|\n",
      "+----+-----------+---------+------+-------------------+------------+--------------+-------+----------+------+\n",
      "+----+-----------+---------+------+-------------------+------------+--------------+-------+----------+------+\n",
      "\n"
     ]
    },
    {
     "name": "stderr",
     "output_type": "stream",
     "text": [
      "25/05/05 23:18:13 WARN KafkaDataConsumer: KafkaDataConsumer is not running in UninterruptibleThread. It may hang when KafkaDataConsumer's methods are interrupted because of KAFKA-1894\n",
      "25/05/05 23:18:13 WARN KafkaDataConsumer: KafkaDataConsumer is not running in UninterruptibleThread. It may hang when KafkaDataConsumer's methods are interrupted because of KAFKA-1894\n"
     ]
    },
    {
     "name": "stdout",
     "output_type": "stream",
     "text": [
      "-------------------------------------------\n",
      "Batch: 173\n",
      "-------------------------------------------\n",
      "+----+-----------+---------+------+-------------------+------------+--------------+-------+----------+------+\n",
      "|uuid|record_type|timestamp|msisdn|counterparty_msisdn|duration_sec|data_volume_mb|cell_id|technology|status|\n",
      "+----+-----------+---------+------+-------------------+------------+--------------+-------+----------+------+\n",
      "+----+-----------+---------+------+-------------------+------------+--------------+-------+----------+------+\n",
      "\n"
     ]
    },
    {
     "name": "stderr",
     "output_type": "stream",
     "text": [
      "25/05/05 23:18:19 WARN KafkaDataConsumer: KafkaDataConsumer is not running in UninterruptibleThread. It may hang when KafkaDataConsumer's methods are interrupted because of KAFKA-1894\n"
     ]
    },
    {
     "name": "stdout",
     "output_type": "stream",
     "text": [
      "-------------------------------------------\n",
      "Batch: 174\n",
      "-------------------------------------------\n",
      "+----+-----------+---------+------+-------------------+------------+--------------+-------+----------+------+\n",
      "|uuid|record_type|timestamp|msisdn|counterparty_msisdn|duration_sec|data_volume_mb|cell_id|technology|status|\n",
      "+----+-----------+---------+------+-------------------+------------+--------------+-------+----------+------+\n",
      "+----+-----------+---------+------+-------------------+------------+--------------+-------+----------+------+\n",
      "\n"
     ]
    },
    {
     "name": "stderr",
     "output_type": "stream",
     "text": [
      "25/05/05 23:18:19 WARN KafkaDataConsumer: KafkaDataConsumer is not running in UninterruptibleThread. It may hang when KafkaDataConsumer's methods are interrupted because of KAFKA-1894\n",
      "                                                                                \r"
     ]
    },
    {
     "name": "stdout",
     "output_type": "stream",
     "text": [
      "-------------------------------------------\n",
      "Batch: 175\n",
      "-------------------------------------------\n",
      "+----+-----------+---------+------+-------------------+------------+--------------+-------+----------+------+\n",
      "|uuid|record_type|timestamp|msisdn|counterparty_msisdn|duration_sec|data_volume_mb|cell_id|technology|status|\n",
      "+----+-----------+---------+------+-------------------+------------+--------------+-------+----------+------+\n",
      "+----+-----------+---------+------+-------------------+------------+--------------+-------+----------+------+\n",
      "\n"
     ]
    },
    {
     "name": "stderr",
     "output_type": "stream",
     "text": [
      "25/05/05 23:18:21 WARN KafkaDataConsumer: KafkaDataConsumer is not running in UninterruptibleThread. It may hang when KafkaDataConsumer's methods are interrupted because of KAFKA-1894\n"
     ]
    },
    {
     "name": "stdout",
     "output_type": "stream",
     "text": [
      "-------------------------------------------\n",
      "Batch: 176\n",
      "-------------------------------------------\n",
      "+------------------------------------+-----------+-----------------------+------+-------------------+------------+--------------+--------+----------+------+\n",
      "|uuid                                |record_type|timestamp              |msisdn|counterparty_msisdn|duration_sec|data_volume_mb|cell_id |technology|status|\n",
      "+------------------------------------+-----------+-----------------------+------+-------------------+------------+--------------+--------+----------+------+\n",
      "|bdb443d2-640b-4da1-a9c0-7d182f12e186|voice      |2025-05-05 23:18:20.912|NULL  |212667445043       |108         |NULL          |azrou_34|3G        |error |\n",
      "+------------------------------------+-----------+-----------------------+------+-------------------+------------+--------------+--------+----------+------+\n",
      "\n"
     ]
    },
    {
     "name": "stderr",
     "output_type": "stream",
     "text": [
      "25/05/05 23:18:21 WARN KafkaDataConsumer: KafkaDataConsumer is not running in UninterruptibleThread. It may hang when KafkaDataConsumer's methods are interrupted because of KAFKA-1894\n"
     ]
    },
    {
     "name": "stdout",
     "output_type": "stream",
     "text": [
      "-------------------------------------------\n",
      "Batch: 177\n",
      "-------------------------------------------\n",
      "+----+-----------+---------+------+-------------------+------------+--------------+-------+----------+------+\n",
      "|uuid|record_type|timestamp|msisdn|counterparty_msisdn|duration_sec|data_volume_mb|cell_id|technology|status|\n",
      "+----+-----------+---------+------+-------------------+------------+--------------+-------+----------+------+\n",
      "+----+-----------+---------+------+-------------------+------------+--------------+-------+----------+------+\n",
      "\n"
     ]
    },
    {
     "name": "stderr",
     "output_type": "stream",
     "text": [
      "25/05/05 23:18:24 WARN KafkaDataConsumer: KafkaDataConsumer is not running in UninterruptibleThread. It may hang when KafkaDataConsumer's methods are interrupted because of KAFKA-1894\n"
     ]
    },
    {
     "name": "stdout",
     "output_type": "stream",
     "text": [
      "-------------------------------------------\n",
      "Batch: 178\n",
      "-------------------------------------------\n",
      "+------------------------------------+-----------+----------------------+------+-------------------+------------+--------------+--------------+----------+------+\n",
      "|uuid                                |record_type|timestamp             |msisdn|counterparty_msisdn|duration_sec|data_volume_mb|cell_id       |technology|status|\n",
      "+------------------------------------+-----------+----------------------+------+-------------------+------------+--------------+--------------+----------+------+\n",
      "|a54ed3cb-f1bd-4f15-9d8b-784c78062343|voice      |2025-05-05 23:18:23.92|NULL  |212752959569       |127         |NULL          |sidi_slimane_9|4G        |error |\n",
      "+------------------------------------+-----------+----------------------+------+-------------------+------------+--------------+--------------+----------+------+\n",
      "\n"
     ]
    },
    {
     "name": "stderr",
     "output_type": "stream",
     "text": [
      "25/05/05 23:18:24 WARN KafkaDataConsumer: KafkaDataConsumer is not running in UninterruptibleThread. It may hang when KafkaDataConsumer's methods are interrupted because of KAFKA-1894\n"
     ]
    },
    {
     "name": "stdout",
     "output_type": "stream",
     "text": [
      "-------------------------------------------\n",
      "Batch: 179\n",
      "-------------------------------------------\n",
      "+----+-----------+---------+------+-------------------+------------+--------------+-------+----------+------+\n",
      "|uuid|record_type|timestamp|msisdn|counterparty_msisdn|duration_sec|data_volume_mb|cell_id|technology|status|\n",
      "+----+-----------+---------+------+-------------------+------------+--------------+-------+----------+------+\n",
      "+----+-----------+---------+------+-------------------+------------+--------------+-------+----------+------+\n",
      "\n"
     ]
    },
    {
     "name": "stderr",
     "output_type": "stream",
     "text": [
      "25/05/05 23:18:25 WARN KafkaDataConsumer: KafkaDataConsumer is not running in UninterruptibleThread. It may hang when KafkaDataConsumer's methods are interrupted because of KAFKA-1894\n"
     ]
    },
    {
     "name": "stdout",
     "output_type": "stream",
     "text": [
      "-------------------------------------------\n",
      "Batch: 180\n",
      "-------------------------------------------\n",
      "+----+-----------+---------+------+-------------------+------------+--------------+-------+----------+------+\n",
      "|uuid|record_type|timestamp|msisdn|counterparty_msisdn|duration_sec|data_volume_mb|cell_id|technology|status|\n",
      "+----+-----------+---------+------+-------------------+------------+--------------+-------+----------+------+\n",
      "+----+-----------+---------+------+-------------------+------------+--------------+-------+----------+------+\n",
      "\n"
     ]
    },
    {
     "name": "stderr",
     "output_type": "stream",
     "text": [
      "25/05/05 23:18:27 WARN KafkaDataConsumer: KafkaDataConsumer is not running in UninterruptibleThread. It may hang when KafkaDataConsumer's methods are interrupted because of KAFKA-1894\n",
      "                                                                                \r"
     ]
    },
    {
     "name": "stdout",
     "output_type": "stream",
     "text": [
      "-------------------------------------------\n",
      "Batch: 181\n",
      "-------------------------------------------\n",
      "+----+-----------+---------+------+-------------------+------------+--------------+-------+----------+------+\n",
      "|uuid|record_type|timestamp|msisdn|counterparty_msisdn|duration_sec|data_volume_mb|cell_id|technology|status|\n",
      "+----+-----------+---------+------+-------------------+------------+--------------+-------+----------+------+\n",
      "+----+-----------+---------+------+-------------------+------------+--------------+-------+----------+------+\n",
      "\n"
     ]
    },
    {
     "name": "stderr",
     "output_type": "stream",
     "text": [
      "25/05/05 23:18:27 WARN KafkaDataConsumer: KafkaDataConsumer is not running in UninterruptibleThread. It may hang when KafkaDataConsumer's methods are interrupted because of KAFKA-1894\n"
     ]
    },
    {
     "name": "stdout",
     "output_type": "stream",
     "text": [
      "-------------------------------------------\n",
      "Batch: 182\n",
      "-------------------------------------------\n",
      "+----+-----------+---------+------+-------------------+------------+--------------+-------+----------+------+\n",
      "|uuid|record_type|timestamp|msisdn|counterparty_msisdn|duration_sec|data_volume_mb|cell_id|technology|status|\n",
      "+----+-----------+---------+------+-------------------+------------+--------------+-------+----------+------+\n",
      "+----+-----------+---------+------+-------------------+------------+--------------+-------+----------+------+\n",
      "\n"
     ]
    },
    {
     "name": "stderr",
     "output_type": "stream",
     "text": [
      "25/05/05 23:18:28 WARN KafkaDataConsumer: KafkaDataConsumer is not running in UninterruptibleThread. It may hang when KafkaDataConsumer's methods are interrupted because of KAFKA-1894\n",
      "                                                                                \r"
     ]
    },
    {
     "name": "stdout",
     "output_type": "stream",
     "text": [
      "-------------------------------------------\n",
      "Batch: 183\n",
      "-------------------------------------------\n",
      "+----+-----------+---------+------+-------------------+------------+--------------+-------+----------+------+\n",
      "|uuid|record_type|timestamp|msisdn|counterparty_msisdn|duration_sec|data_volume_mb|cell_id|technology|status|\n",
      "+----+-----------+---------+------+-------------------+------------+--------------+-------+----------+------+\n",
      "+----+-----------+---------+------+-------------------+------------+--------------+-------+----------+------+\n",
      "\n"
     ]
    },
    {
     "name": "stderr",
     "output_type": "stream",
     "text": [
      "25/05/05 23:18:29 WARN KafkaDataConsumer: KafkaDataConsumer is not running in UninterruptibleThread. It may hang when KafkaDataConsumer's methods are interrupted because of KAFKA-1894\n",
      "                                                                                \r"
     ]
    },
    {
     "name": "stdout",
     "output_type": "stream",
     "text": [
      "-------------------------------------------\n",
      "Batch: 184\n",
      "-------------------------------------------\n",
      "+----+-----------+---------+------+-------------------+------------+--------------+-------+----------+------+\n",
      "|uuid|record_type|timestamp|msisdn|counterparty_msisdn|duration_sec|data_volume_mb|cell_id|technology|status|\n",
      "+----+-----------+---------+------+-------------------+------------+--------------+-------+----------+------+\n",
      "+----+-----------+---------+------+-------------------+------------+--------------+-------+----------+------+\n",
      "\n"
     ]
    },
    {
     "name": "stderr",
     "output_type": "stream",
     "text": [
      "25/05/05 23:18:30 WARN KafkaDataConsumer: KafkaDataConsumer is not running in UninterruptibleThread. It may hang when KafkaDataConsumer's methods are interrupted because of KAFKA-1894\n",
      "                                                                                \r"
     ]
    },
    {
     "name": "stdout",
     "output_type": "stream",
     "text": [
      "-------------------------------------------\n",
      "Batch: 185\n",
      "-------------------------------------------\n",
      "+----+-----------+---------+------+-------------------+------------+--------------+-------+----------+------+\n",
      "|uuid|record_type|timestamp|msisdn|counterparty_msisdn|duration_sec|data_volume_mb|cell_id|technology|status|\n",
      "+----+-----------+---------+------+-------------------+------------+--------------+-------+----------+------+\n",
      "+----+-----------+---------+------+-------------------+------------+--------------+-------+----------+------+\n",
      "\n"
     ]
    },
    {
     "name": "stderr",
     "output_type": "stream",
     "text": [
      "25/05/05 23:18:32 WARN KafkaDataConsumer: KafkaDataConsumer is not running in UninterruptibleThread. It may hang when KafkaDataConsumer's methods are interrupted because of KAFKA-1894\n"
     ]
    },
    {
     "name": "stdout",
     "output_type": "stream",
     "text": [
      "-------------------------------------------\n",
      "Batch: 186\n",
      "-------------------------------------------\n",
      "+----+-----------+---------+------+-------------------+------------+--------------+-------+----------+------+\n",
      "|uuid|record_type|timestamp|msisdn|counterparty_msisdn|duration_sec|data_volume_mb|cell_id|technology|status|\n",
      "+----+-----------+---------+------+-------------------+------------+--------------+-------+----------+------+\n",
      "+----+-----------+---------+------+-------------------+------------+--------------+-------+----------+------+\n",
      "\n"
     ]
    },
    {
     "name": "stderr",
     "output_type": "stream",
     "text": [
      "25/05/05 23:18:33 WARN KafkaDataConsumer: KafkaDataConsumer is not running in UninterruptibleThread. It may hang when KafkaDataConsumer's methods are interrupted because of KAFKA-1894\n"
     ]
    },
    {
     "name": "stdout",
     "output_type": "stream",
     "text": [
      "-------------------------------------------\n",
      "Batch: 187\n",
      "-------------------------------------------\n",
      "+----+-----------+---------+------+-------------------+------------+--------------+-------+----------+------+\n",
      "|uuid|record_type|timestamp|msisdn|counterparty_msisdn|duration_sec|data_volume_mb|cell_id|technology|status|\n",
      "+----+-----------+---------+------+-------------------+------------+--------------+-------+----------+------+\n",
      "+----+-----------+---------+------+-------------------+------------+--------------+-------+----------+------+\n",
      "\n"
     ]
    },
    {
     "name": "stderr",
     "output_type": "stream",
     "text": [
      "25/05/05 23:18:34 WARN KafkaDataConsumer: KafkaDataConsumer is not running in UninterruptibleThread. It may hang when KafkaDataConsumer's methods are interrupted because of KAFKA-1894\n"
     ]
    },
    {
     "name": "stdout",
     "output_type": "stream",
     "text": [
      "-------------------------------------------\n",
      "Batch: 188\n",
      "-------------------------------------------\n",
      "+----+-----------+---------+------+-------------------+------------+--------------+-------+----------+------+\n",
      "|uuid|record_type|timestamp|msisdn|counterparty_msisdn|duration_sec|data_volume_mb|cell_id|technology|status|\n",
      "+----+-----------+---------+------+-------------------+------------+--------------+-------+----------+------+\n",
      "+----+-----------+---------+------+-------------------+------------+--------------+-------+----------+------+\n",
      "\n"
     ]
    },
    {
     "name": "stderr",
     "output_type": "stream",
     "text": [
      "25/05/05 23:18:34 WARN KafkaDataConsumer: KafkaDataConsumer is not running in UninterruptibleThread. It may hang when KafkaDataConsumer's methods are interrupted because of KAFKA-1894\n"
     ]
    },
    {
     "name": "stdout",
     "output_type": "stream",
     "text": [
      "-------------------------------------------\n",
      "Batch: 189\n",
      "-------------------------------------------\n",
      "+----+-----------+---------+------+-------------------+------------+--------------+-------+----------+------+\n",
      "|uuid|record_type|timestamp|msisdn|counterparty_msisdn|duration_sec|data_volume_mb|cell_id|technology|status|\n",
      "+----+-----------+---------+------+-------------------+------------+--------------+-------+----------+------+\n",
      "+----+-----------+---------+------+-------------------+------------+--------------+-------+----------+------+\n",
      "\n"
     ]
    },
    {
     "name": "stderr",
     "output_type": "stream",
     "text": [
      "25/05/05 23:18:35 WARN KafkaDataConsumer: KafkaDataConsumer is not running in UninterruptibleThread. It may hang when KafkaDataConsumer's methods are interrupted because of KAFKA-1894\n"
     ]
    },
    {
     "name": "stdout",
     "output_type": "stream",
     "text": [
      "-------------------------------------------\n",
      "Batch: 190\n",
      "-------------------------------------------\n",
      "+----+-----------+---------+------+-------------------+------------+--------------+-------+----------+------+\n",
      "|uuid|record_type|timestamp|msisdn|counterparty_msisdn|duration_sec|data_volume_mb|cell_id|technology|status|\n",
      "+----+-----------+---------+------+-------------------+------------+--------------+-------+----------+------+\n",
      "+----+-----------+---------+------+-------------------+------------+--------------+-------+----------+------+\n",
      "\n"
     ]
    },
    {
     "name": "stderr",
     "output_type": "stream",
     "text": [
      "25/05/05 23:18:36 WARN KafkaDataConsumer: KafkaDataConsumer is not running in UninterruptibleThread. It may hang when KafkaDataConsumer's methods are interrupted because of KAFKA-1894\n",
      "25/05/05 23:18:37 WARN KafkaDataConsumer: KafkaDataConsumer is not running in UninterruptibleThread. It may hang when KafkaDataConsumer's methods are interrupted because of KAFKA-1894\n"
     ]
    },
    {
     "name": "stdout",
     "output_type": "stream",
     "text": [
      "-------------------------------------------\n",
      "Batch: 191\n",
      "-------------------------------------------\n",
      "+----+-----------+---------+------+-------------------+------------+--------------+-------+----------+------+\n",
      "|uuid|record_type|timestamp|msisdn|counterparty_msisdn|duration_sec|data_volume_mb|cell_id|technology|status|\n",
      "+----+-----------+---------+------+-------------------+------------+--------------+-------+----------+------+\n",
      "+----+-----------+---------+------+-------------------+------------+--------------+-------+----------+------+\n",
      "\n"
     ]
    },
    {
     "name": "stderr",
     "output_type": "stream",
     "text": [
      "25/05/05 23:18:37 WARN KafkaDataConsumer: KafkaDataConsumer is not running in UninterruptibleThread. It may hang when KafkaDataConsumer's methods are interrupted because of KAFKA-1894\n"
     ]
    },
    {
     "name": "stdout",
     "output_type": "stream",
     "text": [
      "-------------------------------------------\n",
      "Batch: 192\n",
      "-------------------------------------------\n",
      "+----+-----------+---------+------+-------------------+------------+--------------+-------+----------+------+\n",
      "|uuid|record_type|timestamp|msisdn|counterparty_msisdn|duration_sec|data_volume_mb|cell_id|technology|status|\n",
      "+----+-----------+---------+------+-------------------+------------+--------------+-------+----------+------+\n",
      "+----+-----------+---------+------+-------------------+------------+--------------+-------+----------+------+\n",
      "\n"
     ]
    },
    {
     "name": "stderr",
     "output_type": "stream",
     "text": [
      "25/05/05 23:18:38 WARN KafkaDataConsumer: KafkaDataConsumer is not running in UninterruptibleThread. It may hang when KafkaDataConsumer's methods are interrupted because of KAFKA-1894\n",
      "25/05/05 23:18:38 WARN KafkaDataConsumer: KafkaDataConsumer is not running in UninterruptibleThread. It may hang when KafkaDataConsumer's methods are interrupted because of KAFKA-1894\n"
     ]
    },
    {
     "name": "stdout",
     "output_type": "stream",
     "text": [
      "-------------------------------------------\n",
      "Batch: 193\n",
      "-------------------------------------------\n",
      "+----+-----------+---------+------+-------------------+------------+--------------+-------+----------+------+\n",
      "|uuid|record_type|timestamp|msisdn|counterparty_msisdn|duration_sec|data_volume_mb|cell_id|technology|status|\n",
      "+----+-----------+---------+------+-------------------+------------+--------------+-------+----------+------+\n",
      "+----+-----------+---------+------+-------------------+------------+--------------+-------+----------+------+\n",
      "\n"
     ]
    },
    {
     "name": "stderr",
     "output_type": "stream",
     "text": [
      "25/05/05 23:18:39 WARN KafkaDataConsumer: KafkaDataConsumer is not running in UninterruptibleThread. It may hang when KafkaDataConsumer's methods are interrupted because of KAFKA-1894\n"
     ]
    },
    {
     "name": "stdout",
     "output_type": "stream",
     "text": [
      "-------------------------------------------\n",
      "Batch: 194\n",
      "-------------------------------------------\n",
      "+----+-----------+---------+------+-------------------+------------+--------------+-------+----------+------+\n",
      "|uuid|record_type|timestamp|msisdn|counterparty_msisdn|duration_sec|data_volume_mb|cell_id|technology|status|\n",
      "+----+-----------+---------+------+-------------------+------------+--------------+-------+----------+------+\n",
      "+----+-----------+---------+------+-------------------+------------+--------------+-------+----------+------+\n",
      "\n"
     ]
    },
    {
     "name": "stderr",
     "output_type": "stream",
     "text": [
      "25/05/05 23:18:39 WARN KafkaDataConsumer: KafkaDataConsumer is not running in UninterruptibleThread. It may hang when KafkaDataConsumer's methods are interrupted because of KAFKA-1894\n"
     ]
    },
    {
     "name": "stdout",
     "output_type": "stream",
     "text": [
      "-------------------------------------------\n",
      "Batch: 195\n",
      "-------------------------------------------\n",
      "+----+-----------+---------+------+-------------------+------------+--------------+-------+----------+------+\n",
      "|uuid|record_type|timestamp|msisdn|counterparty_msisdn|duration_sec|data_volume_mb|cell_id|technology|status|\n",
      "+----+-----------+---------+------+-------------------+------------+--------------+-------+----------+------+\n",
      "+----+-----------+---------+------+-------------------+------------+--------------+-------+----------+------+\n",
      "\n"
     ]
    },
    {
     "name": "stderr",
     "output_type": "stream",
     "text": [
      "25/05/05 23:18:40 WARN KafkaDataConsumer: KafkaDataConsumer is not running in UninterruptibleThread. It may hang when KafkaDataConsumer's methods are interrupted because of KAFKA-1894\n"
     ]
    },
    {
     "name": "stdout",
     "output_type": "stream",
     "text": [
      "-------------------------------------------\n",
      "Batch: 196\n",
      "-------------------------------------------\n",
      "+----+-----------+---------+------+-------------------+------------+--------------+-------+----------+------+\n",
      "|uuid|record_type|timestamp|msisdn|counterparty_msisdn|duration_sec|data_volume_mb|cell_id|technology|status|\n",
      "+----+-----------+---------+------+-------------------+------------+--------------+-------+----------+------+\n",
      "+----+-----------+---------+------+-------------------+------------+--------------+-------+----------+------+\n",
      "\n"
     ]
    },
    {
     "name": "stderr",
     "output_type": "stream",
     "text": [
      "25/05/05 23:18:41 WARN KafkaDataConsumer: KafkaDataConsumer is not running in UninterruptibleThread. It may hang when KafkaDataConsumer's methods are interrupted because of KAFKA-1894\n"
     ]
    },
    {
     "name": "stdout",
     "output_type": "stream",
     "text": [
      "-------------------------------------------\n",
      "Batch: 197\n",
      "-------------------------------------------\n",
      "+----+-----------+---------+------+-------------------+------------+--------------+-------+----------+------+\n",
      "|uuid|record_type|timestamp|msisdn|counterparty_msisdn|duration_sec|data_volume_mb|cell_id|technology|status|\n",
      "+----+-----------+---------+------+-------------------+------------+--------------+-------+----------+------+\n",
      "+----+-----------+---------+------+-------------------+------------+--------------+-------+----------+------+\n",
      "\n"
     ]
    },
    {
     "name": "stderr",
     "output_type": "stream",
     "text": [
      "25/05/05 23:18:42 WARN KafkaDataConsumer: KafkaDataConsumer is not running in UninterruptibleThread. It may hang when KafkaDataConsumer's methods are interrupted because of KAFKA-1894\n"
     ]
    },
    {
     "name": "stdout",
     "output_type": "stream",
     "text": [
      "-------------------------------------------\n",
      "Batch: 198\n",
      "-------------------------------------------\n",
      "+----+-----------+---------+------+-------------------+------------+--------------+-------+----------+------+\n",
      "|uuid|record_type|timestamp|msisdn|counterparty_msisdn|duration_sec|data_volume_mb|cell_id|technology|status|\n",
      "+----+-----------+---------+------+-------------------+------------+--------------+-------+----------+------+\n",
      "+----+-----------+---------+------+-------------------+------------+--------------+-------+----------+------+\n",
      "\n"
     ]
    },
    {
     "name": "stderr",
     "output_type": "stream",
     "text": [
      "25/05/05 23:18:43 WARN KafkaDataConsumer: KafkaDataConsumer is not running in UninterruptibleThread. It may hang when KafkaDataConsumer's methods are interrupted because of KAFKA-1894\n"
     ]
    },
    {
     "name": "stdout",
     "output_type": "stream",
     "text": [
      "-------------------------------------------\n",
      "Batch: 199\n",
      "-------------------------------------------\n",
      "+----+-----------+---------+------+-------------------+------------+--------------+-------+----------+------+\n",
      "|uuid|record_type|timestamp|msisdn|counterparty_msisdn|duration_sec|data_volume_mb|cell_id|technology|status|\n",
      "+----+-----------+---------+------+-------------------+------------+--------------+-------+----------+------+\n",
      "+----+-----------+---------+------+-------------------+------------+--------------+-------+----------+------+\n",
      "\n"
     ]
    },
    {
     "name": "stderr",
     "output_type": "stream",
     "text": [
      "25/05/05 23:18:44 WARN KafkaDataConsumer: KafkaDataConsumer is not running in UninterruptibleThread. It may hang when KafkaDataConsumer's methods are interrupted because of KAFKA-1894\n",
      "                                                                                \r"
     ]
    },
    {
     "name": "stdout",
     "output_type": "stream",
     "text": [
      "-------------------------------------------\n",
      "Batch: 200\n",
      "-------------------------------------------\n",
      "+----+-----------+---------+------+-------------------+------------+--------------+-------+----------+------+\n",
      "|uuid|record_type|timestamp|msisdn|counterparty_msisdn|duration_sec|data_volume_mb|cell_id|technology|status|\n",
      "+----+-----------+---------+------+-------------------+------------+--------------+-------+----------+------+\n",
      "+----+-----------+---------+------+-------------------+------------+--------------+-------+----------+------+\n",
      "\n"
     ]
    },
    {
     "name": "stderr",
     "output_type": "stream",
     "text": [
      "25/05/05 23:18:45 WARN KafkaDataConsumer: KafkaDataConsumer is not running in UninterruptibleThread. It may hang when KafkaDataConsumer's methods are interrupted because of KAFKA-1894\n",
      "                                                                                \r"
     ]
    },
    {
     "name": "stdout",
     "output_type": "stream",
     "text": [
      "-------------------------------------------\n",
      "Batch: 201\n",
      "-------------------------------------------\n",
      "+----+-----------+---------+------+-------------------+------------+--------------+-------+----------+------+\n",
      "|uuid|record_type|timestamp|msisdn|counterparty_msisdn|duration_sec|data_volume_mb|cell_id|technology|status|\n",
      "+----+-----------+---------+------+-------------------+------------+--------------+-------+----------+------+\n",
      "+----+-----------+---------+------+-------------------+------------+--------------+-------+----------+------+\n",
      "\n"
     ]
    },
    {
     "name": "stderr",
     "output_type": "stream",
     "text": [
      "25/05/05 23:18:46 WARN KafkaDataConsumer: KafkaDataConsumer is not running in UninterruptibleThread. It may hang when KafkaDataConsumer's methods are interrupted because of KAFKA-1894\n",
      "                                                                                \r"
     ]
    },
    {
     "name": "stdout",
     "output_type": "stream",
     "text": [
      "-------------------------------------------\n",
      "Batch: 202\n",
      "-------------------------------------------\n",
      "+----+-----------+---------+------+-------------------+------------+--------------+-------+----------+------+\n",
      "|uuid|record_type|timestamp|msisdn|counterparty_msisdn|duration_sec|data_volume_mb|cell_id|technology|status|\n",
      "+----+-----------+---------+------+-------------------+------------+--------------+-------+----------+------+\n",
      "+----+-----------+---------+------+-------------------+------------+--------------+-------+----------+------+\n",
      "\n"
     ]
    },
    {
     "name": "stderr",
     "output_type": "stream",
     "text": [
      "25/05/05 23:18:46 WARN KafkaDataConsumer: KafkaDataConsumer is not running in UninterruptibleThread. It may hang when KafkaDataConsumer's methods are interrupted because of KAFKA-1894\n"
     ]
    },
    {
     "name": "stdout",
     "output_type": "stream",
     "text": [
      "-------------------------------------------\n",
      "Batch: 203\n",
      "-------------------------------------------\n",
      "+----+-----------+---------+------+-------------------+------------+--------------+-------+----------+------+\n",
      "|uuid|record_type|timestamp|msisdn|counterparty_msisdn|duration_sec|data_volume_mb|cell_id|technology|status|\n",
      "+----+-----------+---------+------+-------------------+------------+--------------+-------+----------+------+\n",
      "+----+-----------+---------+------+-------------------+------------+--------------+-------+----------+------+\n",
      "\n"
     ]
    },
    {
     "name": "stderr",
     "output_type": "stream",
     "text": [
      "25/05/05 23:18:47 WARN KafkaDataConsumer: KafkaDataConsumer is not running in UninterruptibleThread. It may hang when KafkaDataConsumer's methods are interrupted because of KAFKA-1894\n"
     ]
    },
    {
     "name": "stdout",
     "output_type": "stream",
     "text": [
      "-------------------------------------------\n",
      "Batch: 204\n",
      "-------------------------------------------\n",
      "+----+-----------+---------+------+-------------------+------------+--------------+-------+----------+------+\n",
      "|uuid|record_type|timestamp|msisdn|counterparty_msisdn|duration_sec|data_volume_mb|cell_id|technology|status|\n",
      "+----+-----------+---------+------+-------------------+------------+--------------+-------+----------+------+\n",
      "+----+-----------+---------+------+-------------------+------------+--------------+-------+----------+------+\n",
      "\n"
     ]
    },
    {
     "name": "stderr",
     "output_type": "stream",
     "text": [
      "25/05/05 23:18:48 WARN KafkaDataConsumer: KafkaDataConsumer is not running in UninterruptibleThread. It may hang when KafkaDataConsumer's methods are interrupted because of KAFKA-1894\n"
     ]
    },
    {
     "name": "stdout",
     "output_type": "stream",
     "text": [
      "-------------------------------------------\n",
      "Batch: 205\n",
      "-------------------------------------------\n",
      "+----+-----------+---------+------+-------------------+------------+--------------+-------+----------+------+\n",
      "|uuid|record_type|timestamp|msisdn|counterparty_msisdn|duration_sec|data_volume_mb|cell_id|technology|status|\n",
      "+----+-----------+---------+------+-------------------+------------+--------------+-------+----------+------+\n",
      "+----+-----------+---------+------+-------------------+------------+--------------+-------+----------+------+\n",
      "\n"
     ]
    },
    {
     "name": "stderr",
     "output_type": "stream",
     "text": [
      "25/05/05 23:18:49 WARN KafkaDataConsumer: KafkaDataConsumer is not running in UninterruptibleThread. It may hang when KafkaDataConsumer's methods are interrupted because of KAFKA-1894\n"
     ]
    },
    {
     "name": "stdout",
     "output_type": "stream",
     "text": [
      "-------------------------------------------\n",
      "Batch: 206\n",
      "-------------------------------------------\n",
      "+----+-----------+---------+------+-------------------+------------+--------------+-------+----------+------+\n",
      "|uuid|record_type|timestamp|msisdn|counterparty_msisdn|duration_sec|data_volume_mb|cell_id|technology|status|\n",
      "+----+-----------+---------+------+-------------------+------------+--------------+-------+----------+------+\n",
      "+----+-----------+---------+------+-------------------+------------+--------------+-------+----------+------+\n",
      "\n"
     ]
    },
    {
     "name": "stderr",
     "output_type": "stream",
     "text": [
      "25/05/05 23:18:49 WARN KafkaDataConsumer: KafkaDataConsumer is not running in UninterruptibleThread. It may hang when KafkaDataConsumer's methods are interrupted because of KAFKA-1894\n"
     ]
    },
    {
     "name": "stdout",
     "output_type": "stream",
     "text": [
      "-------------------------------------------\n",
      "Batch: 207\n",
      "-------------------------------------------\n",
      "+----+-----------+---------+------+-------------------+------------+--------------+-------+----------+------+\n",
      "|uuid|record_type|timestamp|msisdn|counterparty_msisdn|duration_sec|data_volume_mb|cell_id|technology|status|\n",
      "+----+-----------+---------+------+-------------------+------------+--------------+-------+----------+------+\n",
      "+----+-----------+---------+------+-------------------+------------+--------------+-------+----------+------+\n",
      "\n"
     ]
    },
    {
     "name": "stderr",
     "output_type": "stream",
     "text": [
      "25/05/05 23:18:50 WARN KafkaDataConsumer: KafkaDataConsumer is not running in UninterruptibleThread. It may hang when KafkaDataConsumer's methods are interrupted because of KAFKA-1894\n"
     ]
    },
    {
     "name": "stdout",
     "output_type": "stream",
     "text": [
      "-------------------------------------------\n",
      "Batch: 208\n",
      "-------------------------------------------\n",
      "+----+-----------+---------+------+-------------------+------------+--------------+-------+----------+------+\n",
      "|uuid|record_type|timestamp|msisdn|counterparty_msisdn|duration_sec|data_volume_mb|cell_id|technology|status|\n",
      "+----+-----------+---------+------+-------------------+------------+--------------+-------+----------+------+\n",
      "+----+-----------+---------+------+-------------------+------------+--------------+-------+----------+------+\n",
      "\n"
     ]
    },
    {
     "name": "stderr",
     "output_type": "stream",
     "text": [
      "25/05/05 23:18:51 WARN KafkaDataConsumer: KafkaDataConsumer is not running in UninterruptibleThread. It may hang when KafkaDataConsumer's methods are interrupted because of KAFKA-1894\n"
     ]
    },
    {
     "name": "stdout",
     "output_type": "stream",
     "text": [
      "-------------------------------------------\n",
      "Batch: 209\n",
      "-------------------------------------------\n",
      "+----+-----------+---------+------+-------------------+------------+--------------+-------+----------+------+\n",
      "|uuid|record_type|timestamp|msisdn|counterparty_msisdn|duration_sec|data_volume_mb|cell_id|technology|status|\n",
      "+----+-----------+---------+------+-------------------+------------+--------------+-------+----------+------+\n",
      "+----+-----------+---------+------+-------------------+------------+--------------+-------+----------+------+\n",
      "\n"
     ]
    },
    {
     "name": "stderr",
     "output_type": "stream",
     "text": [
      "25/05/05 23:18:52 WARN KafkaDataConsumer: KafkaDataConsumer is not running in UninterruptibleThread. It may hang when KafkaDataConsumer's methods are interrupted because of KAFKA-1894\n",
      "25/05/05 23:18:52 WARN KafkaDataConsumer: KafkaDataConsumer is not running in UninterruptibleThread. It may hang when KafkaDataConsumer's methods are interrupted because of KAFKA-1894\n"
     ]
    },
    {
     "name": "stdout",
     "output_type": "stream",
     "text": [
      "-------------------------------------------\n",
      "Batch: 210\n",
      "-------------------------------------------\n",
      "+----+-----------+---------+------+-------------------+------------+--------------+-------+----------+------+\n",
      "|uuid|record_type|timestamp|msisdn|counterparty_msisdn|duration_sec|data_volume_mb|cell_id|technology|status|\n",
      "+----+-----------+---------+------+-------------------+------------+--------------+-------+----------+------+\n",
      "+----+-----------+---------+------+-------------------+------------+--------------+-------+----------+------+\n",
      "\n"
     ]
    },
    {
     "name": "stderr",
     "output_type": "stream",
     "text": [
      "25/05/05 23:18:53 WARN KafkaDataConsumer: KafkaDataConsumer is not running in UninterruptibleThread. It may hang when KafkaDataConsumer's methods are interrupted because of KAFKA-1894\n"
     ]
    },
    {
     "name": "stdout",
     "output_type": "stream",
     "text": [
      "-------------------------------------------\n",
      "Batch: 211\n",
      "-------------------------------------------\n",
      "+----+-----------+---------+------+-------------------+------------+--------------+-------+----------+------+\n",
      "|uuid|record_type|timestamp|msisdn|counterparty_msisdn|duration_sec|data_volume_mb|cell_id|technology|status|\n",
      "+----+-----------+---------+------+-------------------+------------+--------------+-------+----------+------+\n",
      "+----+-----------+---------+------+-------------------+------------+--------------+-------+----------+------+\n",
      "\n"
     ]
    },
    {
     "name": "stderr",
     "output_type": "stream",
     "text": [
      "25/05/05 23:18:54 WARN KafkaDataConsumer: KafkaDataConsumer is not running in UninterruptibleThread. It may hang when KafkaDataConsumer's methods are interrupted because of KAFKA-1894\n"
     ]
    },
    {
     "name": "stdout",
     "output_type": "stream",
     "text": [
      "-------------------------------------------\n",
      "Batch: 212\n",
      "-------------------------------------------\n",
      "+----+-----------+---------+------+-------------------+------------+--------------+-------+----------+------+\n",
      "|uuid|record_type|timestamp|msisdn|counterparty_msisdn|duration_sec|data_volume_mb|cell_id|technology|status|\n",
      "+----+-----------+---------+------+-------------------+------------+--------------+-------+----------+------+\n",
      "+----+-----------+---------+------+-------------------+------------+--------------+-------+----------+------+\n",
      "\n"
     ]
    },
    {
     "name": "stderr",
     "output_type": "stream",
     "text": [
      "25/05/05 23:18:55 WARN KafkaDataConsumer: KafkaDataConsumer is not running in UninterruptibleThread. It may hang when KafkaDataConsumer's methods are interrupted because of KAFKA-1894\n",
      "25/05/05 23:18:55 WARN KafkaDataConsumer: KafkaDataConsumer is not running in UninterruptibleThread. It may hang when KafkaDataConsumer's methods are interrupted because of KAFKA-1894\n",
      "                                                                                \r"
     ]
    },
    {
     "name": "stdout",
     "output_type": "stream",
     "text": [
      "-------------------------------------------\n",
      "Batch: 213\n",
      "-------------------------------------------\n",
      "+----+-----------+---------+------+-------------------+------------+--------------+-------+----------+------+\n",
      "|uuid|record_type|timestamp|msisdn|counterparty_msisdn|duration_sec|data_volume_mb|cell_id|technology|status|\n",
      "+----+-----------+---------+------+-------------------+------------+--------------+-------+----------+------+\n",
      "+----+-----------+---------+------+-------------------+------------+--------------+-------+----------+------+\n",
      "\n"
     ]
    },
    {
     "name": "stderr",
     "output_type": "stream",
     "text": [
      "25/05/05 23:18:56 WARN KafkaDataConsumer: KafkaDataConsumer is not running in UninterruptibleThread. It may hang when KafkaDataConsumer's methods are interrupted because of KAFKA-1894\n"
     ]
    },
    {
     "name": "stdout",
     "output_type": "stream",
     "text": [
      "-------------------------------------------\n",
      "Batch: 214\n",
      "-------------------------------------------\n",
      "+----+-----------+---------+------+-------------------+------------+--------------+-------+----------+------+\n",
      "|uuid|record_type|timestamp|msisdn|counterparty_msisdn|duration_sec|data_volume_mb|cell_id|technology|status|\n",
      "+----+-----------+---------+------+-------------------+------------+--------------+-------+----------+------+\n",
      "+----+-----------+---------+------+-------------------+------------+--------------+-------+----------+------+\n",
      "\n"
     ]
    },
    {
     "name": "stderr",
     "output_type": "stream",
     "text": [
      "25/05/05 23:18:57 WARN KafkaDataConsumer: KafkaDataConsumer is not running in UninterruptibleThread. It may hang when KafkaDataConsumer's methods are interrupted because of KAFKA-1894\n"
     ]
    },
    {
     "name": "stdout",
     "output_type": "stream",
     "text": [
      "-------------------------------------------\n",
      "Batch: 215\n",
      "-------------------------------------------\n",
      "+----+-----------+---------+------+-------------------+------------+--------------+-------+----------+------+\n",
      "|uuid|record_type|timestamp|msisdn|counterparty_msisdn|duration_sec|data_volume_mb|cell_id|technology|status|\n",
      "+----+-----------+---------+------+-------------------+------------+--------------+-------+----------+------+\n",
      "+----+-----------+---------+------+-------------------+------------+--------------+-------+----------+------+\n",
      "\n"
     ]
    },
    {
     "name": "stderr",
     "output_type": "stream",
     "text": [
      "25/05/05 23:18:58 WARN KafkaDataConsumer: KafkaDataConsumer is not running in UninterruptibleThread. It may hang when KafkaDataConsumer's methods are interrupted because of KAFKA-1894\n"
     ]
    },
    {
     "name": "stdout",
     "output_type": "stream",
     "text": [
      "-------------------------------------------\n",
      "Batch: 216\n",
      "-------------------------------------------\n",
      "+----+-----------+---------+------+-------------------+------------+--------------+-------+----------+------+\n",
      "|uuid|record_type|timestamp|msisdn|counterparty_msisdn|duration_sec|data_volume_mb|cell_id|technology|status|\n",
      "+----+-----------+---------+------+-------------------+------------+--------------+-------+----------+------+\n",
      "+----+-----------+---------+------+-------------------+------------+--------------+-------+----------+------+\n",
      "\n"
     ]
    },
    {
     "name": "stderr",
     "output_type": "stream",
     "text": [
      "25/05/05 23:18:59 WARN KafkaDataConsumer: KafkaDataConsumer is not running in UninterruptibleThread. It may hang when KafkaDataConsumer's methods are interrupted because of KAFKA-1894\n",
      "25/05/05 23:18:59 WARN KafkaDataConsumer: KafkaDataConsumer is not running in UninterruptibleThread. It may hang when KafkaDataConsumer's methods are interrupted because of KAFKA-1894\n"
     ]
    },
    {
     "name": "stdout",
     "output_type": "stream",
     "text": [
      "-------------------------------------------\n",
      "Batch: 217\n",
      "-------------------------------------------\n",
      "+----+-----------+---------+------+-------------------+------------+--------------+-------+----------+------+\n",
      "|uuid|record_type|timestamp|msisdn|counterparty_msisdn|duration_sec|data_volume_mb|cell_id|technology|status|\n",
      "+----+-----------+---------+------+-------------------+------------+--------------+-------+----------+------+\n",
      "+----+-----------+---------+------+-------------------+------------+--------------+-------+----------+------+\n",
      "\n"
     ]
    },
    {
     "name": "stderr",
     "output_type": "stream",
     "text": [
      "25/05/05 23:19:00 WARN KafkaDataConsumer: KafkaDataConsumer is not running in UninterruptibleThread. It may hang when KafkaDataConsumer's methods are interrupted because of KAFKA-1894\n"
     ]
    },
    {
     "name": "stdout",
     "output_type": "stream",
     "text": [
      "-------------------------------------------\n",
      "Batch: 218\n",
      "-------------------------------------------\n",
      "+----+-----------+---------+------+-------------------+------------+--------------+-------+----------+------+\n",
      "|uuid|record_type|timestamp|msisdn|counterparty_msisdn|duration_sec|data_volume_mb|cell_id|technology|status|\n",
      "+----+-----------+---------+------+-------------------+------------+--------------+-------+----------+------+\n",
      "+----+-----------+---------+------+-------------------+------------+--------------+-------+----------+------+\n",
      "\n"
     ]
    },
    {
     "name": "stderr",
     "output_type": "stream",
     "text": [
      "25/05/05 23:19:01 WARN KafkaDataConsumer: KafkaDataConsumer is not running in UninterruptibleThread. It may hang when KafkaDataConsumer's methods are interrupted because of KAFKA-1894\n",
      "                                                                                \r"
     ]
    },
    {
     "name": "stdout",
     "output_type": "stream",
     "text": [
      "-------------------------------------------\n",
      "Batch: 219\n",
      "-------------------------------------------\n",
      "+----+-----------+---------+------+-------------------+------------+--------------+-------+----------+------+\n",
      "|uuid|record_type|timestamp|msisdn|counterparty_msisdn|duration_sec|data_volume_mb|cell_id|technology|status|\n",
      "+----+-----------+---------+------+-------------------+------------+--------------+-------+----------+------+\n",
      "+----+-----------+---------+------+-------------------+------------+--------------+-------+----------+------+\n",
      "\n"
     ]
    },
    {
     "name": "stderr",
     "output_type": "stream",
     "text": [
      "25/05/05 23:19:02 WARN KafkaDataConsumer: KafkaDataConsumer is not running in UninterruptibleThread. It may hang when KafkaDataConsumer's methods are interrupted because of KAFKA-1894\n"
     ]
    },
    {
     "name": "stdout",
     "output_type": "stream",
     "text": [
      "-------------------------------------------\n",
      "Batch: 220\n",
      "-------------------------------------------\n",
      "+----+-----------+---------+------+-------------------+------------+--------------+-------+----------+------+\n",
      "|uuid|record_type|timestamp|msisdn|counterparty_msisdn|duration_sec|data_volume_mb|cell_id|technology|status|\n",
      "+----+-----------+---------+------+-------------------+------------+--------------+-------+----------+------+\n",
      "+----+-----------+---------+------+-------------------+------------+--------------+-------+----------+------+\n",
      "\n"
     ]
    },
    {
     "name": "stderr",
     "output_type": "stream",
     "text": [
      "25/05/05 23:19:03 WARN KafkaDataConsumer: KafkaDataConsumer is not running in UninterruptibleThread. It may hang when KafkaDataConsumer's methods are interrupted because of KAFKA-1894\n"
     ]
    },
    {
     "name": "stdout",
     "output_type": "stream",
     "text": [
      "-------------------------------------------\n",
      "Batch: 221\n",
      "-------------------------------------------\n",
      "+----+-----------+---------+------+-------------------+------------+--------------+-------+----------+------+\n",
      "|uuid|record_type|timestamp|msisdn|counterparty_msisdn|duration_sec|data_volume_mb|cell_id|technology|status|\n",
      "+----+-----------+---------+------+-------------------+------------+--------------+-------+----------+------+\n",
      "+----+-----------+---------+------+-------------------+------------+--------------+-------+----------+------+\n",
      "\n"
     ]
    },
    {
     "name": "stderr",
     "output_type": "stream",
     "text": [
      "25/05/05 23:19:04 WARN KafkaDataConsumer: KafkaDataConsumer is not running in UninterruptibleThread. It may hang when KafkaDataConsumer's methods are interrupted because of KAFKA-1894\n"
     ]
    },
    {
     "name": "stdout",
     "output_type": "stream",
     "text": [
      "-------------------------------------------\n",
      "Batch: 222\n",
      "-------------------------------------------\n",
      "+----+-----------+---------+------+-------------------+------------+--------------+-------+----------+------+\n",
      "|uuid|record_type|timestamp|msisdn|counterparty_msisdn|duration_sec|data_volume_mb|cell_id|technology|status|\n",
      "+----+-----------+---------+------+-------------------+------------+--------------+-------+----------+------+\n",
      "+----+-----------+---------+------+-------------------+------------+--------------+-------+----------+------+\n",
      "\n"
     ]
    },
    {
     "name": "stderr",
     "output_type": "stream",
     "text": [
      "25/05/05 23:19:05 WARN KafkaDataConsumer: KafkaDataConsumer is not running in UninterruptibleThread. It may hang when KafkaDataConsumer's methods are interrupted because of KAFKA-1894\n"
     ]
    },
    {
     "name": "stdout",
     "output_type": "stream",
     "text": [
      "-------------------------------------------\n",
      "Batch: 223\n",
      "-------------------------------------------\n",
      "+----+-----------+---------+------+-------------------+------------+--------------+-------+----------+------+\n",
      "|uuid|record_type|timestamp|msisdn|counterparty_msisdn|duration_sec|data_volume_mb|cell_id|technology|status|\n",
      "+----+-----------+---------+------+-------------------+------------+--------------+-------+----------+------+\n",
      "+----+-----------+---------+------+-------------------+------------+--------------+-------+----------+------+\n",
      "\n"
     ]
    },
    {
     "name": "stderr",
     "output_type": "stream",
     "text": [
      "25/05/05 23:19:06 WARN KafkaDataConsumer: KafkaDataConsumer is not running in UninterruptibleThread. It may hang when KafkaDataConsumer's methods are interrupted because of KAFKA-1894\n"
     ]
    },
    {
     "name": "stdout",
     "output_type": "stream",
     "text": [
      "-------------------------------------------\n",
      "Batch: 224\n",
      "-------------------------------------------\n",
      "+----+-----------+---------+------+-------------------+------------+--------------+-------+----------+------+\n",
      "|uuid|record_type|timestamp|msisdn|counterparty_msisdn|duration_sec|data_volume_mb|cell_id|technology|status|\n",
      "+----+-----------+---------+------+-------------------+------------+--------------+-------+----------+------+\n",
      "+----+-----------+---------+------+-------------------+------------+--------------+-------+----------+------+\n",
      "\n"
     ]
    },
    {
     "name": "stderr",
     "output_type": "stream",
     "text": [
      "25/05/05 23:19:06 WARN KafkaDataConsumer: KafkaDataConsumer is not running in UninterruptibleThread. It may hang when KafkaDataConsumer's methods are interrupted because of KAFKA-1894\n"
     ]
    },
    {
     "name": "stdout",
     "output_type": "stream",
     "text": [
      "-------------------------------------------\n",
      "Batch: 225\n",
      "-------------------------------------------\n",
      "+----+-----------+---------+------+-------------------+------------+--------------+-------+----------+------+\n",
      "|uuid|record_type|timestamp|msisdn|counterparty_msisdn|duration_sec|data_volume_mb|cell_id|technology|status|\n",
      "+----+-----------+---------+------+-------------------+------------+--------------+-------+----------+------+\n",
      "+----+-----------+---------+------+-------------------+------------+--------------+-------+----------+------+\n",
      "\n"
     ]
    },
    {
     "name": "stderr",
     "output_type": "stream",
     "text": [
      "25/05/05 23:19:07 WARN KafkaDataConsumer: KafkaDataConsumer is not running in UninterruptibleThread. It may hang when KafkaDataConsumer's methods are interrupted because of KAFKA-1894\n"
     ]
    },
    {
     "name": "stdout",
     "output_type": "stream",
     "text": [
      "-------------------------------------------\n",
      "Batch: 226\n",
      "-------------------------------------------\n",
      "+----+-----------+---------+------+-------------------+------------+--------------+-------+----------+------+\n",
      "|uuid|record_type|timestamp|msisdn|counterparty_msisdn|duration_sec|data_volume_mb|cell_id|technology|status|\n",
      "+----+-----------+---------+------+-------------------+------------+--------------+-------+----------+------+\n",
      "+----+-----------+---------+------+-------------------+------------+--------------+-------+----------+------+\n",
      "\n"
     ]
    },
    {
     "name": "stderr",
     "output_type": "stream",
     "text": [
      "25/05/05 23:19:08 WARN KafkaDataConsumer: KafkaDataConsumer is not running in UninterruptibleThread. It may hang when KafkaDataConsumer's methods are interrupted because of KAFKA-1894\n"
     ]
    },
    {
     "name": "stdout",
     "output_type": "stream",
     "text": [
      "-------------------------------------------\n",
      "Batch: 227\n",
      "-------------------------------------------\n",
      "+----+-----------+---------+------+-------------------+------------+--------------+-------+----------+------+\n",
      "|uuid|record_type|timestamp|msisdn|counterparty_msisdn|duration_sec|data_volume_mb|cell_id|technology|status|\n",
      "+----+-----------+---------+------+-------------------+------------+--------------+-------+----------+------+\n",
      "+----+-----------+---------+------+-------------------+------------+--------------+-------+----------+------+\n",
      "\n"
     ]
    },
    {
     "name": "stderr",
     "output_type": "stream",
     "text": [
      "25/05/05 23:19:08 WARN KafkaDataConsumer: KafkaDataConsumer is not running in UninterruptibleThread. It may hang when KafkaDataConsumer's methods are interrupted because of KAFKA-1894\n"
     ]
    },
    {
     "name": "stdout",
     "output_type": "stream",
     "text": [
      "-------------------------------------------\n",
      "Batch: 228\n",
      "-------------------------------------------\n",
      "+----+-----------+---------+------+-------------------+------------+--------------+-------+----------+------+\n",
      "|uuid|record_type|timestamp|msisdn|counterparty_msisdn|duration_sec|data_volume_mb|cell_id|technology|status|\n",
      "+----+-----------+---------+------+-------------------+------------+--------------+-------+----------+------+\n",
      "+----+-----------+---------+------+-------------------+------------+--------------+-------+----------+------+\n",
      "\n"
     ]
    },
    {
     "name": "stderr",
     "output_type": "stream",
     "text": [
      "25/05/05 23:19:09 WARN KafkaDataConsumer: KafkaDataConsumer is not running in UninterruptibleThread. It may hang when KafkaDataConsumer's methods are interrupted because of KAFKA-1894\n"
     ]
    },
    {
     "name": "stdout",
     "output_type": "stream",
     "text": [
      "-------------------------------------------\n",
      "Batch: 229\n",
      "-------------------------------------------\n",
      "+----+-----------+---------+------+-------------------+------------+--------------+-------+----------+------+\n",
      "|uuid|record_type|timestamp|msisdn|counterparty_msisdn|duration_sec|data_volume_mb|cell_id|technology|status|\n",
      "+----+-----------+---------+------+-------------------+------------+--------------+-------+----------+------+\n",
      "+----+-----------+---------+------+-------------------+------------+--------------+-------+----------+------+\n",
      "\n"
     ]
    },
    {
     "name": "stderr",
     "output_type": "stream",
     "text": [
      "25/05/05 23:19:10 WARN KafkaDataConsumer: KafkaDataConsumer is not running in UninterruptibleThread. It may hang when KafkaDataConsumer's methods are interrupted because of KAFKA-1894\n",
      "25/05/05 23:19:10 WARN KafkaDataConsumer: KafkaDataConsumer is not running in UninterruptibleThread. It may hang when KafkaDataConsumer's methods are interrupted because of KAFKA-1894\n",
      "                                                                                \r"
     ]
    },
    {
     "name": "stdout",
     "output_type": "stream",
     "text": [
      "-------------------------------------------\n",
      "Batch: 230\n",
      "-------------------------------------------\n",
      "+----+-----------+---------+------+-------------------+------------+--------------+-------+----------+------+\n",
      "|uuid|record_type|timestamp|msisdn|counterparty_msisdn|duration_sec|data_volume_mb|cell_id|technology|status|\n",
      "+----+-----------+---------+------+-------------------+------------+--------------+-------+----------+------+\n",
      "+----+-----------+---------+------+-------------------+------------+--------------+-------+----------+------+\n",
      "\n"
     ]
    },
    {
     "name": "stderr",
     "output_type": "stream",
     "text": [
      "25/05/05 23:19:11 WARN KafkaDataConsumer: KafkaDataConsumer is not running in UninterruptibleThread. It may hang when KafkaDataConsumer's methods are interrupted because of KAFKA-1894\n"
     ]
    },
    {
     "name": "stdout",
     "output_type": "stream",
     "text": [
      "-------------------------------------------\n",
      "Batch: 231\n",
      "-------------------------------------------\n",
      "+----+-----------+---------+------+-------------------+------------+--------------+-------+----------+------+\n",
      "|uuid|record_type|timestamp|msisdn|counterparty_msisdn|duration_sec|data_volume_mb|cell_id|technology|status|\n",
      "+----+-----------+---------+------+-------------------+------------+--------------+-------+----------+------+\n",
      "+----+-----------+---------+------+-------------------+------------+--------------+-------+----------+------+\n",
      "\n"
     ]
    },
    {
     "name": "stderr",
     "output_type": "stream",
     "text": [
      "25/05/05 23:19:12 WARN KafkaDataConsumer: KafkaDataConsumer is not running in UninterruptibleThread. It may hang when KafkaDataConsumer's methods are interrupted because of KAFKA-1894\n"
     ]
    },
    {
     "name": "stdout",
     "output_type": "stream",
     "text": [
      "-------------------------------------------\n",
      "Batch: 232\n",
      "-------------------------------------------\n",
      "+------------------------------------+-----------+-----------------------+------+-------------------+------------+--------------+--------+----------+------+\n",
      "|uuid                                |record_type|timestamp              |msisdn|counterparty_msisdn|duration_sec|data_volume_mb|cell_id |technology|status|\n",
      "+------------------------------------+-----------+-----------------------+------+-------------------+------------+--------------+--------+----------+------+\n",
      "|9d7ec54d-72f7-452b-9a2f-f786a8829d51|voice      |2025-05-05 23:19:11.622|NULL  |212662235639       |1238        |NULL          |azrou_24|4G        |error |\n",
      "+------------------------------------+-----------+-----------------------+------+-------------------+------------+--------------+--------+----------+------+\n",
      "\n"
     ]
    },
    {
     "name": "stderr",
     "output_type": "stream",
     "text": [
      "25/05/05 23:19:13 WARN KafkaDataConsumer: KafkaDataConsumer is not running in UninterruptibleThread. It may hang when KafkaDataConsumer's methods are interrupted because of KAFKA-1894\n",
      "25/05/05 23:19:13 WARN KafkaDataConsumer: KafkaDataConsumer is not running in UninterruptibleThread. It may hang when KafkaDataConsumer's methods are interrupted because of KAFKA-1894\n",
      "                                                                                \r"
     ]
    },
    {
     "name": "stdout",
     "output_type": "stream",
     "text": [
      "-------------------------------------------\n",
      "Batch: 233\n",
      "-------------------------------------------\n",
      "+----+-----------+---------+------+-------------------+------------+--------------+-------+----------+------+\n",
      "|uuid|record_type|timestamp|msisdn|counterparty_msisdn|duration_sec|data_volume_mb|cell_id|technology|status|\n",
      "+----+-----------+---------+------+-------------------+------------+--------------+-------+----------+------+\n",
      "+----+-----------+---------+------+-------------------+------------+--------------+-------+----------+------+\n",
      "\n"
     ]
    },
    {
     "name": "stderr",
     "output_type": "stream",
     "text": [
      "25/05/05 23:19:14 WARN KafkaDataConsumer: KafkaDataConsumer is not running in UninterruptibleThread. It may hang when KafkaDataConsumer's methods are interrupted because of KAFKA-1894\n",
      "25/05/05 23:19:14 WARN KafkaDataConsumer: KafkaDataConsumer is not running in UninterruptibleThread. It may hang when KafkaDataConsumer's methods are interrupted because of KAFKA-1894\n",
      "                                                                                \r"
     ]
    },
    {
     "name": "stdout",
     "output_type": "stream",
     "text": [
      "-------------------------------------------\n",
      "Batch: 234\n",
      "-------------------------------------------\n",
      "+----+-----------+---------+------+-------------------+------------+--------------+-------+----------+------+\n",
      "|uuid|record_type|timestamp|msisdn|counterparty_msisdn|duration_sec|data_volume_mb|cell_id|technology|status|\n",
      "+----+-----------+---------+------+-------------------+------------+--------------+-------+----------+------+\n",
      "+----+-----------+---------+------+-------------------+------------+--------------+-------+----------+------+\n",
      "\n"
     ]
    },
    {
     "name": "stderr",
     "output_type": "stream",
     "text": [
      "25/05/05 23:19:15 WARN KafkaDataConsumer: KafkaDataConsumer is not running in UninterruptibleThread. It may hang when KafkaDataConsumer's methods are interrupted because of KAFKA-1894\n",
      "25/05/05 23:19:15 WARN KafkaDataConsumer: KafkaDataConsumer is not running in UninterruptibleThread. It may hang when KafkaDataConsumer's methods are interrupted because of KAFKA-1894\n"
     ]
    },
    {
     "name": "stdout",
     "output_type": "stream",
     "text": [
      "-------------------------------------------\n",
      "Batch: 235\n",
      "-------------------------------------------\n",
      "+----+-----------+---------+------+-------------------+------------+--------------+-------+----------+------+\n",
      "|uuid|record_type|timestamp|msisdn|counterparty_msisdn|duration_sec|data_volume_mb|cell_id|technology|status|\n",
      "+----+-----------+---------+------+-------------------+------------+--------------+-------+----------+------+\n",
      "+----+-----------+---------+------+-------------------+------------+--------------+-------+----------+------+\n",
      "\n"
     ]
    },
    {
     "name": "stderr",
     "output_type": "stream",
     "text": [
      "25/05/05 23:19:16 WARN KafkaDataConsumer: KafkaDataConsumer is not running in UninterruptibleThread. It may hang when KafkaDataConsumer's methods are interrupted because of KAFKA-1894\n"
     ]
    },
    {
     "name": "stdout",
     "output_type": "stream",
     "text": [
      "-------------------------------------------\n",
      "Batch: 236\n",
      "-------------------------------------------\n",
      "+----+-----------+---------+------+-------------------+------------+--------------+-------+----------+------+\n",
      "|uuid|record_type|timestamp|msisdn|counterparty_msisdn|duration_sec|data_volume_mb|cell_id|technology|status|\n",
      "+----+-----------+---------+------+-------------------+------------+--------------+-------+----------+------+\n",
      "+----+-----------+---------+------+-------------------+------------+--------------+-------+----------+------+\n",
      "\n"
     ]
    },
    {
     "name": "stderr",
     "output_type": "stream",
     "text": [
      "25/05/05 23:19:17 WARN KafkaDataConsumer: KafkaDataConsumer is not running in UninterruptibleThread. It may hang when KafkaDataConsumer's methods are interrupted because of KAFKA-1894\n"
     ]
    },
    {
     "name": "stdout",
     "output_type": "stream",
     "text": [
      "-------------------------------------------\n",
      "Batch: 237\n",
      "-------------------------------------------\n",
      "+----+-----------+---------+------+-------------------+------------+--------------+-------+----------+------+\n",
      "|uuid|record_type|timestamp|msisdn|counterparty_msisdn|duration_sec|data_volume_mb|cell_id|technology|status|\n",
      "+----+-----------+---------+------+-------------------+------------+--------------+-------+----------+------+\n",
      "+----+-----------+---------+------+-------------------+------------+--------------+-------+----------+------+\n",
      "\n"
     ]
    },
    {
     "name": "stderr",
     "output_type": "stream",
     "text": [
      "25/05/05 23:19:17 WARN KafkaDataConsumer: KafkaDataConsumer is not running in UninterruptibleThread. It may hang when KafkaDataConsumer's methods are interrupted because of KAFKA-1894\n"
     ]
    },
    {
     "name": "stdout",
     "output_type": "stream",
     "text": [
      "-------------------------------------------\n",
      "Batch: 238\n",
      "-------------------------------------------\n",
      "+------------------------------------+-----------+-----------------------+------+-------------------+------------+--------------+---------+----------+------+\n",
      "|uuid                                |record_type|timestamp              |msisdn|counterparty_msisdn|duration_sec|data_volume_mb|cell_id  |technology|status|\n",
      "+------------------------------------+-----------+-----------------------+------+-------------------+------------+--------------+---------+----------+------+\n",
      "|38374ab3-ce97-41be-ab04-39495ecf2a14|voice      |2025-05-05 23:19:17.155|NULL  |212718899805       |3658        |NULL          |jerada_23|4G        |error |\n",
      "+------------------------------------+-----------+-----------------------+------+-------------------+------------+--------------+---------+----------+------+\n",
      "\n"
     ]
    },
    {
     "name": "stderr",
     "output_type": "stream",
     "text": [
      "25/05/05 23:19:18 WARN KafkaDataConsumer: KafkaDataConsumer is not running in UninterruptibleThread. It may hang when KafkaDataConsumer's methods are interrupted because of KAFKA-1894\n"
     ]
    },
    {
     "name": "stdout",
     "output_type": "stream",
     "text": [
      "-------------------------------------------\n",
      "Batch: 239\n",
      "-------------------------------------------\n",
      "+----+-----------+---------+------+-------------------+------------+--------------+-------+----------+------+\n",
      "|uuid|record_type|timestamp|msisdn|counterparty_msisdn|duration_sec|data_volume_mb|cell_id|technology|status|\n",
      "+----+-----------+---------+------+-------------------+------------+--------------+-------+----------+------+\n",
      "+----+-----------+---------+------+-------------------+------------+--------------+-------+----------+------+\n",
      "\n"
     ]
    },
    {
     "name": "stderr",
     "output_type": "stream",
     "text": [
      "25/05/05 23:19:19 WARN KafkaDataConsumer: KafkaDataConsumer is not running in UninterruptibleThread. It may hang when KafkaDataConsumer's methods are interrupted because of KAFKA-1894\n"
     ]
    },
    {
     "name": "stdout",
     "output_type": "stream",
     "text": [
      "-------------------------------------------\n",
      "Batch: 240\n",
      "-------------------------------------------\n",
      "+----+-----------+---------+------+-------------------+------------+--------------+-------+----------+------+\n",
      "|uuid|record_type|timestamp|msisdn|counterparty_msisdn|duration_sec|data_volume_mb|cell_id|technology|status|\n",
      "+----+-----------+---------+------+-------------------+------------+--------------+-------+----------+------+\n",
      "+----+-----------+---------+------+-------------------+------------+--------------+-------+----------+------+\n",
      "\n"
     ]
    },
    {
     "name": "stderr",
     "output_type": "stream",
     "text": [
      "25/05/05 23:19:20 WARN KafkaDataConsumer: KafkaDataConsumer is not running in UninterruptibleThread. It may hang when KafkaDataConsumer's methods are interrupted because of KAFKA-1894\n"
     ]
    },
    {
     "name": "stdout",
     "output_type": "stream",
     "text": [
      "-------------------------------------------\n",
      "Batch: 241\n",
      "-------------------------------------------\n",
      "+----+-----------+---------+------+-------------------+------------+--------------+-------+----------+------+\n",
      "|uuid|record_type|timestamp|msisdn|counterparty_msisdn|duration_sec|data_volume_mb|cell_id|technology|status|\n",
      "+----+-----------+---------+------+-------------------+------------+--------------+-------+----------+------+\n",
      "+----+-----------+---------+------+-------------------+------------+--------------+-------+----------+------+\n",
      "\n"
     ]
    },
    {
     "name": "stderr",
     "output_type": "stream",
     "text": [
      "25/05/05 23:19:21 WARN KafkaDataConsumer: KafkaDataConsumer is not running in UninterruptibleThread. It may hang when KafkaDataConsumer's methods are interrupted because of KAFKA-1894\n"
     ]
    },
    {
     "name": "stdout",
     "output_type": "stream",
     "text": [
      "-------------------------------------------\n",
      "Batch: 242\n",
      "-------------------------------------------\n",
      "+----+-----------+---------+------+-------------------+------------+--------------+-------+----------+------+\n",
      "|uuid|record_type|timestamp|msisdn|counterparty_msisdn|duration_sec|data_volume_mb|cell_id|technology|status|\n",
      "+----+-----------+---------+------+-------------------+------------+--------------+-------+----------+------+\n",
      "+----+-----------+---------+------+-------------------+------------+--------------+-------+----------+------+\n",
      "\n"
     ]
    },
    {
     "name": "stderr",
     "output_type": "stream",
     "text": [
      "25/05/05 23:19:22 WARN KafkaDataConsumer: KafkaDataConsumer is not running in UninterruptibleThread. It may hang when KafkaDataConsumer's methods are interrupted because of KAFKA-1894\n"
     ]
    },
    {
     "name": "stdout",
     "output_type": "stream",
     "text": [
      "-------------------------------------------\n",
      "Batch: 243\n",
      "-------------------------------------------\n",
      "+----+-----------+---------+------+-------------------+------------+--------------+-------+----------+------+\n",
      "|uuid|record_type|timestamp|msisdn|counterparty_msisdn|duration_sec|data_volume_mb|cell_id|technology|status|\n",
      "+----+-----------+---------+------+-------------------+------------+--------------+-------+----------+------+\n",
      "+----+-----------+---------+------+-------------------+------------+--------------+-------+----------+------+\n",
      "\n"
     ]
    },
    {
     "name": "stderr",
     "output_type": "stream",
     "text": [
      "25/05/05 23:19:23 WARN KafkaDataConsumer: KafkaDataConsumer is not running in UninterruptibleThread. It may hang when KafkaDataConsumer's methods are interrupted because of KAFKA-1894\n"
     ]
    },
    {
     "name": "stdout",
     "output_type": "stream",
     "text": [
      "-------------------------------------------\n",
      "Batch: 244\n",
      "-------------------------------------------\n",
      "+----+-----------+---------+------+-------------------+------------+--------------+-------+----------+------+\n",
      "|uuid|record_type|timestamp|msisdn|counterparty_msisdn|duration_sec|data_volume_mb|cell_id|technology|status|\n",
      "+----+-----------+---------+------+-------------------+------------+--------------+-------+----------+------+\n",
      "+----+-----------+---------+------+-------------------+------------+--------------+-------+----------+------+\n",
      "\n"
     ]
    },
    {
     "name": "stderr",
     "output_type": "stream",
     "text": [
      "25/05/05 23:19:24 WARN KafkaDataConsumer: KafkaDataConsumer is not running in UninterruptibleThread. It may hang when KafkaDataConsumer's methods are interrupted because of KAFKA-1894\n"
     ]
    },
    {
     "name": "stdout",
     "output_type": "stream",
     "text": [
      "-------------------------------------------\n",
      "Batch: 245\n",
      "-------------------------------------------\n",
      "+----+-----------+---------+------+-------------------+------------+--------------+-------+----------+------+\n",
      "|uuid|record_type|timestamp|msisdn|counterparty_msisdn|duration_sec|data_volume_mb|cell_id|technology|status|\n",
      "+----+-----------+---------+------+-------------------+------------+--------------+-------+----------+------+\n",
      "+----+-----------+---------+------+-------------------+------------+--------------+-------+----------+------+\n",
      "\n"
     ]
    },
    {
     "name": "stderr",
     "output_type": "stream",
     "text": [
      "25/05/05 23:19:25 WARN KafkaDataConsumer: KafkaDataConsumer is not running in UninterruptibleThread. It may hang when KafkaDataConsumer's methods are interrupted because of KAFKA-1894\n"
     ]
    },
    {
     "name": "stdout",
     "output_type": "stream",
     "text": [
      "-------------------------------------------\n",
      "Batch: 246\n",
      "-------------------------------------------\n",
      "+----+-----------+---------+------+-------------------+------------+--------------+-------+----------+------+\n",
      "|uuid|record_type|timestamp|msisdn|counterparty_msisdn|duration_sec|data_volume_mb|cell_id|technology|status|\n",
      "+----+-----------+---------+------+-------------------+------------+--------------+-------+----------+------+\n",
      "+----+-----------+---------+------+-------------------+------------+--------------+-------+----------+------+\n",
      "\n"
     ]
    },
    {
     "name": "stderr",
     "output_type": "stream",
     "text": [
      "25/05/05 23:19:26 WARN KafkaDataConsumer: KafkaDataConsumer is not running in UninterruptibleThread. It may hang when KafkaDataConsumer's methods are interrupted because of KAFKA-1894\n"
     ]
    },
    {
     "name": "stdout",
     "output_type": "stream",
     "text": [
      "-------------------------------------------\n",
      "Batch: 247\n",
      "-------------------------------------------\n",
      "+------------------------------------+-----------+-----------------------+------+-------------------+------------+--------------+----------+----------+------+\n",
      "|uuid                                |record_type|timestamp              |msisdn|counterparty_msisdn|duration_sec|data_volume_mb|cell_id   |technology|status|\n",
      "+------------------------------------+-----------+-----------------------+------+-------------------+------------+--------------+----------+----------+------+\n",
      "|2b09aa4c-619c-462f-8e73-3634bbee2268|voice      |2025-05-05 23:19:26.686|NULL  |212786115909       |269         |NULL          |megousse_1|4G        |error |\n",
      "+------------------------------------+-----------+-----------------------+------+-------------------+------------+--------------+----------+----------+------+\n",
      "\n"
     ]
    },
    {
     "name": "stderr",
     "output_type": "stream",
     "text": [
      "25/05/05 23:19:27 WARN KafkaDataConsumer: KafkaDataConsumer is not running in UninterruptibleThread. It may hang when KafkaDataConsumer's methods are interrupted because of KAFKA-1894\n"
     ]
    },
    {
     "name": "stdout",
     "output_type": "stream",
     "text": [
      "-------------------------------------------\n",
      "Batch: 248\n",
      "-------------------------------------------\n",
      "+----+-----------+---------+------+-------------------+------------+--------------+-------+----------+------+\n",
      "|uuid|record_type|timestamp|msisdn|counterparty_msisdn|duration_sec|data_volume_mb|cell_id|technology|status|\n",
      "+----+-----------+---------+------+-------------------+------------+--------------+-------+----------+------+\n",
      "+----+-----------+---------+------+-------------------+------------+--------------+-------+----------+------+\n",
      "\n"
     ]
    },
    {
     "name": "stderr",
     "output_type": "stream",
     "text": [
      "25/05/05 23:19:28 WARN KafkaDataConsumer: KafkaDataConsumer is not running in UninterruptibleThread. It may hang when KafkaDataConsumer's methods are interrupted because of KAFKA-1894\n"
     ]
    },
    {
     "name": "stdout",
     "output_type": "stream",
     "text": [
      "-------------------------------------------\n",
      "Batch: 249\n",
      "-------------------------------------------\n",
      "+----+-----------+---------+------+-------------------+------------+--------------+-------+----------+------+\n",
      "|uuid|record_type|timestamp|msisdn|counterparty_msisdn|duration_sec|data_volume_mb|cell_id|technology|status|\n",
      "+----+-----------+---------+------+-------------------+------------+--------------+-------+----------+------+\n",
      "+----+-----------+---------+------+-------------------+------------+--------------+-------+----------+------+\n",
      "\n"
     ]
    },
    {
     "name": "stderr",
     "output_type": "stream",
     "text": [
      "25/05/05 23:19:29 WARN KafkaDataConsumer: KafkaDataConsumer is not running in UninterruptibleThread. It may hang when KafkaDataConsumer's methods are interrupted because of KAFKA-1894\n"
     ]
    },
    {
     "name": "stdout",
     "output_type": "stream",
     "text": [
      "-------------------------------------------\n",
      "Batch: 250\n",
      "-------------------------------------------\n",
      "+----+-----------+---------+------+-------------------+------------+--------------+-------+----------+------+\n",
      "|uuid|record_type|timestamp|msisdn|counterparty_msisdn|duration_sec|data_volume_mb|cell_id|technology|status|\n",
      "+----+-----------+---------+------+-------------------+------------+--------------+-------+----------+------+\n",
      "+----+-----------+---------+------+-------------------+------------+--------------+-------+----------+------+\n",
      "\n"
     ]
    },
    {
     "name": "stderr",
     "output_type": "stream",
     "text": [
      "25/05/05 23:19:30 WARN KafkaDataConsumer: KafkaDataConsumer is not running in UninterruptibleThread. It may hang when KafkaDataConsumer's methods are interrupted because of KAFKA-1894\n",
      "                                                                                \r"
     ]
    },
    {
     "name": "stdout",
     "output_type": "stream",
     "text": [
      "-------------------------------------------\n",
      "Batch: 251\n",
      "-------------------------------------------\n",
      "+----+-----------+---------+------+-------------------+------------+--------------+-------+----------+------+\n",
      "|uuid|record_type|timestamp|msisdn|counterparty_msisdn|duration_sec|data_volume_mb|cell_id|technology|status|\n",
      "+----+-----------+---------+------+-------------------+------------+--------------+-------+----------+------+\n",
      "+----+-----------+---------+------+-------------------+------------+--------------+-------+----------+------+\n",
      "\n"
     ]
    },
    {
     "name": "stderr",
     "output_type": "stream",
     "text": [
      "25/05/05 23:19:31 WARN KafkaDataConsumer: KafkaDataConsumer is not running in UninterruptibleThread. It may hang when KafkaDataConsumer's methods are interrupted because of KAFKA-1894\n",
      "                                                                                \r"
     ]
    },
    {
     "name": "stdout",
     "output_type": "stream",
     "text": [
      "-------------------------------------------\n",
      "Batch: 252\n",
      "-------------------------------------------\n",
      "+----+-----------+---------+------+-------------------+------------+--------------+-------+----------+------+\n",
      "|uuid|record_type|timestamp|msisdn|counterparty_msisdn|duration_sec|data_volume_mb|cell_id|technology|status|\n",
      "+----+-----------+---------+------+-------------------+------------+--------------+-------+----------+------+\n",
      "+----+-----------+---------+------+-------------------+------------+--------------+-------+----------+------+\n",
      "\n"
     ]
    },
    {
     "name": "stderr",
     "output_type": "stream",
     "text": [
      "25/05/05 23:19:33 WARN KafkaDataConsumer: KafkaDataConsumer is not running in UninterruptibleThread. It may hang when KafkaDataConsumer's methods are interrupted because of KAFKA-1894\n",
      "25/05/05 23:19:33 WARN KafkaDataConsumer: KafkaDataConsumer is not running in UninterruptibleThread. It may hang when KafkaDataConsumer's methods are interrupted because of KAFKA-1894\n"
     ]
    },
    {
     "name": "stdout",
     "output_type": "stream",
     "text": [
      "-------------------------------------------\n",
      "Batch: 253\n",
      "-------------------------------------------\n",
      "+----+-----------+---------+------+-------------------+------------+--------------+-------+----------+------+\n",
      "|uuid|record_type|timestamp|msisdn|counterparty_msisdn|duration_sec|data_volume_mb|cell_id|technology|status|\n",
      "+----+-----------+---------+------+-------------------+------------+--------------+-------+----------+------+\n",
      "+----+-----------+---------+------+-------------------+------------+--------------+-------+----------+------+\n",
      "\n"
     ]
    },
    {
     "name": "stderr",
     "output_type": "stream",
     "text": [
      "25/05/05 23:19:33 WARN KafkaDataConsumer: KafkaDataConsumer is not running in UninterruptibleThread. It may hang when KafkaDataConsumer's methods are interrupted because of KAFKA-1894\n",
      "                                                                                \r"
     ]
    },
    {
     "name": "stdout",
     "output_type": "stream",
     "text": [
      "-------------------------------------------\n",
      "Batch: 254\n",
      "-------------------------------------------\n",
      "+----+-----------+---------+------+-------------------+------------+--------------+-------+----------+------+\n",
      "|uuid|record_type|timestamp|msisdn|counterparty_msisdn|duration_sec|data_volume_mb|cell_id|technology|status|\n",
      "+----+-----------+---------+------+-------------------+------------+--------------+-------+----------+------+\n",
      "+----+-----------+---------+------+-------------------+------------+--------------+-------+----------+------+\n",
      "\n"
     ]
    },
    {
     "name": "stderr",
     "output_type": "stream",
     "text": [
      "25/05/05 23:19:34 WARN KafkaDataConsumer: KafkaDataConsumer is not running in UninterruptibleThread. It may hang when KafkaDataConsumer's methods are interrupted because of KAFKA-1894\n",
      "25/05/05 23:19:34 WARN KafkaDataConsumer: KafkaDataConsumer is not running in UninterruptibleThread. It may hang when KafkaDataConsumer's methods are interrupted because of KAFKA-1894\n",
      "                                                                                \r"
     ]
    },
    {
     "name": "stdout",
     "output_type": "stream",
     "text": [
      "-------------------------------------------\n",
      "Batch: 255\n",
      "-------------------------------------------\n",
      "+------------------------------------+-----------+-----------------------+------+-------------------+------------+--------------+-----------+----------+------+\n",
      "|uuid                                |record_type|timestamp              |msisdn|counterparty_msisdn|duration_sec|data_volume_mb|cell_id    |technology|status|\n",
      "+------------------------------------+-----------+-----------------------+------+-------------------+------------+--------------+-----------+----------+------+\n",
      "|54496331-8da4-47c7-b7c1-f9a70854a186|voice      |2025-05-05 23:19:33.773|NULL  |212776797613       |572         |NULL          |targuist_26|4G        |error |\n",
      "+------------------------------------+-----------+-----------------------+------+-------------------+------------+--------------+-----------+----------+------+\n",
      "\n"
     ]
    },
    {
     "name": "stderr",
     "output_type": "stream",
     "text": [
      "25/05/05 23:19:35 WARN KafkaDataConsumer: KafkaDataConsumer is not running in UninterruptibleThread. It may hang when KafkaDataConsumer's methods are interrupted because of KAFKA-1894\n"
     ]
    },
    {
     "name": "stdout",
     "output_type": "stream",
     "text": [
      "-------------------------------------------\n",
      "Batch: 256\n",
      "-------------------------------------------\n",
      "+----+-----------+---------+------+-------------------+------------+--------------+-------+----------+------+\n",
      "|uuid|record_type|timestamp|msisdn|counterparty_msisdn|duration_sec|data_volume_mb|cell_id|technology|status|\n",
      "+----+-----------+---------+------+-------------------+------------+--------------+-------+----------+------+\n",
      "+----+-----------+---------+------+-------------------+------------+--------------+-------+----------+------+\n",
      "\n"
     ]
    },
    {
     "name": "stderr",
     "output_type": "stream",
     "text": [
      "25/05/05 23:19:37 WARN KafkaDataConsumer: KafkaDataConsumer is not running in UninterruptibleThread. It may hang when KafkaDataConsumer's methods are interrupted because of KAFKA-1894\n"
     ]
    },
    {
     "name": "stdout",
     "output_type": "stream",
     "text": [
      "-------------------------------------------\n",
      "Batch: 257\n",
      "-------------------------------------------\n",
      "+----+-----------+---------+------+-------------------+------------+--------------+-------+----------+------+\n",
      "|uuid|record_type|timestamp|msisdn|counterparty_msisdn|duration_sec|data_volume_mb|cell_id|technology|status|\n",
      "+----+-----------+---------+------+-------------------+------------+--------------+-------+----------+------+\n",
      "+----+-----------+---------+------+-------------------+------------+--------------+-------+----------+------+\n",
      "\n"
     ]
    },
    {
     "name": "stderr",
     "output_type": "stream",
     "text": [
      "25/05/05 23:19:39 WARN KafkaDataConsumer: KafkaDataConsumer is not running in UninterruptibleThread. It may hang when KafkaDataConsumer's methods are interrupted because of KAFKA-1894\n"
     ]
    },
    {
     "name": "stdout",
     "output_type": "stream",
     "text": [
      "-------------------------------------------\n",
      "Batch: 258\n",
      "-------------------------------------------\n",
      "+----+-----------+---------+------+-------------------+------------+--------------+-------+----------+------+\n",
      "|uuid|record_type|timestamp|msisdn|counterparty_msisdn|duration_sec|data_volume_mb|cell_id|technology|status|\n",
      "+----+-----------+---------+------+-------------------+------------+--------------+-------+----------+------+\n",
      "+----+-----------+---------+------+-------------------+------------+--------------+-------+----------+------+\n",
      "\n"
     ]
    },
    {
     "name": "stderr",
     "output_type": "stream",
     "text": [
      "25/05/05 23:19:39 WARN KafkaDataConsumer: KafkaDataConsumer is not running in UninterruptibleThread. It may hang when KafkaDataConsumer's methods are interrupted because of KAFKA-1894\n"
     ]
    },
    {
     "name": "stdout",
     "output_type": "stream",
     "text": [
      "-------------------------------------------\n",
      "Batch: 259\n",
      "-------------------------------------------\n",
      "+----+-----------+---------+------+-------------------+------------+--------------+-------+----------+------+\n",
      "|uuid|record_type|timestamp|msisdn|counterparty_msisdn|duration_sec|data_volume_mb|cell_id|technology|status|\n",
      "+----+-----------+---------+------+-------------------+------------+--------------+-------+----------+------+\n",
      "+----+-----------+---------+------+-------------------+------------+--------------+-------+----------+------+\n",
      "\n"
     ]
    },
    {
     "name": "stderr",
     "output_type": "stream",
     "text": [
      "25/05/05 23:19:40 WARN KafkaDataConsumer: KafkaDataConsumer is not running in UninterruptibleThread. It may hang when KafkaDataConsumer's methods are interrupted because of KAFKA-1894\n"
     ]
    },
    {
     "name": "stdout",
     "output_type": "stream",
     "text": [
      "-------------------------------------------\n",
      "Batch: 260\n",
      "-------------------------------------------\n",
      "+----+-----------+---------+------+-------------------+------------+--------------+-------+----------+------+\n",
      "|uuid|record_type|timestamp|msisdn|counterparty_msisdn|duration_sec|data_volume_mb|cell_id|technology|status|\n",
      "+----+-----------+---------+------+-------------------+------------+--------------+-------+----------+------+\n",
      "+----+-----------+---------+------+-------------------+------------+--------------+-------+----------+------+\n",
      "\n"
     ]
    },
    {
     "name": "stderr",
     "output_type": "stream",
     "text": [
      "25/05/05 23:19:41 WARN KafkaDataConsumer: KafkaDataConsumer is not running in UninterruptibleThread. It may hang when KafkaDataConsumer's methods are interrupted because of KAFKA-1894\n",
      "                                                                                \r"
     ]
    },
    {
     "name": "stdout",
     "output_type": "stream",
     "text": [
      "-------------------------------------------\n",
      "Batch: 261\n",
      "-------------------------------------------\n",
      "+----+-----------+---------+------+-------------------+------------+--------------+-------+----------+------+\n",
      "|uuid|record_type|timestamp|msisdn|counterparty_msisdn|duration_sec|data_volume_mb|cell_id|technology|status|\n",
      "+----+-----------+---------+------+-------------------+------------+--------------+-------+----------+------+\n",
      "+----+-----------+---------+------+-------------------+------------+--------------+-------+----------+------+\n",
      "\n"
     ]
    },
    {
     "name": "stderr",
     "output_type": "stream",
     "text": [
      "25/05/05 23:19:41 WARN KafkaDataConsumer: KafkaDataConsumer is not running in UninterruptibleThread. It may hang when KafkaDataConsumer's methods are interrupted because of KAFKA-1894\n"
     ]
    },
    {
     "name": "stdout",
     "output_type": "stream",
     "text": [
      "-------------------------------------------\n",
      "Batch: 262\n",
      "-------------------------------------------\n",
      "+----+-----------+---------+------+-------------------+------------+--------------+-------+----------+------+\n",
      "|uuid|record_type|timestamp|msisdn|counterparty_msisdn|duration_sec|data_volume_mb|cell_id|technology|status|\n",
      "+----+-----------+---------+------+-------------------+------------+--------------+-------+----------+------+\n",
      "+----+-----------+---------+------+-------------------+------------+--------------+-------+----------+------+\n",
      "\n"
     ]
    },
    {
     "name": "stderr",
     "output_type": "stream",
     "text": [
      "25/05/05 23:19:42 WARN KafkaDataConsumer: KafkaDataConsumer is not running in UninterruptibleThread. It may hang when KafkaDataConsumer's methods are interrupted because of KAFKA-1894\n"
     ]
    },
    {
     "name": "stdout",
     "output_type": "stream",
     "text": [
      "-------------------------------------------\n",
      "Batch: 263\n",
      "-------------------------------------------\n",
      "+----+-----------+---------+------+-------------------+------------+--------------+-------+----------+------+\n",
      "|uuid|record_type|timestamp|msisdn|counterparty_msisdn|duration_sec|data_volume_mb|cell_id|technology|status|\n",
      "+----+-----------+---------+------+-------------------+------------+--------------+-------+----------+------+\n",
      "+----+-----------+---------+------+-------------------+------------+--------------+-------+----------+------+\n",
      "\n"
     ]
    },
    {
     "name": "stderr",
     "output_type": "stream",
     "text": [
      "25/05/05 23:19:42 WARN KafkaDataConsumer: KafkaDataConsumer is not running in UninterruptibleThread. It may hang when KafkaDataConsumer's methods are interrupted because of KAFKA-1894\n"
     ]
    },
    {
     "name": "stdout",
     "output_type": "stream",
     "text": [
      "-------------------------------------------\n",
      "Batch: 264\n",
      "-------------------------------------------\n",
      "+----+-----------+---------+------+-------------------+------------+--------------+-------+----------+------+\n",
      "|uuid|record_type|timestamp|msisdn|counterparty_msisdn|duration_sec|data_volume_mb|cell_id|technology|status|\n",
      "+----+-----------+---------+------+-------------------+------------+--------------+-------+----------+------+\n",
      "+----+-----------+---------+------+-------------------+------------+--------------+-------+----------+------+\n",
      "\n"
     ]
    },
    {
     "name": "stderr",
     "output_type": "stream",
     "text": [
      "25/05/05 23:19:43 WARN KafkaDataConsumer: KafkaDataConsumer is not running in UninterruptibleThread. It may hang when KafkaDataConsumer's methods are interrupted because of KAFKA-1894\n",
      "                                                                                \r"
     ]
    },
    {
     "name": "stdout",
     "output_type": "stream",
     "text": [
      "-------------------------------------------\n",
      "Batch: 265\n",
      "-------------------------------------------\n",
      "+----+-----------+---------+------+-------------------+------------+--------------+-------+----------+------+\n",
      "|uuid|record_type|timestamp|msisdn|counterparty_msisdn|duration_sec|data_volume_mb|cell_id|technology|status|\n",
      "+----+-----------+---------+------+-------------------+------------+--------------+-------+----------+------+\n",
      "+----+-----------+---------+------+-------------------+------------+--------------+-------+----------+------+\n",
      "\n"
     ]
    },
    {
     "name": "stderr",
     "output_type": "stream",
     "text": [
      "25/05/05 23:19:44 WARN KafkaDataConsumer: KafkaDataConsumer is not running in UninterruptibleThread. It may hang when KafkaDataConsumer's methods are interrupted because of KAFKA-1894\n",
      "25/05/05 23:19:45 WARN KafkaDataConsumer: KafkaDataConsumer is not running in UninterruptibleThread. It may hang when KafkaDataConsumer's methods are interrupted because of KAFKA-1894\n"
     ]
    },
    {
     "name": "stdout",
     "output_type": "stream",
     "text": [
      "-------------------------------------------\n",
      "Batch: 266\n",
      "-------------------------------------------\n",
      "+----+-----------+---------+------+-------------------+------------+--------------+-------+----------+------+\n",
      "|uuid|record_type|timestamp|msisdn|counterparty_msisdn|duration_sec|data_volume_mb|cell_id|technology|status|\n",
      "+----+-----------+---------+------+-------------------+------------+--------------+-------+----------+------+\n",
      "+----+-----------+---------+------+-------------------+------------+--------------+-------+----------+------+\n",
      "\n"
     ]
    },
    {
     "name": "stderr",
     "output_type": "stream",
     "text": [
      "25/05/05 23:19:45 WARN KafkaDataConsumer: KafkaDataConsumer is not running in UninterruptibleThread. It may hang when KafkaDataConsumer's methods are interrupted because of KAFKA-1894\n"
     ]
    },
    {
     "name": "stdout",
     "output_type": "stream",
     "text": [
      "-------------------------------------------\n",
      "Batch: 267\n",
      "-------------------------------------------\n",
      "+----+-----------+---------+------+-------------------+------------+--------------+-------+----------+------+\n",
      "|uuid|record_type|timestamp|msisdn|counterparty_msisdn|duration_sec|data_volume_mb|cell_id|technology|status|\n",
      "+----+-----------+---------+------+-------------------+------------+--------------+-------+----------+------+\n",
      "+----+-----------+---------+------+-------------------+------------+--------------+-------+----------+------+\n",
      "\n"
     ]
    },
    {
     "name": "stderr",
     "output_type": "stream",
     "text": [
      "25/05/05 23:19:46 WARN KafkaDataConsumer: KafkaDataConsumer is not running in UninterruptibleThread. It may hang when KafkaDataConsumer's methods are interrupted because of KAFKA-1894\n"
     ]
    },
    {
     "name": "stdout",
     "output_type": "stream",
     "text": [
      "-------------------------------------------\n",
      "Batch: 268\n",
      "-------------------------------------------\n",
      "+----+-----------+---------+------+-------------------+------------+--------------+-------+----------+------+\n",
      "|uuid|record_type|timestamp|msisdn|counterparty_msisdn|duration_sec|data_volume_mb|cell_id|technology|status|\n",
      "+----+-----------+---------+------+-------------------+------------+--------------+-------+----------+------+\n",
      "+----+-----------+---------+------+-------------------+------------+--------------+-------+----------+------+\n",
      "\n"
     ]
    },
    {
     "name": "stderr",
     "output_type": "stream",
     "text": [
      "25/05/05 23:19:46 WARN KafkaDataConsumer: KafkaDataConsumer is not running in UninterruptibleThread. It may hang when KafkaDataConsumer's methods are interrupted because of KAFKA-1894\n"
     ]
    },
    {
     "name": "stdout",
     "output_type": "stream",
     "text": [
      "-------------------------------------------\n",
      "Batch: 269\n",
      "-------------------------------------------\n",
      "+----+-----------+---------+------+-------------------+------------+--------------+-------+----------+------+\n",
      "|uuid|record_type|timestamp|msisdn|counterparty_msisdn|duration_sec|data_volume_mb|cell_id|technology|status|\n",
      "+----+-----------+---------+------+-------------------+------------+--------------+-------+----------+------+\n",
      "+----+-----------+---------+------+-------------------+------------+--------------+-------+----------+------+\n",
      "\n"
     ]
    },
    {
     "name": "stderr",
     "output_type": "stream",
     "text": [
      "25/05/05 23:19:47 WARN KafkaDataConsumer: KafkaDataConsumer is not running in UninterruptibleThread. It may hang when KafkaDataConsumer's methods are interrupted because of KAFKA-1894\n"
     ]
    },
    {
     "name": "stdout",
     "output_type": "stream",
     "text": [
      "-------------------------------------------\n",
      "Batch: 270\n",
      "-------------------------------------------\n",
      "+------------------------------------+-----------+----------------------+------+-------------------+------------+--------------+-------------+----------+------+\n",
      "|uuid                                |record_type|timestamp             |msisdn|counterparty_msisdn|duration_sec|data_volume_mb|cell_id      |technology|status|\n",
      "+------------------------------------+-----------+----------------------+------+-------------------+------------+--------------+-------------+----------+------+\n",
      "|3ff84296-464c-4d20-bfee-e67fdb3a323a|voice      |2025-05-05 23:19:46.85|NULL  |212761968410       |3315        |NULL          |kerrouchen_54|4G        |error |\n",
      "+------------------------------------+-----------+----------------------+------+-------------------+------------+--------------+-------------+----------+------+\n",
      "\n"
     ]
    },
    {
     "name": "stderr",
     "output_type": "stream",
     "text": [
      "25/05/05 23:19:48 WARN KafkaDataConsumer: KafkaDataConsumer is not running in UninterruptibleThread. It may hang when KafkaDataConsumer's methods are interrupted because of KAFKA-1894\n"
     ]
    },
    {
     "name": "stdout",
     "output_type": "stream",
     "text": [
      "-------------------------------------------\n",
      "Batch: 271\n",
      "-------------------------------------------\n",
      "+----+-----------+---------+------+-------------------+------------+--------------+-------+----------+------+\n",
      "|uuid|record_type|timestamp|msisdn|counterparty_msisdn|duration_sec|data_volume_mb|cell_id|technology|status|\n",
      "+----+-----------+---------+------+-------------------+------------+--------------+-------+----------+------+\n",
      "+----+-----------+---------+------+-------------------+------------+--------------+-------+----------+------+\n",
      "\n"
     ]
    },
    {
     "name": "stderr",
     "output_type": "stream",
     "text": [
      "25/05/05 23:19:49 WARN KafkaDataConsumer: KafkaDataConsumer is not running in UninterruptibleThread. It may hang when KafkaDataConsumer's methods are interrupted because of KAFKA-1894\n",
      "25/05/05 23:19:49 WARN KafkaDataConsumer: KafkaDataConsumer is not running in UninterruptibleThread. It may hang when KafkaDataConsumer's methods are interrupted because of KAFKA-1894\n"
     ]
    },
    {
     "name": "stdout",
     "output_type": "stream",
     "text": [
      "-------------------------------------------\n",
      "Batch: 272\n",
      "-------------------------------------------\n",
      "+----+-----------+---------+------+-------------------+------------+--------------+-------+----------+------+\n",
      "|uuid|record_type|timestamp|msisdn|counterparty_msisdn|duration_sec|data_volume_mb|cell_id|technology|status|\n",
      "+----+-----------+---------+------+-------------------+------------+--------------+-------+----------+------+\n",
      "+----+-----------+---------+------+-------------------+------------+--------------+-------+----------+------+\n",
      "\n"
     ]
    },
    {
     "name": "stderr",
     "output_type": "stream",
     "text": [
      "25/05/05 23:19:49 WARN KafkaDataConsumer: KafkaDataConsumer is not running in UninterruptibleThread. It may hang when KafkaDataConsumer's methods are interrupted because of KAFKA-1894\n"
     ]
    },
    {
     "name": "stdout",
     "output_type": "stream",
     "text": [
      "-------------------------------------------\n",
      "Batch: 273\n",
      "-------------------------------------------\n",
      "+----+-----------+---------+------+-------------------+------------+--------------+-------+----------+------+\n",
      "|uuid|record_type|timestamp|msisdn|counterparty_msisdn|duration_sec|data_volume_mb|cell_id|technology|status|\n",
      "+----+-----------+---------+------+-------------------+------------+--------------+-------+----------+------+\n",
      "+----+-----------+---------+------+-------------------+------------+--------------+-------+----------+------+\n",
      "\n"
     ]
    },
    {
     "name": "stderr",
     "output_type": "stream",
     "text": [
      "25/05/05 23:19:50 WARN KafkaDataConsumer: KafkaDataConsumer is not running in UninterruptibleThread. It may hang when KafkaDataConsumer's methods are interrupted because of KAFKA-1894\n",
      "                                                                                \r"
     ]
    },
    {
     "name": "stdout",
     "output_type": "stream",
     "text": [
      "-------------------------------------------\n",
      "Batch: 274\n",
      "-------------------------------------------\n",
      "+----+-----------+---------+------+-------------------+------------+--------------+-------+----------+------+\n",
      "|uuid|record_type|timestamp|msisdn|counterparty_msisdn|duration_sec|data_volume_mb|cell_id|technology|status|\n",
      "+----+-----------+---------+------+-------------------+------------+--------------+-------+----------+------+\n",
      "+----+-----------+---------+------+-------------------+------------+--------------+-------+----------+------+\n",
      "\n"
     ]
    },
    {
     "name": "stderr",
     "output_type": "stream",
     "text": [
      "25/05/05 23:19:52 WARN KafkaDataConsumer: KafkaDataConsumer is not running in UninterruptibleThread. It may hang when KafkaDataConsumer's methods are interrupted because of KAFKA-1894\n"
     ]
    },
    {
     "name": "stdout",
     "output_type": "stream",
     "text": [
      "-------------------------------------------\n",
      "Batch: 275\n",
      "-------------------------------------------\n",
      "+----+-----------+---------+------+-------------------+------------+--------------+-------+----------+------+\n",
      "|uuid|record_type|timestamp|msisdn|counterparty_msisdn|duration_sec|data_volume_mb|cell_id|technology|status|\n",
      "+----+-----------+---------+------+-------------------+------------+--------------+-------+----------+------+\n",
      "+----+-----------+---------+------+-------------------+------------+--------------+-------+----------+------+\n",
      "\n"
     ]
    },
    {
     "name": "stderr",
     "output_type": "stream",
     "text": [
      "25/05/05 23:19:53 WARN KafkaDataConsumer: KafkaDataConsumer is not running in UninterruptibleThread. It may hang when KafkaDataConsumer's methods are interrupted because of KAFKA-1894\n",
      "25/05/05 23:19:53 WARN KafkaDataConsumer: KafkaDataConsumer is not running in UninterruptibleThread. It may hang when KafkaDataConsumer's methods are interrupted because of KAFKA-1894\n",
      "25/05/05 23:19:53 WARN KafkaDataConsumer: KafkaDataConsumer is not running in UninterruptibleThread. It may hang when KafkaDataConsumer's methods are interrupted because of KAFKA-1894\n"
     ]
    },
    {
     "name": "stdout",
     "output_type": "stream",
     "text": [
      "-------------------------------------------\n",
      "Batch: 276\n",
      "-------------------------------------------\n",
      "+----+-----------+---------+------+-------------------+------------+--------------+-------+----------+------+\n",
      "|uuid|record_type|timestamp|msisdn|counterparty_msisdn|duration_sec|data_volume_mb|cell_id|technology|status|\n",
      "+----+-----------+---------+------+-------------------+------------+--------------+-------+----------+------+\n",
      "+----+-----------+---------+------+-------------------+------------+--------------+-------+----------+------+\n",
      "\n"
     ]
    },
    {
     "name": "stderr",
     "output_type": "stream",
     "text": [
      "25/05/05 23:19:55 WARN KafkaDataConsumer: KafkaDataConsumer is not running in UninterruptibleThread. It may hang when KafkaDataConsumer's methods are interrupted because of KAFKA-1894\n"
     ]
    },
    {
     "name": "stdout",
     "output_type": "stream",
     "text": [
      "-------------------------------------------\n",
      "Batch: 277\n",
      "-------------------------------------------\n",
      "+----+-----------+---------+------+-------------------+------------+--------------+-------+----------+------+\n",
      "|uuid|record_type|timestamp|msisdn|counterparty_msisdn|duration_sec|data_volume_mb|cell_id|technology|status|\n",
      "+----+-----------+---------+------+-------------------+------------+--------------+-------+----------+------+\n",
      "+----+-----------+---------+------+-------------------+------------+--------------+-------+----------+------+\n",
      "\n"
     ]
    },
    {
     "name": "stderr",
     "output_type": "stream",
     "text": [
      "25/05/05 23:19:56 WARN KafkaDataConsumer: KafkaDataConsumer is not running in UninterruptibleThread. It may hang when KafkaDataConsumer's methods are interrupted because of KAFKA-1894\n"
     ]
    },
    {
     "name": "stdout",
     "output_type": "stream",
     "text": [
      "-------------------------------------------\n",
      "Batch: 278\n",
      "-------------------------------------------\n",
      "+----+-----------+---------+------+-------------------+------------+--------------+-------+----------+------+\n",
      "|uuid|record_type|timestamp|msisdn|counterparty_msisdn|duration_sec|data_volume_mb|cell_id|technology|status|\n",
      "+----+-----------+---------+------+-------------------+------------+--------------+-------+----------+------+\n",
      "+----+-----------+---------+------+-------------------+------------+--------------+-------+----------+------+\n",
      "\n"
     ]
    },
    {
     "name": "stderr",
     "output_type": "stream",
     "text": [
      "25/05/05 23:19:57 WARN KafkaDataConsumer: KafkaDataConsumer is not running in UninterruptibleThread. It may hang when KafkaDataConsumer's methods are interrupted because of KAFKA-1894\n"
     ]
    },
    {
     "name": "stdout",
     "output_type": "stream",
     "text": [
      "-------------------------------------------\n",
      "Batch: 279\n",
      "-------------------------------------------\n",
      "+----+-----------+---------+------+-------------------+------------+--------------+-------+----------+------+\n",
      "|uuid|record_type|timestamp|msisdn|counterparty_msisdn|duration_sec|data_volume_mb|cell_id|technology|status|\n",
      "+----+-----------+---------+------+-------------------+------------+--------------+-------+----------+------+\n",
      "+----+-----------+---------+------+-------------------+------------+--------------+-------+----------+------+\n",
      "\n"
     ]
    },
    {
     "name": "stderr",
     "output_type": "stream",
     "text": [
      "25/05/05 23:19:57 WARN KafkaDataConsumer: KafkaDataConsumer is not running in UninterruptibleThread. It may hang when KafkaDataConsumer's methods are interrupted because of KAFKA-1894\n"
     ]
    },
    {
     "name": "stdout",
     "output_type": "stream",
     "text": [
      "-------------------------------------------\n",
      "Batch: 280\n",
      "-------------------------------------------\n",
      "+----+-----------+---------+------+-------------------+------------+--------------+-------+----------+------+\n",
      "|uuid|record_type|timestamp|msisdn|counterparty_msisdn|duration_sec|data_volume_mb|cell_id|technology|status|\n",
      "+----+-----------+---------+------+-------------------+------------+--------------+-------+----------+------+\n",
      "+----+-----------+---------+------+-------------------+------------+--------------+-------+----------+------+\n",
      "\n"
     ]
    },
    {
     "name": "stderr",
     "output_type": "stream",
     "text": [
      "25/05/05 23:19:58 WARN KafkaDataConsumer: KafkaDataConsumer is not running in UninterruptibleThread. It may hang when KafkaDataConsumer's methods are interrupted because of KAFKA-1894\n"
     ]
    },
    {
     "name": "stdout",
     "output_type": "stream",
     "text": [
      "-------------------------------------------\n",
      "Batch: 281\n",
      "-------------------------------------------\n",
      "+----+-----------+---------+------+-------------------+------------+--------------+-------+----------+------+\n",
      "|uuid|record_type|timestamp|msisdn|counterparty_msisdn|duration_sec|data_volume_mb|cell_id|technology|status|\n",
      "+----+-----------+---------+------+-------------------+------------+--------------+-------+----------+------+\n",
      "+----+-----------+---------+------+-------------------+------------+--------------+-------+----------+------+\n",
      "\n"
     ]
    },
    {
     "name": "stderr",
     "output_type": "stream",
     "text": [
      "25/05/05 23:19:59 WARN KafkaDataConsumer: KafkaDataConsumer is not running in UninterruptibleThread. It may hang when KafkaDataConsumer's methods are interrupted because of KAFKA-1894\n",
      "                                                                                \r"
     ]
    },
    {
     "name": "stdout",
     "output_type": "stream",
     "text": [
      "-------------------------------------------\n",
      "Batch: 282\n",
      "-------------------------------------------\n",
      "+----+-----------+---------+------+-------------------+------------+--------------+-------+----------+------+\n",
      "|uuid|record_type|timestamp|msisdn|counterparty_msisdn|duration_sec|data_volume_mb|cell_id|technology|status|\n",
      "+----+-----------+---------+------+-------------------+------------+--------------+-------+----------+------+\n",
      "+----+-----------+---------+------+-------------------+------------+--------------+-------+----------+------+\n",
      "\n"
     ]
    },
    {
     "name": "stderr",
     "output_type": "stream",
     "text": [
      "25/05/05 23:20:00 WARN KafkaDataConsumer: KafkaDataConsumer is not running in UninterruptibleThread. It may hang when KafkaDataConsumer's methods are interrupted because of KAFKA-1894\n"
     ]
    },
    {
     "name": "stdout",
     "output_type": "stream",
     "text": [
      "-------------------------------------------\n",
      "Batch: 283\n",
      "-------------------------------------------\n",
      "+----+-----------+---------+------+-------------------+------------+--------------+-------+----------+------+\n",
      "|uuid|record_type|timestamp|msisdn|counterparty_msisdn|duration_sec|data_volume_mb|cell_id|technology|status|\n",
      "+----+-----------+---------+------+-------------------+------------+--------------+-------+----------+------+\n",
      "+----+-----------+---------+------+-------------------+------------+--------------+-------+----------+------+\n",
      "\n"
     ]
    },
    {
     "name": "stderr",
     "output_type": "stream",
     "text": [
      "25/05/05 23:20:01 WARN KafkaDataConsumer: KafkaDataConsumer is not running in UninterruptibleThread. It may hang when KafkaDataConsumer's methods are interrupted because of KAFKA-1894\n"
     ]
    },
    {
     "name": "stdout",
     "output_type": "stream",
     "text": [
      "-------------------------------------------\n",
      "Batch: 284\n",
      "-------------------------------------------\n",
      "+----+-----------+---------+------+-------------------+------------+--------------+-------+----------+------+\n",
      "|uuid|record_type|timestamp|msisdn|counterparty_msisdn|duration_sec|data_volume_mb|cell_id|technology|status|\n",
      "+----+-----------+---------+------+-------------------+------------+--------------+-------+----------+------+\n",
      "+----+-----------+---------+------+-------------------+------------+--------------+-------+----------+------+\n",
      "\n"
     ]
    },
    {
     "name": "stderr",
     "output_type": "stream",
     "text": [
      "25/05/05 23:20:03 WARN KafkaDataConsumer: KafkaDataConsumer is not running in UninterruptibleThread. It may hang when KafkaDataConsumer's methods are interrupted because of KAFKA-1894\n",
      "                                                                                \r"
     ]
    },
    {
     "name": "stdout",
     "output_type": "stream",
     "text": [
      "-------------------------------------------\n",
      "Batch: 285\n",
      "-------------------------------------------\n",
      "+----+-----------+---------+------+-------------------+------------+--------------+-------+----------+------+\n",
      "|uuid|record_type|timestamp|msisdn|counterparty_msisdn|duration_sec|data_volume_mb|cell_id|technology|status|\n",
      "+----+-----------+---------+------+-------------------+------------+--------------+-------+----------+------+\n",
      "+----+-----------+---------+------+-------------------+------------+--------------+-------+----------+------+\n",
      "\n"
     ]
    },
    {
     "name": "stderr",
     "output_type": "stream",
     "text": [
      "25/05/05 23:20:04 WARN KafkaDataConsumer: KafkaDataConsumer is not running in UninterruptibleThread. It may hang when KafkaDataConsumer's methods are interrupted because of KAFKA-1894\n"
     ]
    },
    {
     "name": "stdout",
     "output_type": "stream",
     "text": [
      "-------------------------------------------\n",
      "Batch: 286\n",
      "-------------------------------------------\n",
      "+----+-----------+---------+------+-------------------+------------+--------------+-------+----------+------+\n",
      "|uuid|record_type|timestamp|msisdn|counterparty_msisdn|duration_sec|data_volume_mb|cell_id|technology|status|\n",
      "+----+-----------+---------+------+-------------------+------------+--------------+-------+----------+------+\n",
      "+----+-----------+---------+------+-------------------+------------+--------------+-------+----------+------+\n",
      "\n"
     ]
    },
    {
     "name": "stderr",
     "output_type": "stream",
     "text": [
      "25/05/05 23:20:05 WARN KafkaDataConsumer: KafkaDataConsumer is not running in UninterruptibleThread. It may hang when KafkaDataConsumer's methods are interrupted because of KAFKA-1894\n"
     ]
    },
    {
     "name": "stdout",
     "output_type": "stream",
     "text": [
      "-------------------------------------------\n",
      "Batch: 287\n",
      "-------------------------------------------\n",
      "+----+-----------+---------+------+-------------------+------------+--------------+-------+----------+------+\n",
      "|uuid|record_type|timestamp|msisdn|counterparty_msisdn|duration_sec|data_volume_mb|cell_id|technology|status|\n",
      "+----+-----------+---------+------+-------------------+------------+--------------+-------+----------+------+\n",
      "+----+-----------+---------+------+-------------------+------------+--------------+-------+----------+------+\n",
      "\n"
     ]
    },
    {
     "name": "stderr",
     "output_type": "stream",
     "text": [
      "25/05/05 23:20:06 WARN KafkaDataConsumer: KafkaDataConsumer is not running in UninterruptibleThread. It may hang when KafkaDataConsumer's methods are interrupted because of KAFKA-1894\n"
     ]
    },
    {
     "name": "stdout",
     "output_type": "stream",
     "text": [
      "-------------------------------------------\n",
      "Batch: 288\n",
      "-------------------------------------------\n",
      "+----+-----------+---------+------+-------------------+------------+--------------+-------+----------+------+\n",
      "|uuid|record_type|timestamp|msisdn|counterparty_msisdn|duration_sec|data_volume_mb|cell_id|technology|status|\n",
      "+----+-----------+---------+------+-------------------+------------+--------------+-------+----------+------+\n",
      "+----+-----------+---------+------+-------------------+------------+--------------+-------+----------+------+\n",
      "\n"
     ]
    },
    {
     "name": "stderr",
     "output_type": "stream",
     "text": [
      "25/05/05 23:20:08 WARN KafkaDataConsumer: KafkaDataConsumer is not running in UninterruptibleThread. It may hang when KafkaDataConsumer's methods are interrupted because of KAFKA-1894\n",
      "                                                                                \r"
     ]
    },
    {
     "name": "stdout",
     "output_type": "stream",
     "text": [
      "-------------------------------------------\n",
      "Batch: 289\n",
      "-------------------------------------------\n",
      "+----+-----------+---------+------+-------------------+------------+--------------+-------+----------+------+\n",
      "|uuid|record_type|timestamp|msisdn|counterparty_msisdn|duration_sec|data_volume_mb|cell_id|technology|status|\n",
      "+----+-----------+---------+------+-------------------+------------+--------------+-------+----------+------+\n",
      "+----+-----------+---------+------+-------------------+------------+--------------+-------+----------+------+\n",
      "\n"
     ]
    },
    {
     "name": "stderr",
     "output_type": "stream",
     "text": [
      "25/05/05 23:20:08 WARN KafkaDataConsumer: KafkaDataConsumer is not running in UninterruptibleThread. It may hang when KafkaDataConsumer's methods are interrupted because of KAFKA-1894\n",
      "                                                                                \r"
     ]
    },
    {
     "name": "stdout",
     "output_type": "stream",
     "text": [
      "-------------------------------------------\n",
      "Batch: 290\n",
      "-------------------------------------------\n",
      "+----+-----------+---------+------+-------------------+------------+--------------+-------+----------+------+\n",
      "|uuid|record_type|timestamp|msisdn|counterparty_msisdn|duration_sec|data_volume_mb|cell_id|technology|status|\n",
      "+----+-----------+---------+------+-------------------+------------+--------------+-------+----------+------+\n",
      "+----+-----------+---------+------+-------------------+------------+--------------+-------+----------+------+\n",
      "\n"
     ]
    },
    {
     "name": "stderr",
     "output_type": "stream",
     "text": [
      "25/05/05 23:20:09 WARN KafkaDataConsumer: KafkaDataConsumer is not running in UninterruptibleThread. It may hang when KafkaDataConsumer's methods are interrupted because of KAFKA-1894\n"
     ]
    },
    {
     "name": "stdout",
     "output_type": "stream",
     "text": [
      "-------------------------------------------\n",
      "Batch: 291\n",
      "-------------------------------------------\n",
      "+----+-----------+---------+------+-------------------+------------+--------------+-------+----------+------+\n",
      "|uuid|record_type|timestamp|msisdn|counterparty_msisdn|duration_sec|data_volume_mb|cell_id|technology|status|\n",
      "+----+-----------+---------+------+-------------------+------------+--------------+-------+----------+------+\n",
      "+----+-----------+---------+------+-------------------+------------+--------------+-------+----------+------+\n",
      "\n"
     ]
    },
    {
     "name": "stderr",
     "output_type": "stream",
     "text": [
      "25/05/05 23:20:11 WARN KafkaDataConsumer: KafkaDataConsumer is not running in UninterruptibleThread. It may hang when KafkaDataConsumer's methods are interrupted because of KAFKA-1894\n",
      "                                                                                \r"
     ]
    },
    {
     "name": "stdout",
     "output_type": "stream",
     "text": [
      "-------------------------------------------\n",
      "Batch: 292\n",
      "-------------------------------------------\n",
      "+------------------------------------+-----------+-----------------------+------+-------------------+------------+--------------+---------+----------+------+\n",
      "|uuid                                |record_type|timestamp              |msisdn|counterparty_msisdn|duration_sec|data_volume_mb|cell_id  |technology|status|\n",
      "+------------------------------------+-----------+-----------------------+------+-------------------+------------+--------------+---------+----------+------+\n",
      "|b53e22d5-73a8-48e4-9d23-6001c13fb127|voice      |2025-05-05 23:20:11.158|NULL  |212629488313       |7200        |NULL          |bhalil_27|5G        |error |\n",
      "+------------------------------------+-----------+-----------------------+------+-------------------+------------+--------------+---------+----------+------+\n",
      "\n"
     ]
    },
    {
     "name": "stderr",
     "output_type": "stream",
     "text": [
      "25/05/05 23:20:12 WARN KafkaDataConsumer: KafkaDataConsumer is not running in UninterruptibleThread. It may hang when KafkaDataConsumer's methods are interrupted because of KAFKA-1894\n"
     ]
    },
    {
     "name": "stdout",
     "output_type": "stream",
     "text": [
      "-------------------------------------------\n",
      "Batch: 293\n",
      "-------------------------------------------\n",
      "+----+-----------+---------+------+-------------------+------------+--------------+-------+----------+------+\n",
      "|uuid|record_type|timestamp|msisdn|counterparty_msisdn|duration_sec|data_volume_mb|cell_id|technology|status|\n",
      "+----+-----------+---------+------+-------------------+------------+--------------+-------+----------+------+\n",
      "+----+-----------+---------+------+-------------------+------------+--------------+-------+----------+------+\n",
      "\n"
     ]
    },
    {
     "name": "stderr",
     "output_type": "stream",
     "text": [
      "25/05/05 23:20:12 WARN KafkaDataConsumer: KafkaDataConsumer is not running in UninterruptibleThread. It may hang when KafkaDataConsumer's methods are interrupted because of KAFKA-1894\n"
     ]
    },
    {
     "name": "stdout",
     "output_type": "stream",
     "text": [
      "-------------------------------------------\n",
      "Batch: 294\n",
      "-------------------------------------------\n",
      "+----+-----------+---------+------+-------------------+------------+--------------+-------+----------+------+\n",
      "|uuid|record_type|timestamp|msisdn|counterparty_msisdn|duration_sec|data_volume_mb|cell_id|technology|status|\n",
      "+----+-----------+---------+------+-------------------+------------+--------------+-------+----------+------+\n",
      "+----+-----------+---------+------+-------------------+------------+--------------+-------+----------+------+\n",
      "\n"
     ]
    },
    {
     "name": "stderr",
     "output_type": "stream",
     "text": [
      "25/05/05 23:20:13 WARN KafkaDataConsumer: KafkaDataConsumer is not running in UninterruptibleThread. It may hang when KafkaDataConsumer's methods are interrupted because of KAFKA-1894\n"
     ]
    },
    {
     "name": "stdout",
     "output_type": "stream",
     "text": [
      "-------------------------------------------\n",
      "Batch: 295\n",
      "-------------------------------------------\n",
      "+----+-----------+---------+------+-------------------+------------+--------------+-------+----------+------+\n",
      "|uuid|record_type|timestamp|msisdn|counterparty_msisdn|duration_sec|data_volume_mb|cell_id|technology|status|\n",
      "+----+-----------+---------+------+-------------------+------------+--------------+-------+----------+------+\n",
      "+----+-----------+---------+------+-------------------+------------+--------------+-------+----------+------+\n",
      "\n"
     ]
    },
    {
     "name": "stderr",
     "output_type": "stream",
     "text": [
      "25/05/05 23:20:14 WARN KafkaDataConsumer: KafkaDataConsumer is not running in UninterruptibleThread. It may hang when KafkaDataConsumer's methods are interrupted because of KAFKA-1894\n",
      "25/05/05 23:20:14 WARN KafkaDataConsumer: KafkaDataConsumer is not running in UninterruptibleThread. It may hang when KafkaDataConsumer's methods are interrupted because of KAFKA-1894\n",
      "                                                                                \r"
     ]
    },
    {
     "name": "stdout",
     "output_type": "stream",
     "text": [
      "-------------------------------------------\n",
      "Batch: 296\n",
      "-------------------------------------------\n",
      "+----+-----------+---------+------+-------------------+------------+--------------+-------+----------+------+\n",
      "|uuid|record_type|timestamp|msisdn|counterparty_msisdn|duration_sec|data_volume_mb|cell_id|technology|status|\n",
      "+----+-----------+---------+------+-------------------+------------+--------------+-------+----------+------+\n",
      "+----+-----------+---------+------+-------------------+------------+--------------+-------+----------+------+\n",
      "\n"
     ]
    },
    {
     "name": "stderr",
     "output_type": "stream",
     "text": [
      "25/05/05 23:20:16 WARN KafkaDataConsumer: KafkaDataConsumer is not running in UninterruptibleThread. It may hang when KafkaDataConsumer's methods are interrupted because of KAFKA-1894\n",
      "25/05/05 23:20:16 WARN KafkaDataConsumer: KafkaDataConsumer is not running in UninterruptibleThread. It may hang when KafkaDataConsumer's methods are interrupted because of KAFKA-1894\n",
      "25/05/05 23:20:16 WARN KafkaDataConsumer: KafkaDataConsumer is not running in UninterruptibleThread. It may hang when KafkaDataConsumer's methods are interrupted because of KAFKA-1894\n"
     ]
    },
    {
     "name": "stdout",
     "output_type": "stream",
     "text": [
      "-------------------------------------------\n",
      "Batch: 297\n",
      "-------------------------------------------\n",
      "+----+-----------+---------+------+-------------------+------------+--------------+-------+----------+------+\n",
      "|uuid|record_type|timestamp|msisdn|counterparty_msisdn|duration_sec|data_volume_mb|cell_id|technology|status|\n",
      "+----+-----------+---------+------+-------------------+------------+--------------+-------+----------+------+\n",
      "+----+-----------+---------+------+-------------------+------------+--------------+-------+----------+------+\n",
      "\n"
     ]
    },
    {
     "name": "stderr",
     "output_type": "stream",
     "text": [
      "25/05/05 23:20:17 WARN KafkaDataConsumer: KafkaDataConsumer is not running in UninterruptibleThread. It may hang when KafkaDataConsumer's methods are interrupted because of KAFKA-1894\n",
      "25/05/05 23:20:17 WARN KafkaDataConsumer: KafkaDataConsumer is not running in UninterruptibleThread. It may hang when KafkaDataConsumer's methods are interrupted because of KAFKA-1894\n"
     ]
    },
    {
     "name": "stdout",
     "output_type": "stream",
     "text": [
      "-------------------------------------------\n",
      "Batch: 298\n",
      "-------------------------------------------\n",
      "+----+-----------+---------+------+-------------------+------------+--------------+-------+----------+------+\n",
      "|uuid|record_type|timestamp|msisdn|counterparty_msisdn|duration_sec|data_volume_mb|cell_id|technology|status|\n",
      "+----+-----------+---------+------+-------------------+------------+--------------+-------+----------+------+\n",
      "+----+-----------+---------+------+-------------------+------------+--------------+-------+----------+------+\n",
      "\n"
     ]
    },
    {
     "name": "stderr",
     "output_type": "stream",
     "text": [
      "25/05/05 23:20:18 WARN KafkaDataConsumer: KafkaDataConsumer is not running in UninterruptibleThread. It may hang when KafkaDataConsumer's methods are interrupted because of KAFKA-1894\n",
      "25/05/05 23:20:18 WARN KafkaDataConsumer: KafkaDataConsumer is not running in UninterruptibleThread. It may hang when KafkaDataConsumer's methods are interrupted because of KAFKA-1894\n",
      "                                                                                \r"
     ]
    },
    {
     "name": "stdout",
     "output_type": "stream",
     "text": [
      "-------------------------------------------\n",
      "Batch: 299\n",
      "-------------------------------------------\n",
      "+----+-----------+---------+------+-------------------+------------+--------------+-------+----------+------+\n",
      "|uuid|record_type|timestamp|msisdn|counterparty_msisdn|duration_sec|data_volume_mb|cell_id|technology|status|\n",
      "+----+-----------+---------+------+-------------------+------------+--------------+-------+----------+------+\n",
      "+----+-----------+---------+------+-------------------+------------+--------------+-------+----------+------+\n",
      "\n"
     ]
    },
    {
     "name": "stderr",
     "output_type": "stream",
     "text": [
      "25/05/05 23:20:19 WARN KafkaDataConsumer: KafkaDataConsumer is not running in UninterruptibleThread. It may hang when KafkaDataConsumer's methods are interrupted because of KAFKA-1894\n"
     ]
    },
    {
     "name": "stdout",
     "output_type": "stream",
     "text": [
      "-------------------------------------------\n",
      "Batch: 300\n",
      "-------------------------------------------\n",
      "+----+-----------+---------+------+-------------------+------------+--------------+-------+----------+------+\n",
      "|uuid|record_type|timestamp|msisdn|counterparty_msisdn|duration_sec|data_volume_mb|cell_id|technology|status|\n",
      "+----+-----------+---------+------+-------------------+------------+--------------+-------+----------+------+\n",
      "+----+-----------+---------+------+-------------------+------------+--------------+-------+----------+------+\n",
      "\n"
     ]
    },
    {
     "name": "stderr",
     "output_type": "stream",
     "text": [
      "25/05/05 23:20:22 WARN KafkaDataConsumer: KafkaDataConsumer is not running in UninterruptibleThread. It may hang when KafkaDataConsumer's methods are interrupted because of KAFKA-1894\n",
      "                                                                                \r"
     ]
    },
    {
     "name": "stdout",
     "output_type": "stream",
     "text": [
      "-------------------------------------------\n",
      "Batch: 301\n",
      "-------------------------------------------\n",
      "+------------------------------------+-----------+-----------------------+------+-------------------+------------+--------------+----------+----------+------+\n",
      "|uuid                                |record_type|timestamp              |msisdn|counterparty_msisdn|duration_sec|data_volume_mb|cell_id   |technology|status|\n",
      "+------------------------------------+-----------+-----------------------+------+-------------------+------------+--------------+----------+----------+------+\n",
      "|5f930bf3-d2dd-442e-b1cd-c2c3639b98de|voice      |2025-05-05 23:20:21.922|NULL  |212683967517       |351         |NULL          |akchour_25|5G        |error |\n",
      "+------------------------------------+-----------+-----------------------+------+-------------------+------------+--------------+----------+----------+------+\n",
      "\n"
     ]
    },
    {
     "name": "stderr",
     "output_type": "stream",
     "text": [
      "25/05/05 23:20:23 WARN KafkaDataConsumer: KafkaDataConsumer is not running in UninterruptibleThread. It may hang when KafkaDataConsumer's methods are interrupted because of KAFKA-1894\n"
     ]
    },
    {
     "name": "stdout",
     "output_type": "stream",
     "text": [
      "-------------------------------------------\n",
      "Batch: 302\n",
      "-------------------------------------------\n",
      "+----+-----------+---------+------+-------------------+------------+--------------+-------+----------+------+\n",
      "|uuid|record_type|timestamp|msisdn|counterparty_msisdn|duration_sec|data_volume_mb|cell_id|technology|status|\n",
      "+----+-----------+---------+------+-------------------+------------+--------------+-------+----------+------+\n",
      "+----+-----------+---------+------+-------------------+------------+--------------+-------+----------+------+\n",
      "\n"
     ]
    },
    {
     "name": "stderr",
     "output_type": "stream",
     "text": [
      "25/05/05 23:20:25 WARN KafkaDataConsumer: KafkaDataConsumer is not running in UninterruptibleThread. It may hang when KafkaDataConsumer's methods are interrupted because of KAFKA-1894\n"
     ]
    },
    {
     "name": "stdout",
     "output_type": "stream",
     "text": [
      "-------------------------------------------\n",
      "Batch: 303\n",
      "-------------------------------------------\n",
      "+----+-----------+---------+------+-------------------+------------+--------------+-------+----------+------+\n",
      "|uuid|record_type|timestamp|msisdn|counterparty_msisdn|duration_sec|data_volume_mb|cell_id|technology|status|\n",
      "+----+-----------+---------+------+-------------------+------------+--------------+-------+----------+------+\n",
      "+----+-----------+---------+------+-------------------+------------+--------------+-------+----------+------+\n",
      "\n"
     ]
    },
    {
     "name": "stderr",
     "output_type": "stream",
     "text": [
      "25/05/05 23:20:26 WARN KafkaDataConsumer: KafkaDataConsumer is not running in UninterruptibleThread. It may hang when KafkaDataConsumer's methods are interrupted because of KAFKA-1894\n"
     ]
    },
    {
     "name": "stdout",
     "output_type": "stream",
     "text": [
      "-------------------------------------------\n",
      "Batch: 304\n",
      "-------------------------------------------\n",
      "+----+-----------+---------+------+-------------------+------------+--------------+-------+----------+------+\n",
      "|uuid|record_type|timestamp|msisdn|counterparty_msisdn|duration_sec|data_volume_mb|cell_id|technology|status|\n",
      "+----+-----------+---------+------+-------------------+------------+--------------+-------+----------+------+\n",
      "+----+-----------+---------+------+-------------------+------------+--------------+-------+----------+------+\n",
      "\n"
     ]
    },
    {
     "name": "stderr",
     "output_type": "stream",
     "text": [
      "25/05/05 23:20:27 WARN KafkaDataConsumer: KafkaDataConsumer is not running in UninterruptibleThread. It may hang when KafkaDataConsumer's methods are interrupted because of KAFKA-1894\n",
      "25/05/05 23:20:27 WARN KafkaDataConsumer: KafkaDataConsumer is not running in UninterruptibleThread. It may hang when KafkaDataConsumer's methods are interrupted because of KAFKA-1894\n"
     ]
    },
    {
     "name": "stdout",
     "output_type": "stream",
     "text": [
      "-------------------------------------------\n",
      "Batch: 305\n",
      "-------------------------------------------\n",
      "+----+-----------+---------+------+-------------------+------------+--------------+-------+----------+------+\n",
      "|uuid|record_type|timestamp|msisdn|counterparty_msisdn|duration_sec|data_volume_mb|cell_id|technology|status|\n",
      "+----+-----------+---------+------+-------------------+------------+--------------+-------+----------+------+\n",
      "+----+-----------+---------+------+-------------------+------------+--------------+-------+----------+------+\n",
      "\n"
     ]
    },
    {
     "name": "stderr",
     "output_type": "stream",
     "text": [
      "25/05/05 23:20:28 WARN KafkaDataConsumer: KafkaDataConsumer is not running in UninterruptibleThread. It may hang when KafkaDataConsumer's methods are interrupted because of KAFKA-1894\n"
     ]
    },
    {
     "name": "stdout",
     "output_type": "stream",
     "text": [
      "-------------------------------------------\n",
      "Batch: 306\n",
      "-------------------------------------------\n",
      "+----+-----------+---------+------+-------------------+------------+--------------+-------+----------+------+\n",
      "|uuid|record_type|timestamp|msisdn|counterparty_msisdn|duration_sec|data_volume_mb|cell_id|technology|status|\n",
      "+----+-----------+---------+------+-------------------+------------+--------------+-------+----------+------+\n",
      "+----+-----------+---------+------+-------------------+------------+--------------+-------+----------+------+\n",
      "\n"
     ]
    },
    {
     "name": "stderr",
     "output_type": "stream",
     "text": [
      "25/05/05 23:20:29 WARN KafkaDataConsumer: KafkaDataConsumer is not running in UninterruptibleThread. It may hang when KafkaDataConsumer's methods are interrupted because of KAFKA-1894\n"
     ]
    },
    {
     "name": "stdout",
     "output_type": "stream",
     "text": [
      "-------------------------------------------\n",
      "Batch: 307\n",
      "-------------------------------------------\n",
      "+----+-----------+---------+------+-------------------+------------+--------------+-------+----------+------+\n",
      "|uuid|record_type|timestamp|msisdn|counterparty_msisdn|duration_sec|data_volume_mb|cell_id|technology|status|\n",
      "+----+-----------+---------+------+-------------------+------------+--------------+-------+----------+------+\n",
      "+----+-----------+---------+------+-------------------+------------+--------------+-------+----------+------+\n",
      "\n"
     ]
    },
    {
     "name": "stderr",
     "output_type": "stream",
     "text": [
      "25/05/05 23:20:29 WARN KafkaDataConsumer: KafkaDataConsumer is not running in UninterruptibleThread. It may hang when KafkaDataConsumer's methods are interrupted because of KAFKA-1894\n"
     ]
    },
    {
     "name": "stdout",
     "output_type": "stream",
     "text": [
      "-------------------------------------------\n",
      "Batch: 308\n",
      "-------------------------------------------\n",
      "+----+-----------+---------+------+-------------------+------------+--------------+-------+----------+------+\n",
      "|uuid|record_type|timestamp|msisdn|counterparty_msisdn|duration_sec|data_volume_mb|cell_id|technology|status|\n",
      "+----+-----------+---------+------+-------------------+------------+--------------+-------+----------+------+\n",
      "+----+-----------+---------+------+-------------------+------------+--------------+-------+----------+------+\n",
      "\n"
     ]
    },
    {
     "name": "stderr",
     "output_type": "stream",
     "text": [
      "25/05/05 23:20:30 WARN KafkaDataConsumer: KafkaDataConsumer is not running in UninterruptibleThread. It may hang when KafkaDataConsumer's methods are interrupted because of KAFKA-1894\n"
     ]
    },
    {
     "name": "stdout",
     "output_type": "stream",
     "text": [
      "-------------------------------------------\n",
      "Batch: 309\n",
      "-------------------------------------------\n",
      "+----+-----------+---------+------+-------------------+------------+--------------+-------+----------+------+\n",
      "|uuid|record_type|timestamp|msisdn|counterparty_msisdn|duration_sec|data_volume_mb|cell_id|technology|status|\n",
      "+----+-----------+---------+------+-------------------+------------+--------------+-------+----------+------+\n",
      "+----+-----------+---------+------+-------------------+------------+--------------+-------+----------+------+\n",
      "\n"
     ]
    },
    {
     "name": "stderr",
     "output_type": "stream",
     "text": [
      "25/05/05 23:20:32 WARN KafkaDataConsumer: KafkaDataConsumer is not running in UninterruptibleThread. It may hang when KafkaDataConsumer's methods are interrupted because of KAFKA-1894\n"
     ]
    },
    {
     "name": "stdout",
     "output_type": "stream",
     "text": [
      "-------------------------------------------\n",
      "Batch: 310\n",
      "-------------------------------------------\n",
      "+----+-----------+---------+------+-------------------+------------+--------------+-------+----------+------+\n",
      "|uuid|record_type|timestamp|msisdn|counterparty_msisdn|duration_sec|data_volume_mb|cell_id|technology|status|\n",
      "+----+-----------+---------+------+-------------------+------------+--------------+-------+----------+------+\n",
      "+----+-----------+---------+------+-------------------+------------+--------------+-------+----------+------+\n",
      "\n"
     ]
    },
    {
     "name": "stderr",
     "output_type": "stream",
     "text": [
      "25/05/05 23:20:32 WARN KafkaDataConsumer: KafkaDataConsumer is not running in UninterruptibleThread. It may hang when KafkaDataConsumer's methods are interrupted because of KAFKA-1894\n"
     ]
    },
    {
     "name": "stdout",
     "output_type": "stream",
     "text": [
      "-------------------------------------------\n",
      "Batch: 311\n",
      "-------------------------------------------\n",
      "+----+-----------+---------+------+-------------------+------------+--------------+-------+----------+------+\n",
      "|uuid|record_type|timestamp|msisdn|counterparty_msisdn|duration_sec|data_volume_mb|cell_id|technology|status|\n",
      "+----+-----------+---------+------+-------------------+------------+--------------+-------+----------+------+\n",
      "+----+-----------+---------+------+-------------------+------------+--------------+-------+----------+------+\n",
      "\n"
     ]
    },
    {
     "name": "stderr",
     "output_type": "stream",
     "text": [
      "25/05/05 23:20:33 WARN KafkaDataConsumer: KafkaDataConsumer is not running in UninterruptibleThread. It may hang when KafkaDataConsumer's methods are interrupted because of KAFKA-1894\n",
      "                                                                                \r"
     ]
    },
    {
     "name": "stdout",
     "output_type": "stream",
     "text": [
      "-------------------------------------------\n",
      "Batch: 312\n",
      "-------------------------------------------\n",
      "+----+-----------+---------+------+-------------------+------------+--------------+-------+----------+------+\n",
      "|uuid|record_type|timestamp|msisdn|counterparty_msisdn|duration_sec|data_volume_mb|cell_id|technology|status|\n",
      "+----+-----------+---------+------+-------------------+------------+--------------+-------+----------+------+\n",
      "+----+-----------+---------+------+-------------------+------------+--------------+-------+----------+------+\n",
      "\n"
     ]
    },
    {
     "name": "stderr",
     "output_type": "stream",
     "text": [
      "25/05/05 23:20:34 WARN KafkaDataConsumer: KafkaDataConsumer is not running in UninterruptibleThread. It may hang when KafkaDataConsumer's methods are interrupted because of KAFKA-1894\n"
     ]
    },
    {
     "name": "stdout",
     "output_type": "stream",
     "text": [
      "-------------------------------------------\n",
      "Batch: 313\n",
      "-------------------------------------------\n",
      "+----+-----------+---------+------+-------------------+------------+--------------+-------+----------+------+\n",
      "|uuid|record_type|timestamp|msisdn|counterparty_msisdn|duration_sec|data_volume_mb|cell_id|technology|status|\n",
      "+----+-----------+---------+------+-------------------+------------+--------------+-------+----------+------+\n",
      "+----+-----------+---------+------+-------------------+------------+--------------+-------+----------+------+\n",
      "\n"
     ]
    },
    {
     "name": "stderr",
     "output_type": "stream",
     "text": [
      "25/05/05 23:20:35 WARN KafkaDataConsumer: KafkaDataConsumer is not running in UninterruptibleThread. It may hang when KafkaDataConsumer's methods are interrupted because of KAFKA-1894\n"
     ]
    },
    {
     "name": "stdout",
     "output_type": "stream",
     "text": [
      "-------------------------------------------\n",
      "Batch: 314\n",
      "-------------------------------------------\n",
      "+------------------------------------+-----------+-----------------------+------+-------------------+------------+--------------+---------------+----------+------+\n",
      "|uuid                                |record_type|timestamp              |msisdn|counterparty_msisdn|duration_sec|data_volume_mb|cell_id        |technology|status|\n",
      "+------------------------------------+-----------+-----------------------+------+-------------------+------------+--------------+---------------+----------+------+\n",
      "|63cca3f6-0e3f-4dbd-8b82-35f87cb7da9c|voice      |2025-05-05 23:20:34.973|NULL  |212761102621       |258         |NULL          |bni_bouayach_39|2G        |error |\n",
      "+------------------------------------+-----------+-----------------------+------+-------------------+------------+--------------+---------------+----------+------+\n",
      "\n"
     ]
    },
    {
     "name": "stderr",
     "output_type": "stream",
     "text": [
      "25/05/05 23:20:36 WARN KafkaDataConsumer: KafkaDataConsumer is not running in UninterruptibleThread. It may hang when KafkaDataConsumer's methods are interrupted because of KAFKA-1894\n"
     ]
    },
    {
     "name": "stdout",
     "output_type": "stream",
     "text": [
      "-------------------------------------------\n",
      "Batch: 315\n",
      "-------------------------------------------\n",
      "+----+-----------+---------+------+-------------------+------------+--------------+-------+----------+------+\n",
      "|uuid|record_type|timestamp|msisdn|counterparty_msisdn|duration_sec|data_volume_mb|cell_id|technology|status|\n",
      "+----+-----------+---------+------+-------------------+------------+--------------+-------+----------+------+\n",
      "+----+-----------+---------+------+-------------------+------------+--------------+-------+----------+------+\n",
      "\n"
     ]
    },
    {
     "name": "stderr",
     "output_type": "stream",
     "text": [
      "25/05/05 23:20:37 WARN KafkaDataConsumer: KafkaDataConsumer is not running in UninterruptibleThread. It may hang when KafkaDataConsumer's methods are interrupted because of KAFKA-1894\n"
     ]
    },
    {
     "name": "stdout",
     "output_type": "stream",
     "text": [
      "-------------------------------------------\n",
      "Batch: 316\n",
      "-------------------------------------------\n",
      "+----+-----------+---------+------+-------------------+------------+--------------+-------+----------+------+\n",
      "|uuid|record_type|timestamp|msisdn|counterparty_msisdn|duration_sec|data_volume_mb|cell_id|technology|status|\n",
      "+----+-----------+---------+------+-------------------+------------+--------------+-------+----------+------+\n",
      "+----+-----------+---------+------+-------------------+------------+--------------+-------+----------+------+\n",
      "\n"
     ]
    },
    {
     "name": "stderr",
     "output_type": "stream",
     "text": [
      "25/05/05 23:20:38 WARN KafkaDataConsumer: KafkaDataConsumer is not running in UninterruptibleThread. It may hang when KafkaDataConsumer's methods are interrupted because of KAFKA-1894\n",
      "                                                                                \r"
     ]
    },
    {
     "name": "stdout",
     "output_type": "stream",
     "text": [
      "-------------------------------------------\n",
      "Batch: 317\n",
      "-------------------------------------------\n",
      "+----+-----------+---------+------+-------------------+------------+--------------+-------+----------+------+\n",
      "|uuid|record_type|timestamp|msisdn|counterparty_msisdn|duration_sec|data_volume_mb|cell_id|technology|status|\n",
      "+----+-----------+---------+------+-------------------+------------+--------------+-------+----------+------+\n",
      "+----+-----------+---------+------+-------------------+------------+--------------+-------+----------+------+\n",
      "\n"
     ]
    },
    {
     "name": "stderr",
     "output_type": "stream",
     "text": [
      "25/05/05 23:20:39 WARN KafkaDataConsumer: KafkaDataConsumer is not running in UninterruptibleThread. It may hang when KafkaDataConsumer's methods are interrupted because of KAFKA-1894\n"
     ]
    },
    {
     "name": "stdout",
     "output_type": "stream",
     "text": [
      "-------------------------------------------\n",
      "Batch: 318\n",
      "-------------------------------------------\n",
      "+----+-----------+---------+------+-------------------+------------+--------------+-------+----------+------+\n",
      "|uuid|record_type|timestamp|msisdn|counterparty_msisdn|duration_sec|data_volume_mb|cell_id|technology|status|\n",
      "+----+-----------+---------+------+-------------------+------------+--------------+-------+----------+------+\n",
      "+----+-----------+---------+------+-------------------+------------+--------------+-------+----------+------+\n",
      "\n"
     ]
    },
    {
     "name": "stderr",
     "output_type": "stream",
     "text": [
      "25/05/05 23:20:40 WARN KafkaDataConsumer: KafkaDataConsumer is not running in UninterruptibleThread. It may hang when KafkaDataConsumer's methods are interrupted because of KAFKA-1894\n"
     ]
    },
    {
     "name": "stdout",
     "output_type": "stream",
     "text": [
      "-------------------------------------------\n",
      "Batch: 319\n",
      "-------------------------------------------\n",
      "+----+-----------+---------+------+-------------------+------------+--------------+-------+----------+------+\n",
      "|uuid|record_type|timestamp|msisdn|counterparty_msisdn|duration_sec|data_volume_mb|cell_id|technology|status|\n",
      "+----+-----------+---------+------+-------------------+------------+--------------+-------+----------+------+\n",
      "+----+-----------+---------+------+-------------------+------------+--------------+-------+----------+------+\n",
      "\n"
     ]
    },
    {
     "name": "stderr",
     "output_type": "stream",
     "text": [
      "25/05/05 23:20:41 WARN KafkaDataConsumer: KafkaDataConsumer is not running in UninterruptibleThread. It may hang when KafkaDataConsumer's methods are interrupted because of KAFKA-1894\n"
     ]
    },
    {
     "name": "stdout",
     "output_type": "stream",
     "text": [
      "-------------------------------------------\n",
      "Batch: 320\n",
      "-------------------------------------------\n",
      "+----+-----------+---------+------+-------------------+------------+--------------+-------+----------+------+\n",
      "|uuid|record_type|timestamp|msisdn|counterparty_msisdn|duration_sec|data_volume_mb|cell_id|technology|status|\n",
      "+----+-----------+---------+------+-------------------+------------+--------------+-------+----------+------+\n",
      "+----+-----------+---------+------+-------------------+------------+--------------+-------+----------+------+\n",
      "\n"
     ]
    },
    {
     "name": "stderr",
     "output_type": "stream",
     "text": [
      "25/05/05 23:20:42 WARN KafkaDataConsumer: KafkaDataConsumer is not running in UninterruptibleThread. It may hang when KafkaDataConsumer's methods are interrupted because of KAFKA-1894\n",
      "                                                                                \r"
     ]
    },
    {
     "name": "stdout",
     "output_type": "stream",
     "text": [
      "-------------------------------------------\n",
      "Batch: 321\n",
      "-------------------------------------------\n",
      "+----+-----------+---------+------+-------------------+------------+--------------+-------+----------+------+\n",
      "|uuid|record_type|timestamp|msisdn|counterparty_msisdn|duration_sec|data_volume_mb|cell_id|technology|status|\n",
      "+----+-----------+---------+------+-------------------+------------+--------------+-------+----------+------+\n",
      "+----+-----------+---------+------+-------------------+------------+--------------+-------+----------+------+\n",
      "\n"
     ]
    },
    {
     "name": "stderr",
     "output_type": "stream",
     "text": [
      "25/05/05 23:20:43 WARN KafkaDataConsumer: KafkaDataConsumer is not running in UninterruptibleThread. It may hang when KafkaDataConsumer's methods are interrupted because of KAFKA-1894\n"
     ]
    },
    {
     "name": "stdout",
     "output_type": "stream",
     "text": [
      "-------------------------------------------\n",
      "Batch: 322\n",
      "-------------------------------------------\n",
      "+----+-----------+---------+------+-------------------+------------+--------------+-------+----------+------+\n",
      "|uuid|record_type|timestamp|msisdn|counterparty_msisdn|duration_sec|data_volume_mb|cell_id|technology|status|\n",
      "+----+-----------+---------+------+-------------------+------------+--------------+-------+----------+------+\n",
      "+----+-----------+---------+------+-------------------+------------+--------------+-------+----------+------+\n",
      "\n"
     ]
    },
    {
     "name": "stderr",
     "output_type": "stream",
     "text": [
      "25/05/05 23:20:44 WARN KafkaDataConsumer: KafkaDataConsumer is not running in UninterruptibleThread. It may hang when KafkaDataConsumer's methods are interrupted because of KAFKA-1894\n",
      "25/05/05 23:20:44 WARN KafkaDataConsumer: KafkaDataConsumer is not running in UninterruptibleThread. It may hang when KafkaDataConsumer's methods are interrupted because of KAFKA-1894\n"
     ]
    },
    {
     "name": "stdout",
     "output_type": "stream",
     "text": [
      "-------------------------------------------\n",
      "Batch: 323\n",
      "-------------------------------------------\n",
      "+----+-----------+---------+------+-------------------+------------+--------------+-------+----------+------+\n",
      "|uuid|record_type|timestamp|msisdn|counterparty_msisdn|duration_sec|data_volume_mb|cell_id|technology|status|\n",
      "+----+-----------+---------+------+-------------------+------------+--------------+-------+----------+------+\n",
      "+----+-----------+---------+------+-------------------+------------+--------------+-------+----------+------+\n",
      "\n"
     ]
    },
    {
     "name": "stderr",
     "output_type": "stream",
     "text": [
      "25/05/05 23:20:47 WARN KafkaDataConsumer: KafkaDataConsumer is not running in UninterruptibleThread. It may hang when KafkaDataConsumer's methods are interrupted because of KAFKA-1894\n"
     ]
    },
    {
     "name": "stdout",
     "output_type": "stream",
     "text": [
      "-------------------------------------------\n",
      "Batch: 324\n",
      "-------------------------------------------\n",
      "+----+-----------+---------+------+-------------------+------------+--------------+-------+----------+------+\n",
      "|uuid|record_type|timestamp|msisdn|counterparty_msisdn|duration_sec|data_volume_mb|cell_id|technology|status|\n",
      "+----+-----------+---------+------+-------------------+------------+--------------+-------+----------+------+\n",
      "+----+-----------+---------+------+-------------------+------------+--------------+-------+----------+------+\n",
      "\n"
     ]
    },
    {
     "name": "stderr",
     "output_type": "stream",
     "text": [
      "25/05/05 23:20:48 WARN KafkaDataConsumer: KafkaDataConsumer is not running in UninterruptibleThread. It may hang when KafkaDataConsumer's methods are interrupted because of KAFKA-1894\n"
     ]
    },
    {
     "name": "stdout",
     "output_type": "stream",
     "text": [
      "-------------------------------------------\n",
      "Batch: 325\n",
      "-------------------------------------------\n",
      "+----+-----------+---------+------+-------------------+------------+--------------+-------+----------+------+\n",
      "|uuid|record_type|timestamp|msisdn|counterparty_msisdn|duration_sec|data_volume_mb|cell_id|technology|status|\n",
      "+----+-----------+---------+------+-------------------+------------+--------------+-------+----------+------+\n",
      "+----+-----------+---------+------+-------------------+------------+--------------+-------+----------+------+\n",
      "\n"
     ]
    },
    {
     "name": "stderr",
     "output_type": "stream",
     "text": [
      "25/05/05 23:20:49 WARN KafkaDataConsumer: KafkaDataConsumer is not running in UninterruptibleThread. It may hang when KafkaDataConsumer's methods are interrupted because of KAFKA-1894\n",
      "25/05/05 23:20:49 WARN KafkaDataConsumer: KafkaDataConsumer is not running in UninterruptibleThread. It may hang when KafkaDataConsumer's methods are interrupted because of KAFKA-1894\n"
     ]
    },
    {
     "name": "stdout",
     "output_type": "stream",
     "text": [
      "-------------------------------------------\n",
      "Batch: 326\n",
      "-------------------------------------------\n",
      "+----+-----------+---------+------+-------------------+------------+--------------+-------+----------+------+\n",
      "|uuid|record_type|timestamp|msisdn|counterparty_msisdn|duration_sec|data_volume_mb|cell_id|technology|status|\n",
      "+----+-----------+---------+------+-------------------+------------+--------------+-------+----------+------+\n",
      "+----+-----------+---------+------+-------------------+------------+--------------+-------+----------+------+\n",
      "\n"
     ]
    },
    {
     "name": "stderr",
     "output_type": "stream",
     "text": [
      "25/05/05 23:20:50 WARN KafkaDataConsumer: KafkaDataConsumer is not running in UninterruptibleThread. It may hang when KafkaDataConsumer's methods are interrupted because of KAFKA-1894\n",
      "                                                                                \r"
     ]
    },
    {
     "name": "stdout",
     "output_type": "stream",
     "text": [
      "-------------------------------------------\n",
      "Batch: 327\n",
      "-------------------------------------------\n",
      "+----+-----------+---------+------+-------------------+------------+--------------+-------+----------+------+\n",
      "|uuid|record_type|timestamp|msisdn|counterparty_msisdn|duration_sec|data_volume_mb|cell_id|technology|status|\n",
      "+----+-----------+---------+------+-------------------+------------+--------------+-------+----------+------+\n",
      "+----+-----------+---------+------+-------------------+------------+--------------+-------+----------+------+\n",
      "\n"
     ]
    },
    {
     "name": "stderr",
     "output_type": "stream",
     "text": [
      "25/05/05 23:20:50 WARN KafkaDataConsumer: KafkaDataConsumer is not running in UninterruptibleThread. It may hang when KafkaDataConsumer's methods are interrupted because of KAFKA-1894\n"
     ]
    },
    {
     "name": "stdout",
     "output_type": "stream",
     "text": [
      "-------------------------------------------\n",
      "Batch: 328\n",
      "-------------------------------------------\n",
      "+----+-----------+---------+------+-------------------+------------+--------------+-------+----------+------+\n",
      "|uuid|record_type|timestamp|msisdn|counterparty_msisdn|duration_sec|data_volume_mb|cell_id|technology|status|\n",
      "+----+-----------+---------+------+-------------------+------------+--------------+-------+----------+------+\n",
      "+----+-----------+---------+------+-------------------+------------+--------------+-------+----------+------+\n",
      "\n"
     ]
    },
    {
     "name": "stderr",
     "output_type": "stream",
     "text": [
      "25/05/05 23:20:51 WARN KafkaDataConsumer: KafkaDataConsumer is not running in UninterruptibleThread. It may hang when KafkaDataConsumer's methods are interrupted because of KAFKA-1894\n",
      "                                                                                \r"
     ]
    },
    {
     "name": "stdout",
     "output_type": "stream",
     "text": [
      "-------------------------------------------\n",
      "Batch: 329\n",
      "-------------------------------------------\n",
      "+----+-----------+---------+------+-------------------+------------+--------------+-------+----------+------+\n",
      "|uuid|record_type|timestamp|msisdn|counterparty_msisdn|duration_sec|data_volume_mb|cell_id|technology|status|\n",
      "+----+-----------+---------+------+-------------------+------------+--------------+-------+----------+------+\n",
      "+----+-----------+---------+------+-------------------+------------+--------------+-------+----------+------+\n",
      "\n"
     ]
    },
    {
     "name": "stderr",
     "output_type": "stream",
     "text": [
      "25/05/05 23:20:52 WARN KafkaDataConsumer: KafkaDataConsumer is not running in UninterruptibleThread. It may hang when KafkaDataConsumer's methods are interrupted because of KAFKA-1894\n"
     ]
    },
    {
     "name": "stdout",
     "output_type": "stream",
     "text": [
      "-------------------------------------------\n",
      "Batch: 330\n",
      "-------------------------------------------\n",
      "+----+-----------+---------+------+-------------------+------------+--------------+-------+----------+------+\n",
      "|uuid|record_type|timestamp|msisdn|counterparty_msisdn|duration_sec|data_volume_mb|cell_id|technology|status|\n",
      "+----+-----------+---------+------+-------------------+------------+--------------+-------+----------+------+\n",
      "+----+-----------+---------+------+-------------------+------------+--------------+-------+----------+------+\n",
      "\n"
     ]
    },
    {
     "name": "stderr",
     "output_type": "stream",
     "text": [
      "25/05/05 23:20:53 WARN KafkaDataConsumer: KafkaDataConsumer is not running in UninterruptibleThread. It may hang when KafkaDataConsumer's methods are interrupted because of KAFKA-1894\n"
     ]
    },
    {
     "name": "stdout",
     "output_type": "stream",
     "text": [
      "-------------------------------------------\n",
      "Batch: 331\n",
      "-------------------------------------------\n",
      "+----+-----------+---------+------+-------------------+------------+--------------+-------+----------+------+\n",
      "|uuid|record_type|timestamp|msisdn|counterparty_msisdn|duration_sec|data_volume_mb|cell_id|technology|status|\n",
      "+----+-----------+---------+------+-------------------+------------+--------------+-------+----------+------+\n",
      "+----+-----------+---------+------+-------------------+------------+--------------+-------+----------+------+\n",
      "\n"
     ]
    },
    {
     "name": "stderr",
     "output_type": "stream",
     "text": [
      "25/05/05 23:20:54 WARN KafkaDataConsumer: KafkaDataConsumer is not running in UninterruptibleThread. It may hang when KafkaDataConsumer's methods are interrupted because of KAFKA-1894\n",
      "25/05/05 23:20:54 WARN KafkaDataConsumer: KafkaDataConsumer is not running in UninterruptibleThread. It may hang when KafkaDataConsumer's methods are interrupted because of KAFKA-1894\n"
     ]
    },
    {
     "name": "stdout",
     "output_type": "stream",
     "text": [
      "-------------------------------------------\n",
      "Batch: 332\n",
      "-------------------------------------------\n",
      "+----+-----------+---------+------+-------------------+------------+--------------+-------+----------+------+\n",
      "|uuid|record_type|timestamp|msisdn|counterparty_msisdn|duration_sec|data_volume_mb|cell_id|technology|status|\n",
      "+----+-----------+---------+------+-------------------+------------+--------------+-------+----------+------+\n",
      "+----+-----------+---------+------+-------------------+------------+--------------+-------+----------+------+\n",
      "\n"
     ]
    },
    {
     "name": "stderr",
     "output_type": "stream",
     "text": [
      "25/05/05 23:20:55 WARN KafkaDataConsumer: KafkaDataConsumer is not running in UninterruptibleThread. It may hang when KafkaDataConsumer's methods are interrupted because of KAFKA-1894\n",
      "                                                                                \r"
     ]
    },
    {
     "name": "stdout",
     "output_type": "stream",
     "text": [
      "-------------------------------------------\n",
      "Batch: 333\n",
      "-------------------------------------------\n",
      "+----+-----------+---------+------+-------------------+------------+--------------+-------+----------+------+\n",
      "|uuid|record_type|timestamp|msisdn|counterparty_msisdn|duration_sec|data_volume_mb|cell_id|technology|status|\n",
      "+----+-----------+---------+------+-------------------+------------+--------------+-------+----------+------+\n",
      "+----+-----------+---------+------+-------------------+------------+--------------+-------+----------+------+\n",
      "\n"
     ]
    },
    {
     "name": "stderr",
     "output_type": "stream",
     "text": [
      "25/05/05 23:20:55 WARN KafkaDataConsumer: KafkaDataConsumer is not running in UninterruptibleThread. It may hang when KafkaDataConsumer's methods are interrupted because of KAFKA-1894\n",
      "25/05/05 23:20:55 WARN KafkaDataConsumer: KafkaDataConsumer is not running in UninterruptibleThread. It may hang when KafkaDataConsumer's methods are interrupted because of KAFKA-1894\n"
     ]
    },
    {
     "name": "stdout",
     "output_type": "stream",
     "text": [
      "-------------------------------------------\n",
      "Batch: 334\n",
      "-------------------------------------------\n",
      "+----+-----------+---------+------+-------------------+------------+--------------+-------+----------+------+\n",
      "|uuid|record_type|timestamp|msisdn|counterparty_msisdn|duration_sec|data_volume_mb|cell_id|technology|status|\n",
      "+----+-----------+---------+------+-------------------+------------+--------------+-------+----------+------+\n",
      "+----+-----------+---------+------+-------------------+------------+--------------+-------+----------+------+\n",
      "\n"
     ]
    },
    {
     "name": "stderr",
     "output_type": "stream",
     "text": [
      "25/05/05 23:20:56 WARN KafkaDataConsumer: KafkaDataConsumer is not running in UninterruptibleThread. It may hang when KafkaDataConsumer's methods are interrupted because of KAFKA-1894\n"
     ]
    },
    {
     "name": "stdout",
     "output_type": "stream",
     "text": [
      "-------------------------------------------\n",
      "Batch: 335\n",
      "-------------------------------------------\n",
      "+----+-----------+---------+------+-------------------+------------+--------------+-------+----------+------+\n",
      "|uuid|record_type|timestamp|msisdn|counterparty_msisdn|duration_sec|data_volume_mb|cell_id|technology|status|\n",
      "+----+-----------+---------+------+-------------------+------------+--------------+-------+----------+------+\n",
      "+----+-----------+---------+------+-------------------+------------+--------------+-------+----------+------+\n",
      "\n"
     ]
    },
    {
     "name": "stderr",
     "output_type": "stream",
     "text": [
      "25/05/05 23:20:57 WARN KafkaDataConsumer: KafkaDataConsumer is not running in UninterruptibleThread. It may hang when KafkaDataConsumer's methods are interrupted because of KAFKA-1894\n"
     ]
    },
    {
     "name": "stdout",
     "output_type": "stream",
     "text": [
      "-------------------------------------------\n",
      "Batch: 336\n",
      "-------------------------------------------\n",
      "+----+-----------+---------+------+-------------------+------------+--------------+-------+----------+------+\n",
      "|uuid|record_type|timestamp|msisdn|counterparty_msisdn|duration_sec|data_volume_mb|cell_id|technology|status|\n",
      "+----+-----------+---------+------+-------------------+------------+--------------+-------+----------+------+\n",
      "+----+-----------+---------+------+-------------------+------------+--------------+-------+----------+------+\n",
      "\n"
     ]
    },
    {
     "name": "stderr",
     "output_type": "stream",
     "text": [
      "25/05/05 23:20:58 WARN KafkaDataConsumer: KafkaDataConsumer is not running in UninterruptibleThread. It may hang when KafkaDataConsumer's methods are interrupted because of KAFKA-1894\n",
      "25/05/05 23:20:58 WARN KafkaDataConsumer: KafkaDataConsumer is not running in UninterruptibleThread. It may hang when KafkaDataConsumer's methods are interrupted because of KAFKA-1894\n"
     ]
    },
    {
     "name": "stdout",
     "output_type": "stream",
     "text": [
      "-------------------------------------------\n",
      "Batch: 337\n",
      "-------------------------------------------\n",
      "+----+-----------+---------+------+-------------------+------------+--------------+-------+----------+------+\n",
      "|uuid|record_type|timestamp|msisdn|counterparty_msisdn|duration_sec|data_volume_mb|cell_id|technology|status|\n",
      "+----+-----------+---------+------+-------------------+------------+--------------+-------+----------+------+\n",
      "+----+-----------+---------+------+-------------------+------------+--------------+-------+----------+------+\n",
      "\n"
     ]
    },
    {
     "name": "stderr",
     "output_type": "stream",
     "text": [
      "25/05/05 23:20:59 WARN KafkaDataConsumer: KafkaDataConsumer is not running in UninterruptibleThread. It may hang when KafkaDataConsumer's methods are interrupted because of KAFKA-1894\n"
     ]
    },
    {
     "name": "stdout",
     "output_type": "stream",
     "text": [
      "-------------------------------------------\n",
      "Batch: 338\n",
      "-------------------------------------------\n",
      "+----+-----------+---------+------+-------------------+------------+--------------+-------+----------+------+\n",
      "|uuid|record_type|timestamp|msisdn|counterparty_msisdn|duration_sec|data_volume_mb|cell_id|technology|status|\n",
      "+----+-----------+---------+------+-------------------+------------+--------------+-------+----------+------+\n",
      "+----+-----------+---------+------+-------------------+------------+--------------+-------+----------+------+\n",
      "\n"
     ]
    },
    {
     "name": "stderr",
     "output_type": "stream",
     "text": [
      "25/05/05 23:21:00 WARN KafkaDataConsumer: KafkaDataConsumer is not running in UninterruptibleThread. It may hang when KafkaDataConsumer's methods are interrupted because of KAFKA-1894\n"
     ]
    },
    {
     "name": "stdout",
     "output_type": "stream",
     "text": [
      "-------------------------------------------\n",
      "Batch: 339\n",
      "-------------------------------------------\n",
      "+----+-----------+---------+------+-------------------+------------+--------------+-------+----------+------+\n",
      "|uuid|record_type|timestamp|msisdn|counterparty_msisdn|duration_sec|data_volume_mb|cell_id|technology|status|\n",
      "+----+-----------+---------+------+-------------------+------------+--------------+-------+----------+------+\n",
      "+----+-----------+---------+------+-------------------+------------+--------------+-------+----------+------+\n",
      "\n"
     ]
    },
    {
     "name": "stderr",
     "output_type": "stream",
     "text": [
      "25/05/05 23:21:01 WARN KafkaDataConsumer: KafkaDataConsumer is not running in UninterruptibleThread. It may hang when KafkaDataConsumer's methods are interrupted because of KAFKA-1894\n",
      "                                                                                \r"
     ]
    },
    {
     "name": "stdout",
     "output_type": "stream",
     "text": [
      "-------------------------------------------\n",
      "Batch: 340\n",
      "-------------------------------------------\n",
      "+----+-----------+---------+------+-------------------+------------+--------------+-------+----------+------+\n",
      "|uuid|record_type|timestamp|msisdn|counterparty_msisdn|duration_sec|data_volume_mb|cell_id|technology|status|\n",
      "+----+-----------+---------+------+-------------------+------------+--------------+-------+----------+------+\n",
      "+----+-----------+---------+------+-------------------+------------+--------------+-------+----------+------+\n",
      "\n"
     ]
    },
    {
     "name": "stderr",
     "output_type": "stream",
     "text": [
      "25/05/05 23:21:02 WARN KafkaDataConsumer: KafkaDataConsumer is not running in UninterruptibleThread. It may hang when KafkaDataConsumer's methods are interrupted because of KAFKA-1894\n"
     ]
    },
    {
     "name": "stdout",
     "output_type": "stream",
     "text": [
      "-------------------------------------------\n",
      "Batch: 341\n",
      "-------------------------------------------\n",
      "+----+-----------+---------+------+-------------------+------------+--------------+-------+----------+------+\n",
      "|uuid|record_type|timestamp|msisdn|counterparty_msisdn|duration_sec|data_volume_mb|cell_id|technology|status|\n",
      "+----+-----------+---------+------+-------------------+------------+--------------+-------+----------+------+\n",
      "+----+-----------+---------+------+-------------------+------------+--------------+-------+----------+------+\n",
      "\n"
     ]
    },
    {
     "name": "stderr",
     "output_type": "stream",
     "text": [
      "25/05/05 23:21:02 WARN KafkaDataConsumer: KafkaDataConsumer is not running in UninterruptibleThread. It may hang when KafkaDataConsumer's methods are interrupted because of KAFKA-1894\n"
     ]
    },
    {
     "name": "stdout",
     "output_type": "stream",
     "text": [
      "-------------------------------------------\n",
      "Batch: 342\n",
      "-------------------------------------------\n",
      "+----+-----------+---------+------+-------------------+------------+--------------+-------+----------+------+\n",
      "|uuid|record_type|timestamp|msisdn|counterparty_msisdn|duration_sec|data_volume_mb|cell_id|technology|status|\n",
      "+----+-----------+---------+------+-------------------+------------+--------------+-------+----------+------+\n",
      "+----+-----------+---------+------+-------------------+------------+--------------+-------+----------+------+\n",
      "\n"
     ]
    },
    {
     "name": "stderr",
     "output_type": "stream",
     "text": [
      "25/05/05 23:21:03 WARN KafkaDataConsumer: KafkaDataConsumer is not running in UninterruptibleThread. It may hang when KafkaDataConsumer's methods are interrupted because of KAFKA-1894\n"
     ]
    },
    {
     "name": "stdout",
     "output_type": "stream",
     "text": [
      "-------------------------------------------\n",
      "Batch: 343\n",
      "-------------------------------------------\n",
      "+----+-----------+---------+------+-------------------+------------+--------------+-------+----------+------+\n",
      "|uuid|record_type|timestamp|msisdn|counterparty_msisdn|duration_sec|data_volume_mb|cell_id|technology|status|\n",
      "+----+-----------+---------+------+-------------------+------------+--------------+-------+----------+------+\n",
      "+----+-----------+---------+------+-------------------+------------+--------------+-------+----------+------+\n",
      "\n"
     ]
    },
    {
     "name": "stderr",
     "output_type": "stream",
     "text": [
      "25/05/05 23:21:04 WARN KafkaDataConsumer: KafkaDataConsumer is not running in UninterruptibleThread. It may hang when KafkaDataConsumer's methods are interrupted because of KAFKA-1894\n"
     ]
    },
    {
     "name": "stdout",
     "output_type": "stream",
     "text": [
      "-------------------------------------------\n",
      "Batch: 344\n",
      "-------------------------------------------\n",
      "+----+-----------+---------+------+-------------------+------------+--------------+-------+----------+------+\n",
      "|uuid|record_type|timestamp|msisdn|counterparty_msisdn|duration_sec|data_volume_mb|cell_id|technology|status|\n",
      "+----+-----------+---------+------+-------------------+------------+--------------+-------+----------+------+\n",
      "+----+-----------+---------+------+-------------------+------------+--------------+-------+----------+------+\n",
      "\n"
     ]
    },
    {
     "name": "stderr",
     "output_type": "stream",
     "text": [
      "25/05/05 23:21:04 WARN KafkaDataConsumer: KafkaDataConsumer is not running in UninterruptibleThread. It may hang when KafkaDataConsumer's methods are interrupted because of KAFKA-1894\n",
      "25/05/05 23:21:04 WARN KafkaDataConsumer: KafkaDataConsumer is not running in UninterruptibleThread. It may hang when KafkaDataConsumer's methods are interrupted because of KAFKA-1894\n"
     ]
    },
    {
     "name": "stdout",
     "output_type": "stream",
     "text": [
      "-------------------------------------------\n",
      "Batch: 345\n",
      "-------------------------------------------\n",
      "+----+-----------+---------+------+-------------------+------------+--------------+-------+----------+------+\n",
      "|uuid|record_type|timestamp|msisdn|counterparty_msisdn|duration_sec|data_volume_mb|cell_id|technology|status|\n",
      "+----+-----------+---------+------+-------------------+------------+--------------+-------+----------+------+\n",
      "+----+-----------+---------+------+-------------------+------------+--------------+-------+----------+------+\n",
      "\n"
     ]
    },
    {
     "name": "stderr",
     "output_type": "stream",
     "text": [
      "25/05/05 23:21:05 WARN KafkaDataConsumer: KafkaDataConsumer is not running in UninterruptibleThread. It may hang when KafkaDataConsumer's methods are interrupted because of KAFKA-1894\n",
      "                                                                                \r"
     ]
    },
    {
     "name": "stdout",
     "output_type": "stream",
     "text": [
      "-------------------------------------------\n",
      "Batch: 346\n",
      "-------------------------------------------\n",
      "+----+-----------+---------+------+-------------------+------------+--------------+-------+----------+------+\n",
      "|uuid|record_type|timestamp|msisdn|counterparty_msisdn|duration_sec|data_volume_mb|cell_id|technology|status|\n",
      "+----+-----------+---------+------+-------------------+------------+--------------+-------+----------+------+\n",
      "+----+-----------+---------+------+-------------------+------------+--------------+-------+----------+------+\n",
      "\n"
     ]
    },
    {
     "name": "stderr",
     "output_type": "stream",
     "text": [
      "25/05/05 23:21:06 WARN KafkaDataConsumer: KafkaDataConsumer is not running in UninterruptibleThread. It may hang when KafkaDataConsumer's methods are interrupted because of KAFKA-1894\n",
      "25/05/05 23:21:06 WARN KafkaDataConsumer: KafkaDataConsumer is not running in UninterruptibleThread. It may hang when KafkaDataConsumer's methods are interrupted because of KAFKA-1894\n"
     ]
    },
    {
     "name": "stdout",
     "output_type": "stream",
     "text": [
      "-------------------------------------------\n",
      "Batch: 347\n",
      "-------------------------------------------\n",
      "+----+-----------+---------+------+-------------------+------------+--------------+-------+----------+------+\n",
      "|uuid|record_type|timestamp|msisdn|counterparty_msisdn|duration_sec|data_volume_mb|cell_id|technology|status|\n",
      "+----+-----------+---------+------+-------------------+------------+--------------+-------+----------+------+\n",
      "+----+-----------+---------+------+-------------------+------------+--------------+-------+----------+------+\n",
      "\n"
     ]
    },
    {
     "name": "stderr",
     "output_type": "stream",
     "text": [
      "25/05/05 23:21:07 WARN KafkaDataConsumer: KafkaDataConsumer is not running in UninterruptibleThread. It may hang when KafkaDataConsumer's methods are interrupted because of KAFKA-1894\n",
      "                                                                                \r"
     ]
    },
    {
     "name": "stdout",
     "output_type": "stream",
     "text": [
      "-------------------------------------------\n",
      "Batch: 348\n",
      "-------------------------------------------\n",
      "+----+-----------+---------+------+-------------------+------------+--------------+-------+----------+------+\n",
      "|uuid|record_type|timestamp|msisdn|counterparty_msisdn|duration_sec|data_volume_mb|cell_id|technology|status|\n",
      "+----+-----------+---------+------+-------------------+------------+--------------+-------+----------+------+\n",
      "+----+-----------+---------+------+-------------------+------------+--------------+-------+----------+------+\n",
      "\n"
     ]
    },
    {
     "name": "stderr",
     "output_type": "stream",
     "text": [
      "25/05/05 23:21:07 WARN KafkaDataConsumer: KafkaDataConsumer is not running in UninterruptibleThread. It may hang when KafkaDataConsumer's methods are interrupted because of KAFKA-1894\n"
     ]
    },
    {
     "name": "stdout",
     "output_type": "stream",
     "text": [
      "-------------------------------------------\n",
      "Batch: 349\n",
      "-------------------------------------------\n",
      "+----+-----------+---------+------+-------------------+------------+--------------+-------+----------+------+\n",
      "|uuid|record_type|timestamp|msisdn|counterparty_msisdn|duration_sec|data_volume_mb|cell_id|technology|status|\n",
      "+----+-----------+---------+------+-------------------+------------+--------------+-------+----------+------+\n",
      "+----+-----------+---------+------+-------------------+------------+--------------+-------+----------+------+\n",
      "\n"
     ]
    },
    {
     "name": "stderr",
     "output_type": "stream",
     "text": [
      "25/05/05 23:21:08 WARN KafkaDataConsumer: KafkaDataConsumer is not running in UninterruptibleThread. It may hang when KafkaDataConsumer's methods are interrupted because of KAFKA-1894\n"
     ]
    },
    {
     "name": "stdout",
     "output_type": "stream",
     "text": [
      "-------------------------------------------\n",
      "Batch: 350\n",
      "-------------------------------------------\n",
      "+----+-----------+---------+------+-------------------+------------+--------------+-------+----------+------+\n",
      "|uuid|record_type|timestamp|msisdn|counterparty_msisdn|duration_sec|data_volume_mb|cell_id|technology|status|\n",
      "+----+-----------+---------+------+-------------------+------------+--------------+-------+----------+------+\n",
      "+----+-----------+---------+------+-------------------+------------+--------------+-------+----------+------+\n",
      "\n"
     ]
    },
    {
     "name": "stderr",
     "output_type": "stream",
     "text": [
      "25/05/05 23:21:09 WARN KafkaDataConsumer: KafkaDataConsumer is not running in UninterruptibleThread. It may hang when KafkaDataConsumer's methods are interrupted because of KAFKA-1894\n"
     ]
    },
    {
     "name": "stdout",
     "output_type": "stream",
     "text": [
      "-------------------------------------------\n",
      "Batch: 351\n",
      "-------------------------------------------\n",
      "+----+-----------+---------+------+-------------------+------------+--------------+-------+----------+------+\n",
      "|uuid|record_type|timestamp|msisdn|counterparty_msisdn|duration_sec|data_volume_mb|cell_id|technology|status|\n",
      "+----+-----------+---------+------+-------------------+------------+--------------+-------+----------+------+\n",
      "+----+-----------+---------+------+-------------------+------------+--------------+-------+----------+------+\n",
      "\n"
     ]
    },
    {
     "name": "stderr",
     "output_type": "stream",
     "text": [
      "25/05/05 23:21:09 WARN KafkaDataConsumer: KafkaDataConsumer is not running in UninterruptibleThread. It may hang when KafkaDataConsumer's methods are interrupted because of KAFKA-1894\n",
      "                                                                                \r"
     ]
    },
    {
     "name": "stdout",
     "output_type": "stream",
     "text": [
      "-------------------------------------------\n",
      "Batch: 352\n",
      "-------------------------------------------\n",
      "+----+-----------+---------+------+-------------------+------------+--------------+-------+----------+------+\n",
      "|uuid|record_type|timestamp|msisdn|counterparty_msisdn|duration_sec|data_volume_mb|cell_id|technology|status|\n",
      "+----+-----------+---------+------+-------------------+------------+--------------+-------+----------+------+\n",
      "+----+-----------+---------+------+-------------------+------------+--------------+-------+----------+------+\n",
      "\n"
     ]
    },
    {
     "name": "stderr",
     "output_type": "stream",
     "text": [
      "25/05/05 23:21:11 WARN KafkaDataConsumer: KafkaDataConsumer is not running in UninterruptibleThread. It may hang when KafkaDataConsumer's methods are interrupted because of KAFKA-1894\n",
      "25/05/05 23:21:11 WARN KafkaDataConsumer: KafkaDataConsumer is not running in UninterruptibleThread. It may hang when KafkaDataConsumer's methods are interrupted because of KAFKA-1894\n"
     ]
    },
    {
     "name": "stdout",
     "output_type": "stream",
     "text": [
      "-------------------------------------------\n",
      "Batch: 353\n",
      "-------------------------------------------\n",
      "+----+-----------+---------+------+-------------------+------------+--------------+-------+----------+------+\n",
      "|uuid|record_type|timestamp|msisdn|counterparty_msisdn|duration_sec|data_volume_mb|cell_id|technology|status|\n",
      "+----+-----------+---------+------+-------------------+------------+--------------+-------+----------+------+\n",
      "+----+-----------+---------+------+-------------------+------------+--------------+-------+----------+------+\n",
      "\n"
     ]
    },
    {
     "name": "stderr",
     "output_type": "stream",
     "text": [
      "25/05/05 23:21:11 WARN KafkaDataConsumer: KafkaDataConsumer is not running in UninterruptibleThread. It may hang when KafkaDataConsumer's methods are interrupted because of KAFKA-1894\n"
     ]
    },
    {
     "name": "stdout",
     "output_type": "stream",
     "text": [
      "-------------------------------------------\n",
      "Batch: 354\n",
      "-------------------------------------------\n",
      "+----+-----------+---------+------+-------------------+------------+--------------+-------+----------+------+\n",
      "|uuid|record_type|timestamp|msisdn|counterparty_msisdn|duration_sec|data_volume_mb|cell_id|technology|status|\n",
      "+----+-----------+---------+------+-------------------+------------+--------------+-------+----------+------+\n",
      "+----+-----------+---------+------+-------------------+------------+--------------+-------+----------+------+\n",
      "\n"
     ]
    },
    {
     "name": "stderr",
     "output_type": "stream",
     "text": [
      "25/05/05 23:21:13 WARN KafkaDataConsumer: KafkaDataConsumer is not running in UninterruptibleThread. It may hang when KafkaDataConsumer's methods are interrupted because of KAFKA-1894\n"
     ]
    },
    {
     "name": "stdout",
     "output_type": "stream",
     "text": [
      "-------------------------------------------\n",
      "Batch: 355\n",
      "-------------------------------------------\n",
      "+----+-----------+---------+------+-------------------+------------+--------------+-------+----------+------+\n",
      "|uuid|record_type|timestamp|msisdn|counterparty_msisdn|duration_sec|data_volume_mb|cell_id|technology|status|\n",
      "+----+-----------+---------+------+-------------------+------------+--------------+-------+----------+------+\n",
      "+----+-----------+---------+------+-------------------+------------+--------------+-------+----------+------+\n",
      "\n"
     ]
    },
    {
     "name": "stderr",
     "output_type": "stream",
     "text": [
      "25/05/05 23:21:14 WARN KafkaDataConsumer: KafkaDataConsumer is not running in UninterruptibleThread. It may hang when KafkaDataConsumer's methods are interrupted because of KAFKA-1894\n"
     ]
    },
    {
     "name": "stdout",
     "output_type": "stream",
     "text": [
      "-------------------------------------------\n",
      "Batch: 356\n",
      "-------------------------------------------\n",
      "+----+-----------+---------+------+-------------------+------------+--------------+-------+----------+------+\n",
      "|uuid|record_type|timestamp|msisdn|counterparty_msisdn|duration_sec|data_volume_mb|cell_id|technology|status|\n",
      "+----+-----------+---------+------+-------------------+------------+--------------+-------+----------+------+\n",
      "+----+-----------+---------+------+-------------------+------------+--------------+-------+----------+------+\n",
      "\n"
     ]
    },
    {
     "name": "stderr",
     "output_type": "stream",
     "text": [
      "25/05/05 23:21:15 WARN KafkaDataConsumer: KafkaDataConsumer is not running in UninterruptibleThread. It may hang when KafkaDataConsumer's methods are interrupted because of KAFKA-1894\n"
     ]
    },
    {
     "name": "stdout",
     "output_type": "stream",
     "text": [
      "-------------------------------------------\n",
      "Batch: 357\n",
      "-------------------------------------------\n",
      "+----+-----------+---------+------+-------------------+------------+--------------+-------+----------+------+\n",
      "|uuid|record_type|timestamp|msisdn|counterparty_msisdn|duration_sec|data_volume_mb|cell_id|technology|status|\n",
      "+----+-----------+---------+------+-------------------+------------+--------------+-------+----------+------+\n",
      "+----+-----------+---------+------+-------------------+------------+--------------+-------+----------+------+\n",
      "\n"
     ]
    },
    {
     "name": "stderr",
     "output_type": "stream",
     "text": [
      "25/05/05 23:21:16 WARN KafkaDataConsumer: KafkaDataConsumer is not running in UninterruptibleThread. It may hang when KafkaDataConsumer's methods are interrupted because of KAFKA-1894\n"
     ]
    },
    {
     "name": "stdout",
     "output_type": "stream",
     "text": [
      "-------------------------------------------\n",
      "Batch: 358\n",
      "-------------------------------------------\n",
      "+----+-----------+---------+------+-------------------+------------+--------------+-------+----------+------+\n",
      "|uuid|record_type|timestamp|msisdn|counterparty_msisdn|duration_sec|data_volume_mb|cell_id|technology|status|\n",
      "+----+-----------+---------+------+-------------------+------------+--------------+-------+----------+------+\n",
      "+----+-----------+---------+------+-------------------+------------+--------------+-------+----------+------+\n",
      "\n"
     ]
    },
    {
     "name": "stderr",
     "output_type": "stream",
     "text": [
      "25/05/05 23:21:18 WARN KafkaDataConsumer: KafkaDataConsumer is not running in UninterruptibleThread. It may hang when KafkaDataConsumer's methods are interrupted because of KAFKA-1894\n",
      "25/05/05 23:21:18 WARN KafkaDataConsumer: KafkaDataConsumer is not running in UninterruptibleThread. It may hang when KafkaDataConsumer's methods are interrupted because of KAFKA-1894\n"
     ]
    },
    {
     "name": "stdout",
     "output_type": "stream",
     "text": [
      "-------------------------------------------\n",
      "Batch: 359\n",
      "-------------------------------------------\n",
      "+----+-----------+---------+------+-------------------+------------+--------------+-------+----------+------+\n",
      "|uuid|record_type|timestamp|msisdn|counterparty_msisdn|duration_sec|data_volume_mb|cell_id|technology|status|\n",
      "+----+-----------+---------+------+-------------------+------------+--------------+-------+----------+------+\n",
      "+----+-----------+---------+------+-------------------+------------+--------------+-------+----------+------+\n",
      "\n"
     ]
    },
    {
     "name": "stderr",
     "output_type": "stream",
     "text": [
      "25/05/05 23:21:19 WARN KafkaDataConsumer: KafkaDataConsumer is not running in UninterruptibleThread. It may hang when KafkaDataConsumer's methods are interrupted because of KAFKA-1894\n",
      "25/05/05 23:21:19 WARN KafkaDataConsumer: KafkaDataConsumer is not running in UninterruptibleThread. It may hang when KafkaDataConsumer's methods are interrupted because of KAFKA-1894\n"
     ]
    },
    {
     "name": "stdout",
     "output_type": "stream",
     "text": [
      "-------------------------------------------\n",
      "Batch: 360\n",
      "-------------------------------------------\n",
      "+------------------------------------+-----------+-----------------------+------+-------------------+------------+--------------+---------+----------+------+\n",
      "|uuid                                |record_type|timestamp              |msisdn|counterparty_msisdn|duration_sec|data_volume_mb|cell_id  |technology|status|\n",
      "+------------------------------------+-----------+-----------------------+------+-------------------+------------+--------------+---------+----------+------+\n",
      "|04e45269-51ba-4d12-8ad6-eb190ed19ab0|voice      |2025-05-05 23:21:17.505|NULL  |212667445043       |1533        |NULL          |ighoud_51|2G        |error |\n",
      "+------------------------------------+-----------+-----------------------+------+-------------------+------------+--------------+---------+----------+------+\n",
      "\n"
     ]
    },
    {
     "name": "stderr",
     "output_type": "stream",
     "text": [
      "25/05/05 23:21:20 WARN KafkaDataConsumer: KafkaDataConsumer is not running in UninterruptibleThread. It may hang when KafkaDataConsumer's methods are interrupted because of KAFKA-1894\n"
     ]
    },
    {
     "name": "stdout",
     "output_type": "stream",
     "text": [
      "-------------------------------------------\n",
      "Batch: 361\n",
      "-------------------------------------------\n",
      "+----+-----------+---------+------+-------------------+------------+--------------+-------+----------+------+\n",
      "|uuid|record_type|timestamp|msisdn|counterparty_msisdn|duration_sec|data_volume_mb|cell_id|technology|status|\n",
      "+----+-----------+---------+------+-------------------+------------+--------------+-------+----------+------+\n",
      "+----+-----------+---------+------+-------------------+------------+--------------+-------+----------+------+\n",
      "\n"
     ]
    },
    {
     "name": "stderr",
     "output_type": "stream",
     "text": [
      "25/05/05 23:21:21 WARN KafkaDataConsumer: KafkaDataConsumer is not running in UninterruptibleThread. It may hang when KafkaDataConsumer's methods are interrupted because of KAFKA-1894\n"
     ]
    },
    {
     "name": "stdout",
     "output_type": "stream",
     "text": [
      "-------------------------------------------\n",
      "Batch: 362\n",
      "-------------------------------------------\n",
      "+------------------------------------+-----------+-----------------------+------+-------------------+------------+--------------+----------+----------+------+\n",
      "|uuid                                |record_type|timestamp              |msisdn|counterparty_msisdn|duration_sec|data_volume_mb|cell_id   |technology|status|\n",
      "+------------------------------------+-----------+-----------------------+------+-------------------+------------+--------------+----------+----------+------+\n",
      "|9b1862a0-b4f4-43d1-9ac8-2e3968cd42b6|voice      |2025-05-05 23:21:20.663|NULL  |212776594892       |334         |NULL          |el_hajeb_3|4G        |error |\n",
      "+------------------------------------+-----------+-----------------------+------+-------------------+------------+--------------+----------+----------+------+\n",
      "\n"
     ]
    },
    {
     "name": "stderr",
     "output_type": "stream",
     "text": [
      "25/05/05 23:21:22 WARN KafkaDataConsumer: KafkaDataConsumer is not running in UninterruptibleThread. It may hang when KafkaDataConsumer's methods are interrupted because of KAFKA-1894\n"
     ]
    },
    {
     "name": "stdout",
     "output_type": "stream",
     "text": [
      "-------------------------------------------\n",
      "Batch: 363\n",
      "-------------------------------------------\n",
      "+----+-----------+---------+------+-------------------+------------+--------------+-------+----------+------+\n",
      "|uuid|record_type|timestamp|msisdn|counterparty_msisdn|duration_sec|data_volume_mb|cell_id|technology|status|\n",
      "+----+-----------+---------+------+-------------------+------------+--------------+-------+----------+------+\n",
      "+----+-----------+---------+------+-------------------+------------+--------------+-------+----------+------+\n",
      "\n"
     ]
    },
    {
     "name": "stderr",
     "output_type": "stream",
     "text": [
      "25/05/05 23:21:23 WARN KafkaDataConsumer: KafkaDataConsumer is not running in UninterruptibleThread. It may hang when KafkaDataConsumer's methods are interrupted because of KAFKA-1894\n",
      "                                                                                \r"
     ]
    },
    {
     "name": "stdout",
     "output_type": "stream",
     "text": [
      "-------------------------------------------\n",
      "Batch: 364\n",
      "-------------------------------------------\n",
      "+----+-----------+---------+------+-------------------+------------+--------------+-------+----------+------+\n",
      "|uuid|record_type|timestamp|msisdn|counterparty_msisdn|duration_sec|data_volume_mb|cell_id|technology|status|\n",
      "+----+-----------+---------+------+-------------------+------------+--------------+-------+----------+------+\n",
      "+----+-----------+---------+------+-------------------+------------+--------------+-------+----------+------+\n",
      "\n"
     ]
    },
    {
     "name": "stderr",
     "output_type": "stream",
     "text": [
      "25/05/05 23:21:24 WARN KafkaDataConsumer: KafkaDataConsumer is not running in UninterruptibleThread. It may hang when KafkaDataConsumer's methods are interrupted because of KAFKA-1894\n",
      "                                                                                \r"
     ]
    },
    {
     "name": "stdout",
     "output_type": "stream",
     "text": [
      "-------------------------------------------\n",
      "Batch: 365\n",
      "-------------------------------------------\n",
      "+----+-----------+---------+------+-------------------+------------+--------------+-------+----------+------+\n",
      "|uuid|record_type|timestamp|msisdn|counterparty_msisdn|duration_sec|data_volume_mb|cell_id|technology|status|\n",
      "+----+-----------+---------+------+-------------------+------------+--------------+-------+----------+------+\n",
      "+----+-----------+---------+------+-------------------+------------+--------------+-------+----------+------+\n",
      "\n"
     ]
    },
    {
     "name": "stderr",
     "output_type": "stream",
     "text": [
      "25/05/05 23:21:24 WARN KafkaDataConsumer: KafkaDataConsumer is not running in UninterruptibleThread. It may hang when KafkaDataConsumer's methods are interrupted because of KAFKA-1894\n",
      "25/05/05 23:21:24 WARN KafkaDataConsumer: KafkaDataConsumer is not running in UninterruptibleThread. It may hang when KafkaDataConsumer's methods are interrupted because of KAFKA-1894\n",
      "                                                                                \r"
     ]
    },
    {
     "name": "stdout",
     "output_type": "stream",
     "text": [
      "-------------------------------------------\n",
      "Batch: 366\n",
      "-------------------------------------------\n",
      "+----+-----------+---------+------+-------------------+------------+--------------+-------+----------+------+\n",
      "|uuid|record_type|timestamp|msisdn|counterparty_msisdn|duration_sec|data_volume_mb|cell_id|technology|status|\n",
      "+----+-----------+---------+------+-------------------+------------+--------------+-------+----------+------+\n",
      "+----+-----------+---------+------+-------------------+------------+--------------+-------+----------+------+\n",
      "\n"
     ]
    },
    {
     "name": "stderr",
     "output_type": "stream",
     "text": [
      "25/05/05 23:21:27 WARN KafkaDataConsumer: KafkaDataConsumer is not running in UninterruptibleThread. It may hang when KafkaDataConsumer's methods are interrupted because of KAFKA-1894\n"
     ]
    },
    {
     "name": "stdout",
     "output_type": "stream",
     "text": [
      "-------------------------------------------\n",
      "Batch: 367\n",
      "-------------------------------------------\n",
      "+----+-----------+---------+------+-------------------+------------+--------------+-------+----------+------+\n",
      "|uuid|record_type|timestamp|msisdn|counterparty_msisdn|duration_sec|data_volume_mb|cell_id|technology|status|\n",
      "+----+-----------+---------+------+-------------------+------------+--------------+-------+----------+------+\n",
      "+----+-----------+---------+------+-------------------+------------+--------------+-------+----------+------+\n",
      "\n"
     ]
    },
    {
     "name": "stderr",
     "output_type": "stream",
     "text": [
      "25/05/05 23:21:28 WARN KafkaDataConsumer: KafkaDataConsumer is not running in UninterruptibleThread. It may hang when KafkaDataConsumer's methods are interrupted because of KAFKA-1894\n"
     ]
    },
    {
     "name": "stdout",
     "output_type": "stream",
     "text": [
      "-------------------------------------------\n",
      "Batch: 368\n",
      "-------------------------------------------\n",
      "+----+-----------+---------+------+-------------------+------------+--------------+-------+----------+------+\n",
      "|uuid|record_type|timestamp|msisdn|counterparty_msisdn|duration_sec|data_volume_mb|cell_id|technology|status|\n",
      "+----+-----------+---------+------+-------------------+------------+--------------+-------+----------+------+\n",
      "+----+-----------+---------+------+-------------------+------------+--------------+-------+----------+------+\n",
      "\n"
     ]
    },
    {
     "name": "stderr",
     "output_type": "stream",
     "text": [
      "25/05/05 23:21:29 WARN KafkaDataConsumer: KafkaDataConsumer is not running in UninterruptibleThread. It may hang when KafkaDataConsumer's methods are interrupted because of KAFKA-1894\n",
      "25/05/05 23:21:29 WARN KafkaDataConsumer: KafkaDataConsumer is not running in UninterruptibleThread. It may hang when KafkaDataConsumer's methods are interrupted because of KAFKA-1894\n"
     ]
    },
    {
     "name": "stdout",
     "output_type": "stream",
     "text": [
      "-------------------------------------------\n",
      "Batch: 369\n",
      "-------------------------------------------\n",
      "+----+-----------+---------+------+-------------------+------------+--------------+-------+----------+------+\n",
      "|uuid|record_type|timestamp|msisdn|counterparty_msisdn|duration_sec|data_volume_mb|cell_id|technology|status|\n",
      "+----+-----------+---------+------+-------------------+------------+--------------+-------+----------+------+\n",
      "+----+-----------+---------+------+-------------------+------------+--------------+-------+----------+------+\n",
      "\n"
     ]
    },
    {
     "name": "stderr",
     "output_type": "stream",
     "text": [
      "25/05/05 23:21:30 WARN KafkaDataConsumer: KafkaDataConsumer is not running in UninterruptibleThread. It may hang when KafkaDataConsumer's methods are interrupted because of KAFKA-1894\n"
     ]
    },
    {
     "name": "stdout",
     "output_type": "stream",
     "text": [
      "-------------------------------------------\n",
      "Batch: 370\n",
      "-------------------------------------------\n",
      "+----+-----------+---------+------+-------------------+------------+--------------+-------+----------+------+\n",
      "|uuid|record_type|timestamp|msisdn|counterparty_msisdn|duration_sec|data_volume_mb|cell_id|technology|status|\n",
      "+----+-----------+---------+------+-------------------+------------+--------------+-------+----------+------+\n",
      "+----+-----------+---------+------+-------------------+------------+--------------+-------+----------+------+\n",
      "\n"
     ]
    },
    {
     "name": "stderr",
     "output_type": "stream",
     "text": [
      "25/05/05 23:21:31 WARN KafkaDataConsumer: KafkaDataConsumer is not running in UninterruptibleThread. It may hang when KafkaDataConsumer's methods are interrupted because of KAFKA-1894\n"
     ]
    },
    {
     "name": "stdout",
     "output_type": "stream",
     "text": [
      "-------------------------------------------\n",
      "Batch: 371\n",
      "-------------------------------------------\n",
      "+----+-----------+---------+------+-------------------+------------+--------------+-------+----------+------+\n",
      "|uuid|record_type|timestamp|msisdn|counterparty_msisdn|duration_sec|data_volume_mb|cell_id|technology|status|\n",
      "+----+-----------+---------+------+-------------------+------------+--------------+-------+----------+------+\n",
      "+----+-----------+---------+------+-------------------+------------+--------------+-------+----------+------+\n",
      "\n"
     ]
    },
    {
     "name": "stderr",
     "output_type": "stream",
     "text": [
      "25/05/05 23:21:31 WARN KafkaDataConsumer: KafkaDataConsumer is not running in UninterruptibleThread. It may hang when KafkaDataConsumer's methods are interrupted because of KAFKA-1894\n"
     ]
    },
    {
     "name": "stdout",
     "output_type": "stream",
     "text": [
      "-------------------------------------------\n",
      "Batch: 372\n",
      "-------------------------------------------\n",
      "+----+-----------+---------+------+-------------------+------------+--------------+-------+----------+------+\n",
      "|uuid|record_type|timestamp|msisdn|counterparty_msisdn|duration_sec|data_volume_mb|cell_id|technology|status|\n",
      "+----+-----------+---------+------+-------------------+------------+--------------+-------+----------+------+\n",
      "+----+-----------+---------+------+-------------------+------------+--------------+-------+----------+------+\n",
      "\n"
     ]
    },
    {
     "name": "stderr",
     "output_type": "stream",
     "text": [
      "25/05/05 23:21:32 WARN KafkaDataConsumer: KafkaDataConsumer is not running in UninterruptibleThread. It may hang when KafkaDataConsumer's methods are interrupted because of KAFKA-1894\n"
     ]
    },
    {
     "name": "stdout",
     "output_type": "stream",
     "text": [
      "-------------------------------------------\n",
      "Batch: 373\n",
      "-------------------------------------------\n",
      "+----+-----------+---------+------+-------------------+------------+--------------+-------+----------+------+\n",
      "|uuid|record_type|timestamp|msisdn|counterparty_msisdn|duration_sec|data_volume_mb|cell_id|technology|status|\n",
      "+----+-----------+---------+------+-------------------+------------+--------------+-------+----------+------+\n",
      "+----+-----------+---------+------+-------------------+------------+--------------+-------+----------+------+\n",
      "\n"
     ]
    },
    {
     "name": "stderr",
     "output_type": "stream",
     "text": [
      "25/05/05 23:21:33 WARN KafkaDataConsumer: KafkaDataConsumer is not running in UninterruptibleThread. It may hang when KafkaDataConsumer's methods are interrupted because of KAFKA-1894\n"
     ]
    },
    {
     "name": "stdout",
     "output_type": "stream",
     "text": [
      "-------------------------------------------\n",
      "Batch: 374\n",
      "-------------------------------------------\n",
      "+----+-----------+---------+------+-------------------+------------+--------------+-------+----------+------+\n",
      "|uuid|record_type|timestamp|msisdn|counterparty_msisdn|duration_sec|data_volume_mb|cell_id|technology|status|\n",
      "+----+-----------+---------+------+-------------------+------------+--------------+-------+----------+------+\n",
      "+----+-----------+---------+------+-------------------+------------+--------------+-------+----------+------+\n",
      "\n"
     ]
    },
    {
     "name": "stderr",
     "output_type": "stream",
     "text": [
      "25/05/05 23:21:34 WARN KafkaDataConsumer: KafkaDataConsumer is not running in UninterruptibleThread. It may hang when KafkaDataConsumer's methods are interrupted because of KAFKA-1894\n"
     ]
    },
    {
     "name": "stdout",
     "output_type": "stream",
     "text": [
      "-------------------------------------------\n",
      "Batch: 375\n",
      "-------------------------------------------\n",
      "+----+-----------+---------+------+-------------------+------------+--------------+-------+----------+------+\n",
      "|uuid|record_type|timestamp|msisdn|counterparty_msisdn|duration_sec|data_volume_mb|cell_id|technology|status|\n",
      "+----+-----------+---------+------+-------------------+------------+--------------+-------+----------+------+\n",
      "+----+-----------+---------+------+-------------------+------------+--------------+-------+----------+------+\n",
      "\n"
     ]
    },
    {
     "name": "stderr",
     "output_type": "stream",
     "text": [
      "25/05/05 23:21:36 WARN KafkaDataConsumer: KafkaDataConsumer is not running in UninterruptibleThread. It may hang when KafkaDataConsumer's methods are interrupted because of KAFKA-1894\n"
     ]
    },
    {
     "name": "stdout",
     "output_type": "stream",
     "text": [
      "-------------------------------------------\n",
      "Batch: 376\n",
      "-------------------------------------------\n",
      "+----+-----------+---------+------+-------------------+------------+--------------+-------+----------+------+\n",
      "|uuid|record_type|timestamp|msisdn|counterparty_msisdn|duration_sec|data_volume_mb|cell_id|technology|status|\n",
      "+----+-----------+---------+------+-------------------+------------+--------------+-------+----------+------+\n",
      "+----+-----------+---------+------+-------------------+------------+--------------+-------+----------+------+\n",
      "\n"
     ]
    },
    {
     "name": "stderr",
     "output_type": "stream",
     "text": [
      "25/05/05 23:21:37 WARN KafkaDataConsumer: KafkaDataConsumer is not running in UninterruptibleThread. It may hang when KafkaDataConsumer's methods are interrupted because of KAFKA-1894\n"
     ]
    },
    {
     "name": "stdout",
     "output_type": "stream",
     "text": [
      "-------------------------------------------\n",
      "Batch: 377\n",
      "-------------------------------------------\n",
      "+----+-----------+---------+------+-------------------+------------+--------------+-------+----------+------+\n",
      "|uuid|record_type|timestamp|msisdn|counterparty_msisdn|duration_sec|data_volume_mb|cell_id|technology|status|\n",
      "+----+-----------+---------+------+-------------------+------------+--------------+-------+----------+------+\n",
      "+----+-----------+---------+------+-------------------+------------+--------------+-------+----------+------+\n",
      "\n"
     ]
    },
    {
     "name": "stderr",
     "output_type": "stream",
     "text": [
      "25/05/05 23:21:38 WARN KafkaDataConsumer: KafkaDataConsumer is not running in UninterruptibleThread. It may hang when KafkaDataConsumer's methods are interrupted because of KAFKA-1894\n"
     ]
    },
    {
     "name": "stdout",
     "output_type": "stream",
     "text": [
      "-------------------------------------------\n",
      "Batch: 378\n",
      "-------------------------------------------\n",
      "+----+-----------+---------+------+-------------------+------------+--------------+-------+----------+------+\n",
      "|uuid|record_type|timestamp|msisdn|counterparty_msisdn|duration_sec|data_volume_mb|cell_id|technology|status|\n",
      "+----+-----------+---------+------+-------------------+------------+--------------+-------+----------+------+\n",
      "+----+-----------+---------+------+-------------------+------------+--------------+-------+----------+------+\n",
      "\n"
     ]
    },
    {
     "name": "stderr",
     "output_type": "stream",
     "text": [
      "25/05/05 23:21:39 WARN KafkaDataConsumer: KafkaDataConsumer is not running in UninterruptibleThread. It may hang when KafkaDataConsumer's methods are interrupted because of KAFKA-1894\n"
     ]
    },
    {
     "name": "stdout",
     "output_type": "stream",
     "text": [
      "-------------------------------------------\n",
      "Batch: 379\n",
      "-------------------------------------------\n",
      "+----+-----------+---------+------+-------------------+------------+--------------+-------+----------+------+\n",
      "|uuid|record_type|timestamp|msisdn|counterparty_msisdn|duration_sec|data_volume_mb|cell_id|technology|status|\n",
      "+----+-----------+---------+------+-------------------+------------+--------------+-------+----------+------+\n",
      "+----+-----------+---------+------+-------------------+------------+--------------+-------+----------+------+\n",
      "\n"
     ]
    },
    {
     "name": "stderr",
     "output_type": "stream",
     "text": [
      "25/05/05 23:21:40 WARN KafkaDataConsumer: KafkaDataConsumer is not running in UninterruptibleThread. It may hang when KafkaDataConsumer's methods are interrupted because of KAFKA-1894\n",
      "25/05/05 23:21:40 WARN KafkaDataConsumer: KafkaDataConsumer is not running in UninterruptibleThread. It may hang when KafkaDataConsumer's methods are interrupted because of KAFKA-1894\n"
     ]
    },
    {
     "name": "stdout",
     "output_type": "stream",
     "text": [
      "-------------------------------------------\n",
      "Batch: 380\n",
      "-------------------------------------------\n",
      "+----+-----------+---------+------+-------------------+------------+--------------+-------+----------+------+\n",
      "|uuid|record_type|timestamp|msisdn|counterparty_msisdn|duration_sec|data_volume_mb|cell_id|technology|status|\n",
      "+----+-----------+---------+------+-------------------+------------+--------------+-------+----------+------+\n",
      "+----+-----------+---------+------+-------------------+------------+--------------+-------+----------+------+\n",
      "\n"
     ]
    },
    {
     "name": "stderr",
     "output_type": "stream",
     "text": [
      "25/05/05 23:21:40 WARN KafkaDataConsumer: KafkaDataConsumer is not running in UninterruptibleThread. It may hang when KafkaDataConsumer's methods are interrupted because of KAFKA-1894\n"
     ]
    },
    {
     "name": "stdout",
     "output_type": "stream",
     "text": [
      "-------------------------------------------\n",
      "Batch: 381\n",
      "-------------------------------------------\n",
      "+----+-----------+---------+------+-------------------+------------+--------------+-------+----------+------+\n",
      "|uuid|record_type|timestamp|msisdn|counterparty_msisdn|duration_sec|data_volume_mb|cell_id|technology|status|\n",
      "+----+-----------+---------+------+-------------------+------------+--------------+-------+----------+------+\n",
      "+----+-----------+---------+------+-------------------+------------+--------------+-------+----------+------+\n",
      "\n"
     ]
    },
    {
     "name": "stderr",
     "output_type": "stream",
     "text": [
      "25/05/05 23:21:41 WARN KafkaDataConsumer: KafkaDataConsumer is not running in UninterruptibleThread. It may hang when KafkaDataConsumer's methods are interrupted because of KAFKA-1894\n",
      "25/05/05 23:21:41 WARN KafkaDataConsumer: KafkaDataConsumer is not running in UninterruptibleThread. It may hang when KafkaDataConsumer's methods are interrupted because of KAFKA-1894\n"
     ]
    },
    {
     "name": "stdout",
     "output_type": "stream",
     "text": [
      "-------------------------------------------\n",
      "Batch: 382\n",
      "-------------------------------------------\n",
      "+----+-----------+---------+------+-------------------+------------+--------------+-------+----------+------+\n",
      "|uuid|record_type|timestamp|msisdn|counterparty_msisdn|duration_sec|data_volume_mb|cell_id|technology|status|\n",
      "+----+-----------+---------+------+-------------------+------------+--------------+-------+----------+------+\n",
      "+----+-----------+---------+------+-------------------+------------+--------------+-------+----------+------+\n",
      "\n"
     ]
    },
    {
     "name": "stderr",
     "output_type": "stream",
     "text": [
      "25/05/05 23:21:42 WARN KafkaDataConsumer: KafkaDataConsumer is not running in UninterruptibleThread. It may hang when KafkaDataConsumer's methods are interrupted because of KAFKA-1894\n"
     ]
    },
    {
     "name": "stdout",
     "output_type": "stream",
     "text": [
      "-------------------------------------------\n",
      "Batch: 383\n",
      "-------------------------------------------\n",
      "+----+-----------+---------+------+-------------------+------------+--------------+-------+----------+------+\n",
      "|uuid|record_type|timestamp|msisdn|counterparty_msisdn|duration_sec|data_volume_mb|cell_id|technology|status|\n",
      "+----+-----------+---------+------+-------------------+------------+--------------+-------+----------+------+\n",
      "+----+-----------+---------+------+-------------------+------------+--------------+-------+----------+------+\n",
      "\n"
     ]
    },
    {
     "name": "stderr",
     "output_type": "stream",
     "text": [
      "25/05/05 23:21:44 WARN KafkaDataConsumer: KafkaDataConsumer is not running in UninterruptibleThread. It may hang when KafkaDataConsumer's methods are interrupted because of KAFKA-1894\n"
     ]
    },
    {
     "name": "stdout",
     "output_type": "stream",
     "text": [
      "-------------------------------------------\n",
      "Batch: 384\n",
      "-------------------------------------------\n",
      "+------------------------------------+-----------+-----------------------+------+-------------------+------------+--------------+------------------+----------+------+\n",
      "|uuid                                |record_type|timestamp              |msisdn|counterparty_msisdn|duration_sec|data_volume_mb|cell_id           |technology|status|\n",
      "+------------------------------------+-----------+-----------------------+------+-------------------+------------+--------------+------------------+----------+------+\n",
      "|acdf8a4e-50b2-4c2c-84b0-c76af0259507|voice      |2025-05-05 23:21:43.803|NULL  |212768984672       |66          |NULL          |fquih_ben_salah_32|4G        |error |\n",
      "+------------------------------------+-----------+-----------------------+------+-------------------+------------+--------------+------------------+----------+------+\n",
      "\n"
     ]
    },
    {
     "name": "stderr",
     "output_type": "stream",
     "text": [
      "25/05/05 23:21:44 WARN KafkaDataConsumer: KafkaDataConsumer is not running in UninterruptibleThread. It may hang when KafkaDataConsumer's methods are interrupted because of KAFKA-1894\n"
     ]
    },
    {
     "name": "stdout",
     "output_type": "stream",
     "text": [
      "-------------------------------------------\n",
      "Batch: 385\n",
      "-------------------------------------------\n",
      "+----+-----------+---------+------+-------------------+------------+--------------+-------+----------+------+\n",
      "|uuid|record_type|timestamp|msisdn|counterparty_msisdn|duration_sec|data_volume_mb|cell_id|technology|status|\n",
      "+----+-----------+---------+------+-------------------+------------+--------------+-------+----------+------+\n",
      "+----+-----------+---------+------+-------------------+------------+--------------+-------+----------+------+\n",
      "\n"
     ]
    },
    {
     "name": "stderr",
     "output_type": "stream",
     "text": [
      "25/05/05 23:21:45 WARN KafkaDataConsumer: KafkaDataConsumer is not running in UninterruptibleThread. It may hang when KafkaDataConsumer's methods are interrupted because of KAFKA-1894\n"
     ]
    },
    {
     "name": "stdout",
     "output_type": "stream",
     "text": [
      "-------------------------------------------\n",
      "Batch: 386\n",
      "-------------------------------------------\n",
      "+----+-----------+---------+------+-------------------+------------+--------------+-------+----------+------+\n",
      "|uuid|record_type|timestamp|msisdn|counterparty_msisdn|duration_sec|data_volume_mb|cell_id|technology|status|\n",
      "+----+-----------+---------+------+-------------------+------------+--------------+-------+----------+------+\n",
      "+----+-----------+---------+------+-------------------+------------+--------------+-------+----------+------+\n",
      "\n"
     ]
    },
    {
     "name": "stderr",
     "output_type": "stream",
     "text": [
      "25/05/05 23:21:45 WARN KafkaDataConsumer: KafkaDataConsumer is not running in UninterruptibleThread. It may hang when KafkaDataConsumer's methods are interrupted because of KAFKA-1894\n"
     ]
    },
    {
     "name": "stdout",
     "output_type": "stream",
     "text": [
      "-------------------------------------------\n",
      "Batch: 387\n",
      "-------------------------------------------\n",
      "+----+-----------+---------+------+-------------------+------------+--------------+-------+----------+------+\n",
      "|uuid|record_type|timestamp|msisdn|counterparty_msisdn|duration_sec|data_volume_mb|cell_id|technology|status|\n",
      "+----+-----------+---------+------+-------------------+------------+--------------+-------+----------+------+\n",
      "+----+-----------+---------+------+-------------------+------------+--------------+-------+----------+------+\n",
      "\n"
     ]
    },
    {
     "name": "stderr",
     "output_type": "stream",
     "text": [
      "25/05/05 23:21:46 WARN KafkaDataConsumer: KafkaDataConsumer is not running in UninterruptibleThread. It may hang when KafkaDataConsumer's methods are interrupted because of KAFKA-1894\n",
      "                                                                                \r"
     ]
    },
    {
     "name": "stdout",
     "output_type": "stream",
     "text": [
      "-------------------------------------------\n",
      "Batch: 388\n",
      "-------------------------------------------\n",
      "+----+-----------+---------+------+-------------------+------------+--------------+-------+----------+------+\n",
      "|uuid|record_type|timestamp|msisdn|counterparty_msisdn|duration_sec|data_volume_mb|cell_id|technology|status|\n",
      "+----+-----------+---------+------+-------------------+------------+--------------+-------+----------+------+\n",
      "+----+-----------+---------+------+-------------------+------------+--------------+-------+----------+------+\n",
      "\n"
     ]
    },
    {
     "name": "stderr",
     "output_type": "stream",
     "text": [
      "25/05/05 23:21:48 WARN KafkaDataConsumer: KafkaDataConsumer is not running in UninterruptibleThread. It may hang when KafkaDataConsumer's methods are interrupted because of KAFKA-1894\n",
      "25/05/05 23:21:48 WARN KafkaDataConsumer: KafkaDataConsumer is not running in UninterruptibleThread. It may hang when KafkaDataConsumer's methods are interrupted because of KAFKA-1894\n"
     ]
    },
    {
     "name": "stdout",
     "output_type": "stream",
     "text": [
      "-------------------------------------------\n",
      "Batch: 389\n",
      "-------------------------------------------\n",
      "+----+-----------+---------+------+-------------------+------------+--------------+-------+----------+------+\n",
      "|uuid|record_type|timestamp|msisdn|counterparty_msisdn|duration_sec|data_volume_mb|cell_id|technology|status|\n",
      "+----+-----------+---------+------+-------------------+------------+--------------+-------+----------+------+\n",
      "+----+-----------+---------+------+-------------------+------------+--------------+-------+----------+------+\n",
      "\n"
     ]
    },
    {
     "name": "stderr",
     "output_type": "stream",
     "text": [
      "25/05/05 23:21:48 WARN KafkaDataConsumer: KafkaDataConsumer is not running in UninterruptibleThread. It may hang when KafkaDataConsumer's methods are interrupted because of KAFKA-1894\n"
     ]
    },
    {
     "name": "stdout",
     "output_type": "stream",
     "text": [
      "-------------------------------------------\n",
      "Batch: 390\n",
      "-------------------------------------------\n",
      "+----+-----------+---------+------+-------------------+------------+--------------+-------+----------+------+\n",
      "|uuid|record_type|timestamp|msisdn|counterparty_msisdn|duration_sec|data_volume_mb|cell_id|technology|status|\n",
      "+----+-----------+---------+------+-------------------+------------+--------------+-------+----------+------+\n",
      "+----+-----------+---------+------+-------------------+------------+--------------+-------+----------+------+\n",
      "\n"
     ]
    },
    {
     "name": "stderr",
     "output_type": "stream",
     "text": [
      "25/05/05 23:21:51 WARN KafkaDataConsumer: KafkaDataConsumer is not running in UninterruptibleThread. It may hang when KafkaDataConsumer's methods are interrupted because of KAFKA-1894\n"
     ]
    },
    {
     "name": "stdout",
     "output_type": "stream",
     "text": [
      "-------------------------------------------\n",
      "Batch: 391\n",
      "-------------------------------------------\n",
      "+----+-----------+---------+------+-------------------+------------+--------------+-------+----------+------+\n",
      "|uuid|record_type|timestamp|msisdn|counterparty_msisdn|duration_sec|data_volume_mb|cell_id|technology|status|\n",
      "+----+-----------+---------+------+-------------------+------------+--------------+-------+----------+------+\n",
      "+----+-----------+---------+------+-------------------+------------+--------------+-------+----------+------+\n",
      "\n"
     ]
    },
    {
     "name": "stderr",
     "output_type": "stream",
     "text": [
      "25/05/05 23:21:52 WARN KafkaDataConsumer: KafkaDataConsumer is not running in UninterruptibleThread. It may hang when KafkaDataConsumer's methods are interrupted because of KAFKA-1894\n",
      "                                                                                \r"
     ]
    },
    {
     "name": "stdout",
     "output_type": "stream",
     "text": [
      "-------------------------------------------\n",
      "Batch: 392\n",
      "-------------------------------------------\n",
      "+----+-----------+---------+------+-------------------+------------+--------------+-------+----------+------+\n",
      "|uuid|record_type|timestamp|msisdn|counterparty_msisdn|duration_sec|data_volume_mb|cell_id|technology|status|\n",
      "+----+-----------+---------+------+-------------------+------------+--------------+-------+----------+------+\n",
      "+----+-----------+---------+------+-------------------+------------+--------------+-------+----------+------+\n",
      "\n"
     ]
    },
    {
     "name": "stderr",
     "output_type": "stream",
     "text": [
      "25/05/05 23:21:54 WARN KafkaDataConsumer: KafkaDataConsumer is not running in UninterruptibleThread. It may hang when KafkaDataConsumer's methods are interrupted because of KAFKA-1894\n",
      "                                                                                \r"
     ]
    },
    {
     "name": "stdout",
     "output_type": "stream",
     "text": [
      "-------------------------------------------\n",
      "Batch: 393\n",
      "-------------------------------------------\n",
      "+----+-----------+---------+------+-------------------+------------+--------------+-------+----------+------+\n",
      "|uuid|record_type|timestamp|msisdn|counterparty_msisdn|duration_sec|data_volume_mb|cell_id|technology|status|\n",
      "+----+-----------+---------+------+-------------------+------------+--------------+-------+----------+------+\n",
      "+----+-----------+---------+------+-------------------+------------+--------------+-------+----------+------+\n",
      "\n"
     ]
    },
    {
     "name": "stderr",
     "output_type": "stream",
     "text": [
      "25/05/05 23:21:56 WARN KafkaDataConsumer: KafkaDataConsumer is not running in UninterruptibleThread. It may hang when KafkaDataConsumer's methods are interrupted because of KAFKA-1894\n",
      "25/05/05 23:21:56 WARN KafkaDataConsumer: KafkaDataConsumer is not running in UninterruptibleThread. It may hang when KafkaDataConsumer's methods are interrupted because of KAFKA-1894\n",
      "                                                                                \r"
     ]
    },
    {
     "name": "stdout",
     "output_type": "stream",
     "text": [
      "-------------------------------------------\n",
      "Batch: 394\n",
      "-------------------------------------------\n",
      "+----+-----------+---------+------+-------------------+------------+--------------+-------+----------+------+\n",
      "|uuid|record_type|timestamp|msisdn|counterparty_msisdn|duration_sec|data_volume_mb|cell_id|technology|status|\n",
      "+----+-----------+---------+------+-------------------+------------+--------------+-------+----------+------+\n",
      "+----+-----------+---------+------+-------------------+------------+--------------+-------+----------+------+\n",
      "\n"
     ]
    },
    {
     "name": "stderr",
     "output_type": "stream",
     "text": [
      "25/05/05 23:21:57 WARN KafkaDataConsumer: KafkaDataConsumer is not running in UninterruptibleThread. It may hang when KafkaDataConsumer's methods are interrupted because of KAFKA-1894\n",
      "25/05/05 23:21:58 WARN KafkaDataConsumer: KafkaDataConsumer is not running in UninterruptibleThread. It may hang when KafkaDataConsumer's methods are interrupted because of KAFKA-1894\n"
     ]
    },
    {
     "name": "stdout",
     "output_type": "stream",
     "text": [
      "-------------------------------------------\n",
      "Batch: 395\n",
      "-------------------------------------------\n",
      "+----+-----------+---------+------+-------------------+------------+--------------+-------+----------+------+\n",
      "|uuid|record_type|timestamp|msisdn|counterparty_msisdn|duration_sec|data_volume_mb|cell_id|technology|status|\n",
      "+----+-----------+---------+------+-------------------+------------+--------------+-------+----------+------+\n",
      "+----+-----------+---------+------+-------------------+------------+--------------+-------+----------+------+\n",
      "\n"
     ]
    },
    {
     "name": "stderr",
     "output_type": "stream",
     "text": [
      "25/05/05 23:21:58 WARN KafkaDataConsumer: KafkaDataConsumer is not running in UninterruptibleThread. It may hang when KafkaDataConsumer's methods are interrupted because of KAFKA-1894\n"
     ]
    },
    {
     "name": "stdout",
     "output_type": "stream",
     "text": [
      "-------------------------------------------\n",
      "Batch: 396\n",
      "-------------------------------------------\n",
      "+----+-----------+---------+------+-------------------+------------+--------------+-------+----------+------+\n",
      "|uuid|record_type|timestamp|msisdn|counterparty_msisdn|duration_sec|data_volume_mb|cell_id|technology|status|\n",
      "+----+-----------+---------+------+-------------------+------------+--------------+-------+----------+------+\n",
      "+----+-----------+---------+------+-------------------+------------+--------------+-------+----------+------+\n",
      "\n"
     ]
    },
    {
     "name": "stderr",
     "output_type": "stream",
     "text": [
      "25/05/05 23:21:59 WARN KafkaDataConsumer: KafkaDataConsumer is not running in UninterruptibleThread. It may hang when KafkaDataConsumer's methods are interrupted because of KAFKA-1894\n"
     ]
    },
    {
     "name": "stdout",
     "output_type": "stream",
     "text": [
      "-------------------------------------------\n",
      "Batch: 397\n",
      "-------------------------------------------\n",
      "+----+-----------+---------+------+-------------------+------------+--------------+-------+----------+------+\n",
      "|uuid|record_type|timestamp|msisdn|counterparty_msisdn|duration_sec|data_volume_mb|cell_id|technology|status|\n",
      "+----+-----------+---------+------+-------------------+------------+--------------+-------+----------+------+\n",
      "+----+-----------+---------+------+-------------------+------------+--------------+-------+----------+------+\n",
      "\n"
     ]
    },
    {
     "name": "stderr",
     "output_type": "stream",
     "text": [
      "25/05/05 23:22:01 WARN KafkaDataConsumer: KafkaDataConsumer is not running in UninterruptibleThread. It may hang when KafkaDataConsumer's methods are interrupted because of KAFKA-1894\n"
     ]
    },
    {
     "name": "stdout",
     "output_type": "stream",
     "text": [
      "-------------------------------------------\n",
      "Batch: 398\n",
      "-------------------------------------------\n",
      "+----+-----------+---------+------+-------------------+------------+--------------+-------+----------+------+\n",
      "|uuid|record_type|timestamp|msisdn|counterparty_msisdn|duration_sec|data_volume_mb|cell_id|technology|status|\n",
      "+----+-----------+---------+------+-------------------+------------+--------------+-------+----------+------+\n",
      "+----+-----------+---------+------+-------------------+------------+--------------+-------+----------+------+\n",
      "\n"
     ]
    },
    {
     "name": "stderr",
     "output_type": "stream",
     "text": [
      "25/05/05 23:22:02 WARN KafkaDataConsumer: KafkaDataConsumer is not running in UninterruptibleThread. It may hang when KafkaDataConsumer's methods are interrupted because of KAFKA-1894\n",
      "25/05/05 23:22:02 WARN KafkaDataConsumer: KafkaDataConsumer is not running in UninterruptibleThread. It may hang when KafkaDataConsumer's methods are interrupted because of KAFKA-1894\n",
      "25/05/05 23:22:02 WARN KafkaDataConsumer: KafkaDataConsumer is not running in UninterruptibleThread. It may hang when KafkaDataConsumer's methods are interrupted because of KAFKA-1894\n",
      "                                                                                \r"
     ]
    },
    {
     "name": "stdout",
     "output_type": "stream",
     "text": [
      "-------------------------------------------\n",
      "Batch: 399\n",
      "-------------------------------------------\n",
      "+----+-----------+---------+------+-------------------+------------+--------------+-------+----------+------+\n",
      "|uuid|record_type|timestamp|msisdn|counterparty_msisdn|duration_sec|data_volume_mb|cell_id|technology|status|\n",
      "+----+-----------+---------+------+-------------------+------------+--------------+-------+----------+------+\n",
      "+----+-----------+---------+------+-------------------+------------+--------------+-------+----------+------+\n",
      "\n"
     ]
    },
    {
     "name": "stderr",
     "output_type": "stream",
     "text": [
      "25/05/05 23:22:03 WARN KafkaDataConsumer: KafkaDataConsumer is not running in UninterruptibleThread. It may hang when KafkaDataConsumer's methods are interrupted because of KAFKA-1894\n",
      "                                                                                \r"
     ]
    },
    {
     "name": "stdout",
     "output_type": "stream",
     "text": [
      "-------------------------------------------\n",
      "Batch: 400\n",
      "-------------------------------------------\n",
      "+----+-----------+---------+------+-------------------+------------+--------------+-------+----------+------+\n",
      "|uuid|record_type|timestamp|msisdn|counterparty_msisdn|duration_sec|data_volume_mb|cell_id|technology|status|\n",
      "+----+-----------+---------+------+-------------------+------------+--------------+-------+----------+------+\n",
      "+----+-----------+---------+------+-------------------+------------+--------------+-------+----------+------+\n",
      "\n"
     ]
    },
    {
     "name": "stderr",
     "output_type": "stream",
     "text": [
      "25/05/05 23:22:04 WARN KafkaDataConsumer: KafkaDataConsumer is not running in UninterruptibleThread. It may hang when KafkaDataConsumer's methods are interrupted because of KAFKA-1894\n",
      "25/05/05 23:22:04 WARN KafkaDataConsumer: KafkaDataConsumer is not running in UninterruptibleThread. It may hang when KafkaDataConsumer's methods are interrupted because of KAFKA-1894\n",
      "                                                                                \r"
     ]
    },
    {
     "name": "stdout",
     "output_type": "stream",
     "text": [
      "-------------------------------------------\n",
      "Batch: 401\n",
      "-------------------------------------------\n",
      "+------------------------------------+-----------+-----------------------+------+-------------------+------------+--------------+---------+----------+------+\n",
      "|uuid                                |record_type|timestamp              |msisdn|counterparty_msisdn|duration_sec|data_volume_mb|cell_id  |technology|status|\n",
      "+------------------------------------+-----------+-----------------------+------+-------------------+------------+--------------+---------+----------+------+\n",
      "|4b588b4d-91f3-497e-91bf-ea0c5a90ac43|voice      |2025-05-05 23:22:03.157|NULL  |212738557176       |154         |NULL          |tiznit_29|3G        |error |\n",
      "+------------------------------------+-----------+-----------------------+------+-------------------+------------+--------------+---------+----------+------+\n",
      "\n"
     ]
    },
    {
     "name": "stderr",
     "output_type": "stream",
     "text": [
      "25/05/05 23:22:05 WARN KafkaDataConsumer: KafkaDataConsumer is not running in UninterruptibleThread. It may hang when KafkaDataConsumer's methods are interrupted because of KAFKA-1894\n"
     ]
    },
    {
     "name": "stdout",
     "output_type": "stream",
     "text": [
      "-------------------------------------------\n",
      "Batch: 402\n",
      "-------------------------------------------\n",
      "+----+-----------+---------+------+-------------------+------------+--------------+-------+----------+------+\n",
      "|uuid|record_type|timestamp|msisdn|counterparty_msisdn|duration_sec|data_volume_mb|cell_id|technology|status|\n",
      "+----+-----------+---------+------+-------------------+------------+--------------+-------+----------+------+\n",
      "+----+-----------+---------+------+-------------------+------------+--------------+-------+----------+------+\n",
      "\n"
     ]
    },
    {
     "name": "stderr",
     "output_type": "stream",
     "text": [
      "25/05/05 23:22:06 WARN KafkaDataConsumer: KafkaDataConsumer is not running in UninterruptibleThread. It may hang when KafkaDataConsumer's methods are interrupted because of KAFKA-1894\n"
     ]
    },
    {
     "name": "stdout",
     "output_type": "stream",
     "text": [
      "-------------------------------------------\n",
      "Batch: 403\n",
      "-------------------------------------------\n",
      "+----+-----------+---------+------+-------------------+------------+--------------+-------+----------+------+\n",
      "|uuid|record_type|timestamp|msisdn|counterparty_msisdn|duration_sec|data_volume_mb|cell_id|technology|status|\n",
      "+----+-----------+---------+------+-------------------+------------+--------------+-------+----------+------+\n",
      "+----+-----------+---------+------+-------------------+------------+--------------+-------+----------+------+\n",
      "\n"
     ]
    },
    {
     "name": "stderr",
     "output_type": "stream",
     "text": [
      "25/05/05 23:22:07 WARN KafkaDataConsumer: KafkaDataConsumer is not running in UninterruptibleThread. It may hang when KafkaDataConsumer's methods are interrupted because of KAFKA-1894\n"
     ]
    },
    {
     "name": "stdout",
     "output_type": "stream",
     "text": [
      "-------------------------------------------\n",
      "Batch: 404\n",
      "-------------------------------------------\n",
      "+----+-----------+---------+------+-------------------+------------+--------------+-------+----------+------+\n",
      "|uuid|record_type|timestamp|msisdn|counterparty_msisdn|duration_sec|data_volume_mb|cell_id|technology|status|\n",
      "+----+-----------+---------+------+-------------------+------------+--------------+-------+----------+------+\n",
      "+----+-----------+---------+------+-------------------+------------+--------------+-------+----------+------+\n",
      "\n"
     ]
    },
    {
     "name": "stderr",
     "output_type": "stream",
     "text": [
      "25/05/05 23:22:08 WARN KafkaDataConsumer: KafkaDataConsumer is not running in UninterruptibleThread. It may hang when KafkaDataConsumer's methods are interrupted because of KAFKA-1894\n"
     ]
    },
    {
     "name": "stdout",
     "output_type": "stream",
     "text": [
      "-------------------------------------------\n",
      "Batch: 405\n",
      "-------------------------------------------\n",
      "+----+-----------+---------+------+-------------------+------------+--------------+-------+----------+------+\n",
      "|uuid|record_type|timestamp|msisdn|counterparty_msisdn|duration_sec|data_volume_mb|cell_id|technology|status|\n",
      "+----+-----------+---------+------+-------------------+------------+--------------+-------+----------+------+\n",
      "+----+-----------+---------+------+-------------------+------------+--------------+-------+----------+------+\n",
      "\n"
     ]
    },
    {
     "name": "stderr",
     "output_type": "stream",
     "text": [
      "25/05/05 23:22:09 WARN KafkaDataConsumer: KafkaDataConsumer is not running in UninterruptibleThread. It may hang when KafkaDataConsumer's methods are interrupted because of KAFKA-1894\n",
      "25/05/05 23:22:09 WARN KafkaDataConsumer: KafkaDataConsumer is not running in UninterruptibleThread. It may hang when KafkaDataConsumer's methods are interrupted because of KAFKA-1894\n"
     ]
    },
    {
     "name": "stdout",
     "output_type": "stream",
     "text": [
      "-------------------------------------------\n",
      "Batch: 406\n",
      "-------------------------------------------\n",
      "+----+-----------+---------+------+-------------------+------------+--------------+-------+----------+------+\n",
      "|uuid|record_type|timestamp|msisdn|counterparty_msisdn|duration_sec|data_volume_mb|cell_id|technology|status|\n",
      "+----+-----------+---------+------+-------------------+------------+--------------+-------+----------+------+\n",
      "+----+-----------+---------+------+-------------------+------------+--------------+-------+----------+------+\n",
      "\n"
     ]
    },
    {
     "name": "stderr",
     "output_type": "stream",
     "text": [
      "25/05/05 23:22:10 WARN KafkaDataConsumer: KafkaDataConsumer is not running in UninterruptibleThread. It may hang when KafkaDataConsumer's methods are interrupted because of KAFKA-1894\n",
      "25/05/05 23:22:10 WARN KafkaDataConsumer: KafkaDataConsumer is not running in UninterruptibleThread. It may hang when KafkaDataConsumer's methods are interrupted because of KAFKA-1894\n",
      "                                                                                \r"
     ]
    },
    {
     "name": "stdout",
     "output_type": "stream",
     "text": [
      "-------------------------------------------\n",
      "Batch: 407\n",
      "-------------------------------------------\n",
      "+----+-----------+---------+------+-------------------+------------+--------------+-------+----------+------+\n",
      "|uuid|record_type|timestamp|msisdn|counterparty_msisdn|duration_sec|data_volume_mb|cell_id|technology|status|\n",
      "+----+-----------+---------+------+-------------------+------------+--------------+-------+----------+------+\n",
      "+----+-----------+---------+------+-------------------+------------+--------------+-------+----------+------+\n",
      "\n"
     ]
    },
    {
     "name": "stderr",
     "output_type": "stream",
     "text": [
      "25/05/05 23:22:11 WARN KafkaDataConsumer: KafkaDataConsumer is not running in UninterruptibleThread. It may hang when KafkaDataConsumer's methods are interrupted because of KAFKA-1894\n"
     ]
    },
    {
     "name": "stdout",
     "output_type": "stream",
     "text": [
      "-------------------------------------------\n",
      "Batch: 408\n",
      "-------------------------------------------\n",
      "+----+-----------+---------+------+-------------------+------------+--------------+-------+----------+------+\n",
      "|uuid|record_type|timestamp|msisdn|counterparty_msisdn|duration_sec|data_volume_mb|cell_id|technology|status|\n",
      "+----+-----------+---------+------+-------------------+------------+--------------+-------+----------+------+\n",
      "+----+-----------+---------+------+-------------------+------------+--------------+-------+----------+------+\n",
      "\n"
     ]
    },
    {
     "name": "stderr",
     "output_type": "stream",
     "text": [
      "25/05/05 23:22:12 WARN KafkaDataConsumer: KafkaDataConsumer is not running in UninterruptibleThread. It may hang when KafkaDataConsumer's methods are interrupted because of KAFKA-1894\n"
     ]
    },
    {
     "name": "stdout",
     "output_type": "stream",
     "text": [
      "-------------------------------------------\n",
      "Batch: 409\n",
      "-------------------------------------------\n",
      "+----+-----------+---------+------+-------------------+------------+--------------+-------+----------+------+\n",
      "|uuid|record_type|timestamp|msisdn|counterparty_msisdn|duration_sec|data_volume_mb|cell_id|technology|status|\n",
      "+----+-----------+---------+------+-------------------+------------+--------------+-------+----------+------+\n",
      "+----+-----------+---------+------+-------------------+------------+--------------+-------+----------+------+\n",
      "\n"
     ]
    },
    {
     "name": "stderr",
     "output_type": "stream",
     "text": [
      "25/05/05 23:22:13 WARN KafkaDataConsumer: KafkaDataConsumer is not running in UninterruptibleThread. It may hang when KafkaDataConsumer's methods are interrupted because of KAFKA-1894\n"
     ]
    },
    {
     "name": "stdout",
     "output_type": "stream",
     "text": [
      "-------------------------------------------\n",
      "Batch: 410\n",
      "-------------------------------------------\n",
      "+----+-----------+---------+------+-------------------+------------+--------------+-------+----------+------+\n",
      "|uuid|record_type|timestamp|msisdn|counterparty_msisdn|duration_sec|data_volume_mb|cell_id|technology|status|\n",
      "+----+-----------+---------+------+-------------------+------------+--------------+-------+----------+------+\n",
      "+----+-----------+---------+------+-------------------+------------+--------------+-------+----------+------+\n",
      "\n"
     ]
    },
    {
     "name": "stderr",
     "output_type": "stream",
     "text": [
      "25/05/05 23:22:14 WARN KafkaDataConsumer: KafkaDataConsumer is not running in UninterruptibleThread. It may hang when KafkaDataConsumer's methods are interrupted because of KAFKA-1894\n",
      "25/05/05 23:22:14 WARN KafkaDataConsumer: KafkaDataConsumer is not running in UninterruptibleThread. It may hang when KafkaDataConsumer's methods are interrupted because of KAFKA-1894\n",
      "                                                                                \r"
     ]
    },
    {
     "name": "stdout",
     "output_type": "stream",
     "text": [
      "-------------------------------------------\n",
      "Batch: 411\n",
      "-------------------------------------------\n",
      "+----+-----------+---------+------+-------------------+------------+--------------+-------+----------+------+\n",
      "|uuid|record_type|timestamp|msisdn|counterparty_msisdn|duration_sec|data_volume_mb|cell_id|technology|status|\n",
      "+----+-----------+---------+------+-------------------+------------+--------------+-------+----------+------+\n",
      "+----+-----------+---------+------+-------------------+------------+--------------+-------+----------+------+\n",
      "\n"
     ]
    },
    {
     "name": "stderr",
     "output_type": "stream",
     "text": [
      "25/05/05 23:22:16 WARN KafkaDataConsumer: KafkaDataConsumer is not running in UninterruptibleThread. It may hang when KafkaDataConsumer's methods are interrupted because of KAFKA-1894\n",
      "25/05/05 23:22:17 WARN KafkaDataConsumer: KafkaDataConsumer is not running in UninterruptibleThread. It may hang when KafkaDataConsumer's methods are interrupted because of KAFKA-1894\n"
     ]
    },
    {
     "name": "stdout",
     "output_type": "stream",
     "text": [
      "-------------------------------------------\n",
      "Batch: 412\n",
      "-------------------------------------------\n",
      "+----+-----------+---------+------+-------------------+------------+--------------+-------+----------+------+\n",
      "|uuid|record_type|timestamp|msisdn|counterparty_msisdn|duration_sec|data_volume_mb|cell_id|technology|status|\n",
      "+----+-----------+---------+------+-------------------+------------+--------------+-------+----------+------+\n",
      "+----+-----------+---------+------+-------------------+------------+--------------+-------+----------+------+\n",
      "\n"
     ]
    },
    {
     "name": "stderr",
     "output_type": "stream",
     "text": [
      "25/05/05 23:22:17 WARN KafkaDataConsumer: KafkaDataConsumer is not running in UninterruptibleThread. It may hang when KafkaDataConsumer's methods are interrupted because of KAFKA-1894\n",
      "                                                                                \r"
     ]
    },
    {
     "name": "stdout",
     "output_type": "stream",
     "text": [
      "-------------------------------------------\n",
      "Batch: 413\n",
      "-------------------------------------------\n",
      "+----+-----------+---------+------+-------------------+------------+--------------+-------+----------+------+\n",
      "|uuid|record_type|timestamp|msisdn|counterparty_msisdn|duration_sec|data_volume_mb|cell_id|technology|status|\n",
      "+----+-----------+---------+------+-------------------+------------+--------------+-------+----------+------+\n",
      "+----+-----------+---------+------+-------------------+------------+--------------+-------+----------+------+\n",
      "\n"
     ]
    },
    {
     "name": "stderr",
     "output_type": "stream",
     "text": [
      "25/05/05 23:22:18 WARN KafkaDataConsumer: KafkaDataConsumer is not running in UninterruptibleThread. It may hang when KafkaDataConsumer's methods are interrupted because of KAFKA-1894\n"
     ]
    },
    {
     "name": "stdout",
     "output_type": "stream",
     "text": [
      "-------------------------------------------\n",
      "Batch: 414\n",
      "-------------------------------------------\n",
      "+----+-----------+---------+------+-------------------+------------+--------------+-------+----------+------+\n",
      "|uuid|record_type|timestamp|msisdn|counterparty_msisdn|duration_sec|data_volume_mb|cell_id|technology|status|\n",
      "+----+-----------+---------+------+-------------------+------------+--------------+-------+----------+------+\n",
      "+----+-----------+---------+------+-------------------+------------+--------------+-------+----------+------+\n",
      "\n"
     ]
    },
    {
     "name": "stderr",
     "output_type": "stream",
     "text": [
      "25/05/05 23:22:19 WARN KafkaDataConsumer: KafkaDataConsumer is not running in UninterruptibleThread. It may hang when KafkaDataConsumer's methods are interrupted because of KAFKA-1894\n"
     ]
    },
    {
     "name": "stdout",
     "output_type": "stream",
     "text": [
      "-------------------------------------------\n",
      "Batch: 415\n",
      "-------------------------------------------\n",
      "+----+-----------+---------+------+-------------------+------------+--------------+-------+----------+------+\n",
      "|uuid|record_type|timestamp|msisdn|counterparty_msisdn|duration_sec|data_volume_mb|cell_id|technology|status|\n",
      "+----+-----------+---------+------+-------------------+------------+--------------+-------+----------+------+\n",
      "+----+-----------+---------+------+-------------------+------------+--------------+-------+----------+------+\n",
      "\n"
     ]
    },
    {
     "name": "stderr",
     "output_type": "stream",
     "text": [
      "25/05/05 23:22:21 WARN KafkaDataConsumer: KafkaDataConsumer is not running in UninterruptibleThread. It may hang when KafkaDataConsumer's methods are interrupted because of KAFKA-1894\n"
     ]
    },
    {
     "name": "stdout",
     "output_type": "stream",
     "text": [
      "-------------------------------------------\n",
      "Batch: 416\n",
      "-------------------------------------------\n",
      "+----+-----------+---------+------+-------------------+------------+--------------+-------+----------+------+\n",
      "|uuid|record_type|timestamp|msisdn|counterparty_msisdn|duration_sec|data_volume_mb|cell_id|technology|status|\n",
      "+----+-----------+---------+------+-------------------+------------+--------------+-------+----------+------+\n",
      "+----+-----------+---------+------+-------------------+------------+--------------+-------+----------+------+\n",
      "\n"
     ]
    },
    {
     "name": "stderr",
     "output_type": "stream",
     "text": [
      "25/05/05 23:22:23 WARN KafkaDataConsumer: KafkaDataConsumer is not running in UninterruptibleThread. It may hang when KafkaDataConsumer's methods are interrupted because of KAFKA-1894\n"
     ]
    },
    {
     "name": "stdout",
     "output_type": "stream",
     "text": [
      "-------------------------------------------\n",
      "Batch: 417\n",
      "-------------------------------------------\n",
      "+----+-----------+---------+------+-------------------+------------+--------------+-------+----------+------+\n",
      "|uuid|record_type|timestamp|msisdn|counterparty_msisdn|duration_sec|data_volume_mb|cell_id|technology|status|\n",
      "+----+-----------+---------+------+-------------------+------------+--------------+-------+----------+------+\n",
      "+----+-----------+---------+------+-------------------+------------+--------------+-------+----------+------+\n",
      "\n"
     ]
    },
    {
     "name": "stderr",
     "output_type": "stream",
     "text": [
      "25/05/05 23:22:27 WARN KafkaDataConsumer: KafkaDataConsumer is not running in UninterruptibleThread. It may hang when KafkaDataConsumer's methods are interrupted because of KAFKA-1894\n"
     ]
    },
    {
     "name": "stdout",
     "output_type": "stream",
     "text": [
      "-------------------------------------------\n",
      "Batch: 418\n",
      "-------------------------------------------\n",
      "+----+-----------+---------+------+-------------------+------------+--------------+-------+----------+------+\n",
      "|uuid|record_type|timestamp|msisdn|counterparty_msisdn|duration_sec|data_volume_mb|cell_id|technology|status|\n",
      "+----+-----------+---------+------+-------------------+------------+--------------+-------+----------+------+\n",
      "+----+-----------+---------+------+-------------------+------------+--------------+-------+----------+------+\n",
      "\n"
     ]
    },
    {
     "name": "stderr",
     "output_type": "stream",
     "text": [
      "25/05/05 23:22:28 WARN KafkaDataConsumer: KafkaDataConsumer is not running in UninterruptibleThread. It may hang when KafkaDataConsumer's methods are interrupted because of KAFKA-1894\n"
     ]
    },
    {
     "name": "stdout",
     "output_type": "stream",
     "text": [
      "-------------------------------------------\n",
      "Batch: 419\n",
      "-------------------------------------------\n",
      "+----+-----------+---------+------+-------------------+------------+--------------+-------+----------+------+\n",
      "|uuid|record_type|timestamp|msisdn|counterparty_msisdn|duration_sec|data_volume_mb|cell_id|technology|status|\n",
      "+----+-----------+---------+------+-------------------+------------+--------------+-------+----------+------+\n",
      "+----+-----------+---------+------+-------------------+------------+--------------+-------+----------+------+\n",
      "\n"
     ]
    },
    {
     "name": "stderr",
     "output_type": "stream",
     "text": [
      "25/05/05 23:22:28 WARN KafkaDataConsumer: KafkaDataConsumer is not running in UninterruptibleThread. It may hang when KafkaDataConsumer's methods are interrupted because of KAFKA-1894\n"
     ]
    },
    {
     "name": "stdout",
     "output_type": "stream",
     "text": [
      "-------------------------------------------\n",
      "Batch: 420\n",
      "-------------------------------------------\n",
      "+------------------------------------+-----------+-----------------------+------+-------------------+------------+--------------+-----------+----------+------+\n",
      "|uuid                                |record_type|timestamp              |msisdn|counterparty_msisdn|duration_sec|data_volume_mb|cell_id    |technology|status|\n",
      "+------------------------------------+-----------+-----------------------+------+-------------------+------------+--------------+-----------+----------+------+\n",
      "|9c9ef3ff-9fb3-4d78-91a4-6731cb2d3a4c|voice      |2025-05-05 23:22:28.129|NULL  |212717886270       |1405        |NULL          |ouazzane_58|3G        |error |\n",
      "+------------------------------------+-----------+-----------------------+------+-------------------+------------+--------------+-----------+----------+------+\n",
      "\n"
     ]
    },
    {
     "name": "stderr",
     "output_type": "stream",
     "text": [
      "25/05/05 23:22:30 WARN KafkaDataConsumer: KafkaDataConsumer is not running in UninterruptibleThread. It may hang when KafkaDataConsumer's methods are interrupted because of KAFKA-1894\n"
     ]
    },
    {
     "name": "stdout",
     "output_type": "stream",
     "text": [
      "-------------------------------------------\n",
      "Batch: 421\n",
      "-------------------------------------------\n",
      "+----+-----------+---------+------+-------------------+------------+--------------+-------+----------+------+\n",
      "|uuid|record_type|timestamp|msisdn|counterparty_msisdn|duration_sec|data_volume_mb|cell_id|technology|status|\n",
      "+----+-----------+---------+------+-------------------+------------+--------------+-------+----------+------+\n",
      "+----+-----------+---------+------+-------------------+------------+--------------+-------+----------+------+\n",
      "\n"
     ]
    },
    {
     "name": "stderr",
     "output_type": "stream",
     "text": [
      "25/05/05 23:22:31 WARN KafkaDataConsumer: KafkaDataConsumer is not running in UninterruptibleThread. It may hang when KafkaDataConsumer's methods are interrupted because of KAFKA-1894\n",
      "                                                                                \r"
     ]
    },
    {
     "name": "stdout",
     "output_type": "stream",
     "text": [
      "-------------------------------------------\n",
      "Batch: 422\n",
      "-------------------------------------------\n",
      "+----+-----------+---------+------+-------------------+------------+--------------+-------+----------+------+\n",
      "|uuid|record_type|timestamp|msisdn|counterparty_msisdn|duration_sec|data_volume_mb|cell_id|technology|status|\n",
      "+----+-----------+---------+------+-------------------+------------+--------------+-------+----------+------+\n",
      "+----+-----------+---------+------+-------------------+------------+--------------+-------+----------+------+\n",
      "\n"
     ]
    },
    {
     "name": "stderr",
     "output_type": "stream",
     "text": [
      "25/05/05 23:22:32 WARN KafkaDataConsumer: KafkaDataConsumer is not running in UninterruptibleThread. It may hang when KafkaDataConsumer's methods are interrupted because of KAFKA-1894\n",
      "                                                                                \r"
     ]
    },
    {
     "name": "stdout",
     "output_type": "stream",
     "text": [
      "-------------------------------------------\n",
      "Batch: 423\n",
      "-------------------------------------------\n",
      "+----+-----------+---------+------+-------------------+------------+--------------+-------+----------+------+\n",
      "|uuid|record_type|timestamp|msisdn|counterparty_msisdn|duration_sec|data_volume_mb|cell_id|technology|status|\n",
      "+----+-----------+---------+------+-------------------+------------+--------------+-------+----------+------+\n",
      "+----+-----------+---------+------+-------------------+------------+--------------+-------+----------+------+\n",
      "\n"
     ]
    },
    {
     "name": "stderr",
     "output_type": "stream",
     "text": [
      "25/05/05 23:22:33 WARN KafkaDataConsumer: KafkaDataConsumer is not running in UninterruptibleThread. It may hang when KafkaDataConsumer's methods are interrupted because of KAFKA-1894\n"
     ]
    },
    {
     "name": "stdout",
     "output_type": "stream",
     "text": [
      "-------------------------------------------\n",
      "Batch: 424\n",
      "-------------------------------------------\n",
      "+----+-----------+---------+------+-------------------+------------+--------------+-------+----------+------+\n",
      "|uuid|record_type|timestamp|msisdn|counterparty_msisdn|duration_sec|data_volume_mb|cell_id|technology|status|\n",
      "+----+-----------+---------+------+-------------------+------------+--------------+-------+----------+------+\n",
      "+----+-----------+---------+------+-------------------+------------+--------------+-------+----------+------+\n",
      "\n"
     ]
    },
    {
     "name": "stderr",
     "output_type": "stream",
     "text": [
      "25/05/05 23:22:34 WARN KafkaDataConsumer: KafkaDataConsumer is not running in UninterruptibleThread. It may hang when KafkaDataConsumer's methods are interrupted because of KAFKA-1894\n"
     ]
    },
    {
     "name": "stdout",
     "output_type": "stream",
     "text": [
      "-------------------------------------------\n",
      "Batch: 425\n",
      "-------------------------------------------\n",
      "+----+-----------+---------+------+-------------------+------------+--------------+-------+----------+------+\n",
      "|uuid|record_type|timestamp|msisdn|counterparty_msisdn|duration_sec|data_volume_mb|cell_id|technology|status|\n",
      "+----+-----------+---------+------+-------------------+------------+--------------+-------+----------+------+\n",
      "+----+-----------+---------+------+-------------------+------------+--------------+-------+----------+------+\n",
      "\n"
     ]
    },
    {
     "name": "stderr",
     "output_type": "stream",
     "text": [
      "25/05/05 23:22:35 WARN KafkaDataConsumer: KafkaDataConsumer is not running in UninterruptibleThread. It may hang when KafkaDataConsumer's methods are interrupted because of KAFKA-1894\n"
     ]
    },
    {
     "name": "stdout",
     "output_type": "stream",
     "text": [
      "-------------------------------------------\n",
      "Batch: 426\n",
      "-------------------------------------------\n",
      "+----+-----------+---------+------+-------------------+------------+--------------+-------+----------+------+\n",
      "|uuid|record_type|timestamp|msisdn|counterparty_msisdn|duration_sec|data_volume_mb|cell_id|technology|status|\n",
      "+----+-----------+---------+------+-------------------+------------+--------------+-------+----------+------+\n",
      "+----+-----------+---------+------+-------------------+------------+--------------+-------+----------+------+\n",
      "\n"
     ]
    },
    {
     "name": "stderr",
     "output_type": "stream",
     "text": [
      "25/05/05 23:22:36 WARN KafkaDataConsumer: KafkaDataConsumer is not running in UninterruptibleThread. It may hang when KafkaDataConsumer's methods are interrupted because of KAFKA-1894\n"
     ]
    },
    {
     "name": "stdout",
     "output_type": "stream",
     "text": [
      "-------------------------------------------\n",
      "Batch: 427\n",
      "-------------------------------------------\n",
      "+----+-----------+---------+------+-------------------+------------+--------------+-------+----------+------+\n",
      "|uuid|record_type|timestamp|msisdn|counterparty_msisdn|duration_sec|data_volume_mb|cell_id|technology|status|\n",
      "+----+-----------+---------+------+-------------------+------------+--------------+-------+----------+------+\n",
      "+----+-----------+---------+------+-------------------+------------+--------------+-------+----------+------+\n",
      "\n"
     ]
    },
    {
     "name": "stderr",
     "output_type": "stream",
     "text": [
      "25/05/05 23:22:37 WARN KafkaDataConsumer: KafkaDataConsumer is not running in UninterruptibleThread. It may hang when KafkaDataConsumer's methods are interrupted because of KAFKA-1894\n"
     ]
    },
    {
     "name": "stdout",
     "output_type": "stream",
     "text": [
      "-------------------------------------------\n",
      "Batch: 428\n",
      "-------------------------------------------\n",
      "+------------------------------------+-----------+-----------------------+------+-------------------+------------+--------------+--------+----------+------+\n",
      "|uuid                                |record_type|timestamp              |msisdn|counterparty_msisdn|duration_sec|data_volume_mb|cell_id |technology|status|\n",
      "+------------------------------------+-----------+-----------------------+------+-------------------+------------+--------------+--------+----------+------+\n",
      "|cca875db-86d3-4432-b1f4-89c5ce60f811|voice      |2025-05-05 23:22:37.163|NULL  |212781443116       |307         |NULL          |dra_a_43|4G        |error |\n",
      "+------------------------------------+-----------+-----------------------+------+-------------------+------------+--------------+--------+----------+------+\n",
      "\n"
     ]
    },
    {
     "name": "stderr",
     "output_type": "stream",
     "text": [
      "25/05/05 23:22:38 WARN KafkaDataConsumer: KafkaDataConsumer is not running in UninterruptibleThread. It may hang when KafkaDataConsumer's methods are interrupted because of KAFKA-1894\n"
     ]
    },
    {
     "name": "stdout",
     "output_type": "stream",
     "text": [
      "-------------------------------------------\n",
      "Batch: 429\n",
      "-------------------------------------------\n",
      "+------------------------------------+-----------+-----------------------+------+-------------------+------------+--------------+-----------------+----------+------+\n",
      "|uuid                                |record_type|timestamp              |msisdn|counterparty_msisdn|duration_sec|data_volume_mb|cell_id          |technology|status|\n",
      "+------------------------------------+-----------+-----------------------+------+-------------------+------------+--------------+-----------------+----------+------+\n",
      "|b28243ab-11bf-4700-9dfe-b0936f269ea4|voice      |2025-05-05 23:22:37.664|NULL  |212769594746       |92          |NULL          |sebt_el_maarif_72|5G        |error |\n",
      "+------------------------------------+-----------+-----------------------+------+-------------------+------------+--------------+-----------------+----------+------+\n",
      "\n"
     ]
    },
    {
     "name": "stderr",
     "output_type": "stream",
     "text": [
      "25/05/05 23:22:40 WARN KafkaDataConsumer: KafkaDataConsumer is not running in UninterruptibleThread. It may hang when KafkaDataConsumer's methods are interrupted because of KAFKA-1894\n"
     ]
    },
    {
     "name": "stdout",
     "output_type": "stream",
     "text": [
      "-------------------------------------------\n",
      "Batch: 430\n",
      "-------------------------------------------\n",
      "+----+-----------+---------+------+-------------------+------------+--------------+-------+----------+------+\n",
      "|uuid|record_type|timestamp|msisdn|counterparty_msisdn|duration_sec|data_volume_mb|cell_id|technology|status|\n",
      "+----+-----------+---------+------+-------------------+------------+--------------+-------+----------+------+\n",
      "+----+-----------+---------+------+-------------------+------------+--------------+-------+----------+------+\n",
      "\n"
     ]
    },
    {
     "name": "stderr",
     "output_type": "stream",
     "text": [
      "25/05/05 23:22:41 WARN KafkaDataConsumer: KafkaDataConsumer is not running in UninterruptibleThread. It may hang when KafkaDataConsumer's methods are interrupted because of KAFKA-1894\n",
      "25/05/05 23:22:41 WARN KafkaDataConsumer: KafkaDataConsumer is not running in UninterruptibleThread. It may hang when KafkaDataConsumer's methods are interrupted because of KAFKA-1894\n"
     ]
    },
    {
     "name": "stdout",
     "output_type": "stream",
     "text": [
      "-------------------------------------------\n",
      "Batch: 431\n",
      "-------------------------------------------\n",
      "+----+-----------+---------+------+-------------------+------------+--------------+-------+----------+------+\n",
      "|uuid|record_type|timestamp|msisdn|counterparty_msisdn|duration_sec|data_volume_mb|cell_id|technology|status|\n",
      "+----+-----------+---------+------+-------------------+------------+--------------+-------+----------+------+\n",
      "+----+-----------+---------+------+-------------------+------------+--------------+-------+----------+------+\n",
      "\n"
     ]
    },
    {
     "name": "stderr",
     "output_type": "stream",
     "text": [
      "25/05/05 23:22:42 WARN KafkaDataConsumer: KafkaDataConsumer is not running in UninterruptibleThread. It may hang when KafkaDataConsumer's methods are interrupted because of KAFKA-1894\n"
     ]
    },
    {
     "name": "stdout",
     "output_type": "stream",
     "text": [
      "-------------------------------------------\n",
      "Batch: 432\n",
      "-------------------------------------------\n",
      "+----+-----------+---------+------+-------------------+------------+--------------+-------+----------+------+\n",
      "|uuid|record_type|timestamp|msisdn|counterparty_msisdn|duration_sec|data_volume_mb|cell_id|technology|status|\n",
      "+----+-----------+---------+------+-------------------+------------+--------------+-------+----------+------+\n",
      "+----+-----------+---------+------+-------------------+------------+--------------+-------+----------+------+\n",
      "\n"
     ]
    },
    {
     "name": "stderr",
     "output_type": "stream",
     "text": [
      "25/05/05 23:22:43 WARN KafkaDataConsumer: KafkaDataConsumer is not running in UninterruptibleThread. It may hang when KafkaDataConsumer's methods are interrupted because of KAFKA-1894\n"
     ]
    },
    {
     "name": "stdout",
     "output_type": "stream",
     "text": [
      "-------------------------------------------\n",
      "Batch: 433\n",
      "-------------------------------------------\n",
      "+----+-----------+---------+------+-------------------+------------+--------------+-------+----------+------+\n",
      "|uuid|record_type|timestamp|msisdn|counterparty_msisdn|duration_sec|data_volume_mb|cell_id|technology|status|\n",
      "+----+-----------+---------+------+-------------------+------------+--------------+-------+----------+------+\n",
      "+----+-----------+---------+------+-------------------+------------+--------------+-------+----------+------+\n",
      "\n"
     ]
    },
    {
     "name": "stderr",
     "output_type": "stream",
     "text": [
      "25/05/05 23:22:43 WARN KafkaDataConsumer: KafkaDataConsumer is not running in UninterruptibleThread. It may hang when KafkaDataConsumer's methods are interrupted because of KAFKA-1894\n"
     ]
    },
    {
     "name": "stdout",
     "output_type": "stream",
     "text": [
      "-------------------------------------------\n",
      "Batch: 434\n",
      "-------------------------------------------\n",
      "+----+-----------+---------+------+-------------------+------------+--------------+-------+----------+------+\n",
      "|uuid|record_type|timestamp|msisdn|counterparty_msisdn|duration_sec|data_volume_mb|cell_id|technology|status|\n",
      "+----+-----------+---------+------+-------------------+------------+--------------+-------+----------+------+\n",
      "+----+-----------+---------+------+-------------------+------------+--------------+-------+----------+------+\n",
      "\n"
     ]
    },
    {
     "name": "stderr",
     "output_type": "stream",
     "text": [
      "25/05/05 23:22:44 WARN KafkaDataConsumer: KafkaDataConsumer is not running in UninterruptibleThread. It may hang when KafkaDataConsumer's methods are interrupted because of KAFKA-1894\n"
     ]
    },
    {
     "name": "stdout",
     "output_type": "stream",
     "text": [
      "-------------------------------------------\n",
      "Batch: 435\n",
      "-------------------------------------------\n",
      "+----+-----------+---------+------+-------------------+------------+--------------+-------+----------+------+\n",
      "|uuid|record_type|timestamp|msisdn|counterparty_msisdn|duration_sec|data_volume_mb|cell_id|technology|status|\n",
      "+----+-----------+---------+------+-------------------+------------+--------------+-------+----------+------+\n",
      "+----+-----------+---------+------+-------------------+------------+--------------+-------+----------+------+\n",
      "\n"
     ]
    },
    {
     "name": "stderr",
     "output_type": "stream",
     "text": [
      "25/05/05 23:22:45 WARN KafkaDataConsumer: KafkaDataConsumer is not running in UninterruptibleThread. It may hang when KafkaDataConsumer's methods are interrupted because of KAFKA-1894\n"
     ]
    },
    {
     "name": "stdout",
     "output_type": "stream",
     "text": [
      "-------------------------------------------\n",
      "Batch: 436\n",
      "-------------------------------------------\n",
      "+----+-----------+---------+------+-------------------+------------+--------------+-------+----------+------+\n",
      "|uuid|record_type|timestamp|msisdn|counterparty_msisdn|duration_sec|data_volume_mb|cell_id|technology|status|\n",
      "+----+-----------+---------+------+-------------------+------------+--------------+-------+----------+------+\n",
      "+----+-----------+---------+------+-------------------+------------+--------------+-------+----------+------+\n",
      "\n"
     ]
    },
    {
     "name": "stderr",
     "output_type": "stream",
     "text": [
      "25/05/05 23:22:45 WARN KafkaDataConsumer: KafkaDataConsumer is not running in UninterruptibleThread. It may hang when KafkaDataConsumer's methods are interrupted because of KAFKA-1894\n"
     ]
    },
    {
     "name": "stdout",
     "output_type": "stream",
     "text": [
      "-------------------------------------------\n",
      "Batch: 437\n",
      "-------------------------------------------\n",
      "+----+-----------+---------+------+-------------------+------------+--------------+-------+----------+------+\n",
      "|uuid|record_type|timestamp|msisdn|counterparty_msisdn|duration_sec|data_volume_mb|cell_id|technology|status|\n",
      "+----+-----------+---------+------+-------------------+------------+--------------+-------+----------+------+\n",
      "+----+-----------+---------+------+-------------------+------------+--------------+-------+----------+------+\n",
      "\n"
     ]
    },
    {
     "name": "stderr",
     "output_type": "stream",
     "text": [
      "25/05/05 23:22:46 WARN KafkaDataConsumer: KafkaDataConsumer is not running in UninterruptibleThread. It may hang when KafkaDataConsumer's methods are interrupted because of KAFKA-1894\n"
     ]
    },
    {
     "name": "stdout",
     "output_type": "stream",
     "text": [
      "-------------------------------------------\n",
      "Batch: 438\n",
      "-------------------------------------------\n",
      "+----+-----------+---------+------+-------------------+------------+--------------+-------+----------+------+\n",
      "|uuid|record_type|timestamp|msisdn|counterparty_msisdn|duration_sec|data_volume_mb|cell_id|technology|status|\n",
      "+----+-----------+---------+------+-------------------+------------+--------------+-------+----------+------+\n",
      "+----+-----------+---------+------+-------------------+------------+--------------+-------+----------+------+\n",
      "\n"
     ]
    },
    {
     "name": "stderr",
     "output_type": "stream",
     "text": [
      "25/05/05 23:22:47 WARN KafkaDataConsumer: KafkaDataConsumer is not running in UninterruptibleThread. It may hang when KafkaDataConsumer's methods are interrupted because of KAFKA-1894\n"
     ]
    },
    {
     "name": "stdout",
     "output_type": "stream",
     "text": [
      "-------------------------------------------\n",
      "Batch: 439\n",
      "-------------------------------------------\n",
      "+----+-----------+---------+------+-------------------+------------+--------------+-------+----------+------+\n",
      "|uuid|record_type|timestamp|msisdn|counterparty_msisdn|duration_sec|data_volume_mb|cell_id|technology|status|\n",
      "+----+-----------+---------+------+-------------------+------------+--------------+-------+----------+------+\n",
      "+----+-----------+---------+------+-------------------+------------+--------------+-------+----------+------+\n",
      "\n"
     ]
    },
    {
     "name": "stderr",
     "output_type": "stream",
     "text": [
      "25/05/05 23:22:48 WARN KafkaDataConsumer: KafkaDataConsumer is not running in UninterruptibleThread. It may hang when KafkaDataConsumer's methods are interrupted because of KAFKA-1894\n"
     ]
    },
    {
     "name": "stdout",
     "output_type": "stream",
     "text": [
      "-------------------------------------------\n",
      "Batch: 440\n",
      "-------------------------------------------\n",
      "+----+-----------+---------+------+-------------------+------------+--------------+-------+----------+------+\n",
      "|uuid|record_type|timestamp|msisdn|counterparty_msisdn|duration_sec|data_volume_mb|cell_id|technology|status|\n",
      "+----+-----------+---------+------+-------------------+------------+--------------+-------+----------+------+\n",
      "+----+-----------+---------+------+-------------------+------------+--------------+-------+----------+------+\n",
      "\n"
     ]
    },
    {
     "name": "stderr",
     "output_type": "stream",
     "text": [
      "25/05/05 23:22:49 WARN KafkaDataConsumer: KafkaDataConsumer is not running in UninterruptibleThread. It may hang when KafkaDataConsumer's methods are interrupted because of KAFKA-1894\n"
     ]
    },
    {
     "name": "stdout",
     "output_type": "stream",
     "text": [
      "-------------------------------------------\n",
      "Batch: 441\n",
      "-------------------------------------------\n",
      "+----+-----------+---------+------+-------------------+------------+--------------+-------+----------+------+\n",
      "|uuid|record_type|timestamp|msisdn|counterparty_msisdn|duration_sec|data_volume_mb|cell_id|technology|status|\n",
      "+----+-----------+---------+------+-------------------+------------+--------------+-------+----------+------+\n",
      "+----+-----------+---------+------+-------------------+------------+--------------+-------+----------+------+\n",
      "\n"
     ]
    },
    {
     "name": "stderr",
     "output_type": "stream",
     "text": [
      "25/05/05 23:22:49 WARN KafkaDataConsumer: KafkaDataConsumer is not running in UninterruptibleThread. It may hang when KafkaDataConsumer's methods are interrupted because of KAFKA-1894\n"
     ]
    },
    {
     "name": "stdout",
     "output_type": "stream",
     "text": [
      "-------------------------------------------\n",
      "Batch: 442\n",
      "-------------------------------------------\n",
      "+----+-----------+---------+------+-------------------+------------+--------------+-------+----------+------+\n",
      "|uuid|record_type|timestamp|msisdn|counterparty_msisdn|duration_sec|data_volume_mb|cell_id|technology|status|\n",
      "+----+-----------+---------+------+-------------------+------------+--------------+-------+----------+------+\n",
      "+----+-----------+---------+------+-------------------+------------+--------------+-------+----------+------+\n",
      "\n"
     ]
    },
    {
     "name": "stderr",
     "output_type": "stream",
     "text": [
      "25/05/05 23:22:50 WARN KafkaDataConsumer: KafkaDataConsumer is not running in UninterruptibleThread. It may hang when KafkaDataConsumer's methods are interrupted because of KAFKA-1894\n"
     ]
    },
    {
     "name": "stdout",
     "output_type": "stream",
     "text": [
      "-------------------------------------------\n",
      "Batch: 443\n",
      "-------------------------------------------\n",
      "+----+-----------+---------+------+-------------------+------------+--------------+-------+----------+------+\n",
      "|uuid|record_type|timestamp|msisdn|counterparty_msisdn|duration_sec|data_volume_mb|cell_id|technology|status|\n",
      "+----+-----------+---------+------+-------------------+------------+--------------+-------+----------+------+\n",
      "+----+-----------+---------+------+-------------------+------------+--------------+-------+----------+------+\n",
      "\n"
     ]
    },
    {
     "name": "stderr",
     "output_type": "stream",
     "text": [
      "25/05/05 23:22:51 WARN KafkaDataConsumer: KafkaDataConsumer is not running in UninterruptibleThread. It may hang when KafkaDataConsumer's methods are interrupted because of KAFKA-1894\n",
      "25/05/05 23:22:52 WARN KafkaDataConsumer: KafkaDataConsumer is not running in UninterruptibleThread. It may hang when KafkaDataConsumer's methods are interrupted because of KAFKA-1894\n"
     ]
    },
    {
     "name": "stdout",
     "output_type": "stream",
     "text": [
      "-------------------------------------------\n",
      "Batch: 444\n",
      "-------------------------------------------\n",
      "+----+-----------+---------+------+-------------------+------------+--------------+-------+----------+------+\n",
      "|uuid|record_type|timestamp|msisdn|counterparty_msisdn|duration_sec|data_volume_mb|cell_id|technology|status|\n",
      "+----+-----------+---------+------+-------------------+------------+--------------+-------+----------+------+\n",
      "+----+-----------+---------+------+-------------------+------------+--------------+-------+----------+------+\n",
      "\n"
     ]
    },
    {
     "name": "stderr",
     "output_type": "stream",
     "text": [
      "25/05/05 23:22:52 WARN KafkaDataConsumer: KafkaDataConsumer is not running in UninterruptibleThread. It may hang when KafkaDataConsumer's methods are interrupted because of KAFKA-1894\n"
     ]
    },
    {
     "name": "stdout",
     "output_type": "stream",
     "text": [
      "-------------------------------------------\n",
      "Batch: 445\n",
      "-------------------------------------------\n",
      "+----+-----------+---------+------+-------------------+------------+--------------+-------+----------+------+\n",
      "|uuid|record_type|timestamp|msisdn|counterparty_msisdn|duration_sec|data_volume_mb|cell_id|technology|status|\n",
      "+----+-----------+---------+------+-------------------+------------+--------------+-------+----------+------+\n",
      "+----+-----------+---------+------+-------------------+------------+--------------+-------+----------+------+\n",
      "\n"
     ]
    },
    {
     "name": "stderr",
     "output_type": "stream",
     "text": [
      "25/05/05 23:22:53 WARN KafkaDataConsumer: KafkaDataConsumer is not running in UninterruptibleThread. It may hang when KafkaDataConsumer's methods are interrupted because of KAFKA-1894\n"
     ]
    },
    {
     "name": "stdout",
     "output_type": "stream",
     "text": [
      "-------------------------------------------\n",
      "Batch: 446\n",
      "-------------------------------------------\n",
      "+----+-----------+---------+------+-------------------+------------+--------------+-------+----------+------+\n",
      "|uuid|record_type|timestamp|msisdn|counterparty_msisdn|duration_sec|data_volume_mb|cell_id|technology|status|\n",
      "+----+-----------+---------+------+-------------------+------------+--------------+-------+----------+------+\n",
      "+----+-----------+---------+------+-------------------+------------+--------------+-------+----------+------+\n",
      "\n"
     ]
    },
    {
     "name": "stderr",
     "output_type": "stream",
     "text": [
      "25/05/05 23:22:53 WARN KafkaDataConsumer: KafkaDataConsumer is not running in UninterruptibleThread. It may hang when KafkaDataConsumer's methods are interrupted because of KAFKA-1894\n"
     ]
    },
    {
     "name": "stdout",
     "output_type": "stream",
     "text": [
      "-------------------------------------------\n",
      "Batch: 447\n",
      "-------------------------------------------\n",
      "+----+-----------+---------+------+-------------------+------------+--------------+-------+----------+------+\n",
      "|uuid|record_type|timestamp|msisdn|counterparty_msisdn|duration_sec|data_volume_mb|cell_id|technology|status|\n",
      "+----+-----------+---------+------+-------------------+------------+--------------+-------+----------+------+\n",
      "+----+-----------+---------+------+-------------------+------------+--------------+-------+----------+------+\n",
      "\n"
     ]
    },
    {
     "name": "stderr",
     "output_type": "stream",
     "text": [
      "25/05/05 23:22:54 WARN KafkaDataConsumer: KafkaDataConsumer is not running in UninterruptibleThread. It may hang when KafkaDataConsumer's methods are interrupted because of KAFKA-1894\n",
      "                                                                                \r"
     ]
    },
    {
     "name": "stdout",
     "output_type": "stream",
     "text": [
      "-------------------------------------------\n",
      "Batch: 448\n",
      "-------------------------------------------\n",
      "+----+-----------+---------+------+-------------------+------------+--------------+-------+----------+------+\n",
      "|uuid|record_type|timestamp|msisdn|counterparty_msisdn|duration_sec|data_volume_mb|cell_id|technology|status|\n",
      "+----+-----------+---------+------+-------------------+------------+--------------+-------+----------+------+\n",
      "+----+-----------+---------+------+-------------------+------------+--------------+-------+----------+------+\n",
      "\n"
     ]
    },
    {
     "name": "stderr",
     "output_type": "stream",
     "text": [
      "25/05/05 23:22:56 WARN KafkaDataConsumer: KafkaDataConsumer is not running in UninterruptibleThread. It may hang when KafkaDataConsumer's methods are interrupted because of KAFKA-1894\n"
     ]
    },
    {
     "name": "stdout",
     "output_type": "stream",
     "text": [
      "-------------------------------------------\n",
      "Batch: 449\n",
      "-------------------------------------------\n",
      "+----+-----------+---------+------+-------------------+------------+--------------+-------+----------+------+\n",
      "|uuid|record_type|timestamp|msisdn|counterparty_msisdn|duration_sec|data_volume_mb|cell_id|technology|status|\n",
      "+----+-----------+---------+------+-------------------+------------+--------------+-------+----------+------+\n",
      "+----+-----------+---------+------+-------------------+------------+--------------+-------+----------+------+\n",
      "\n"
     ]
    },
    {
     "name": "stderr",
     "output_type": "stream",
     "text": [
      "25/05/05 23:22:57 WARN KafkaDataConsumer: KafkaDataConsumer is not running in UninterruptibleThread. It may hang when KafkaDataConsumer's methods are interrupted because of KAFKA-1894\n"
     ]
    },
    {
     "name": "stdout",
     "output_type": "stream",
     "text": [
      "-------------------------------------------\n",
      "Batch: 450\n",
      "-------------------------------------------\n",
      "+----+-----------+---------+------+-------------------+------------+--------------+-------+----------+------+\n",
      "|uuid|record_type|timestamp|msisdn|counterparty_msisdn|duration_sec|data_volume_mb|cell_id|technology|status|\n",
      "+----+-----------+---------+------+-------------------+------------+--------------+-------+----------+------+\n",
      "+----+-----------+---------+------+-------------------+------------+--------------+-------+----------+------+\n",
      "\n"
     ]
    },
    {
     "name": "stderr",
     "output_type": "stream",
     "text": [
      "25/05/05 23:22:57 WARN KafkaDataConsumer: KafkaDataConsumer is not running in UninterruptibleThread. It may hang when KafkaDataConsumer's methods are interrupted because of KAFKA-1894\n",
      "                                                                                \r"
     ]
    },
    {
     "name": "stdout",
     "output_type": "stream",
     "text": [
      "-------------------------------------------\n",
      "Batch: 451\n",
      "-------------------------------------------\n",
      "+----+-----------+---------+------+-------------------+------------+--------------+-------+----------+------+\n",
      "|uuid|record_type|timestamp|msisdn|counterparty_msisdn|duration_sec|data_volume_mb|cell_id|technology|status|\n",
      "+----+-----------+---------+------+-------------------+------------+--------------+-------+----------+------+\n",
      "+----+-----------+---------+------+-------------------+------------+--------------+-------+----------+------+\n",
      "\n"
     ]
    },
    {
     "name": "stderr",
     "output_type": "stream",
     "text": [
      "25/05/05 23:22:58 WARN KafkaDataConsumer: KafkaDataConsumer is not running in UninterruptibleThread. It may hang when KafkaDataConsumer's methods are interrupted because of KAFKA-1894\n"
     ]
    },
    {
     "name": "stdout",
     "output_type": "stream",
     "text": [
      "-------------------------------------------\n",
      "Batch: 452\n",
      "-------------------------------------------\n",
      "+----+-----------+---------+------+-------------------+------------+--------------+-------+----------+------+\n",
      "|uuid|record_type|timestamp|msisdn|counterparty_msisdn|duration_sec|data_volume_mb|cell_id|technology|status|\n",
      "+----+-----------+---------+------+-------------------+------------+--------------+-------+----------+------+\n",
      "+----+-----------+---------+------+-------------------+------------+--------------+-------+----------+------+\n",
      "\n"
     ]
    },
    {
     "name": "stderr",
     "output_type": "stream",
     "text": [
      "25/05/05 23:23:00 WARN KafkaDataConsumer: KafkaDataConsumer is not running in UninterruptibleThread. It may hang when KafkaDataConsumer's methods are interrupted because of KAFKA-1894\n",
      "                                                                                \r"
     ]
    },
    {
     "name": "stdout",
     "output_type": "stream",
     "text": [
      "-------------------------------------------\n",
      "Batch: 453\n",
      "-------------------------------------------\n",
      "+----+-----------+---------+------+-------------------+------------+--------------+-------+----------+------+\n",
      "|uuid|record_type|timestamp|msisdn|counterparty_msisdn|duration_sec|data_volume_mb|cell_id|technology|status|\n",
      "+----+-----------+---------+------+-------------------+------------+--------------+-------+----------+------+\n",
      "+----+-----------+---------+------+-------------------+------------+--------------+-------+----------+------+\n",
      "\n"
     ]
    },
    {
     "name": "stderr",
     "output_type": "stream",
     "text": [
      "25/05/05 23:23:01 WARN KafkaDataConsumer: KafkaDataConsumer is not running in UninterruptibleThread. It may hang when KafkaDataConsumer's methods are interrupted because of KAFKA-1894\n",
      "                                                                                \r"
     ]
    },
    {
     "name": "stdout",
     "output_type": "stream",
     "text": [
      "-------------------------------------------\n",
      "Batch: 454\n",
      "-------------------------------------------\n",
      "+----+-----------+---------+------+-------------------+------------+--------------+-------+----------+------+\n",
      "|uuid|record_type|timestamp|msisdn|counterparty_msisdn|duration_sec|data_volume_mb|cell_id|technology|status|\n",
      "+----+-----------+---------+------+-------------------+------------+--------------+-------+----------+------+\n",
      "+----+-----------+---------+------+-------------------+------------+--------------+-------+----------+------+\n",
      "\n"
     ]
    },
    {
     "name": "stderr",
     "output_type": "stream",
     "text": [
      "25/05/05 23:23:02 WARN KafkaDataConsumer: KafkaDataConsumer is not running in UninterruptibleThread. It may hang when KafkaDataConsumer's methods are interrupted because of KAFKA-1894\n"
     ]
    },
    {
     "name": "stdout",
     "output_type": "stream",
     "text": [
      "-------------------------------------------\n",
      "Batch: 455\n",
      "-------------------------------------------\n",
      "+----+-----------+---------+------+-------------------+------------+--------------+-------+----------+------+\n",
      "|uuid|record_type|timestamp|msisdn|counterparty_msisdn|duration_sec|data_volume_mb|cell_id|technology|status|\n",
      "+----+-----------+---------+------+-------------------+------------+--------------+-------+----------+------+\n",
      "+----+-----------+---------+------+-------------------+------------+--------------+-------+----------+------+\n",
      "\n"
     ]
    },
    {
     "name": "stderr",
     "output_type": "stream",
     "text": [
      "25/05/05 23:23:03 WARN KafkaDataConsumer: KafkaDataConsumer is not running in UninterruptibleThread. It may hang when KafkaDataConsumer's methods are interrupted because of KAFKA-1894\n"
     ]
    },
    {
     "name": "stdout",
     "output_type": "stream",
     "text": [
      "-------------------------------------------\n",
      "Batch: 456\n",
      "-------------------------------------------\n",
      "+----+-----------+---------+------+-------------------+------------+--------------+-------+----------+------+\n",
      "|uuid|record_type|timestamp|msisdn|counterparty_msisdn|duration_sec|data_volume_mb|cell_id|technology|status|\n",
      "+----+-----------+---------+------+-------------------+------------+--------------+-------+----------+------+\n",
      "+----+-----------+---------+------+-------------------+------------+--------------+-------+----------+------+\n",
      "\n"
     ]
    },
    {
     "name": "stderr",
     "output_type": "stream",
     "text": [
      "25/05/05 23:23:04 WARN KafkaDataConsumer: KafkaDataConsumer is not running in UninterruptibleThread. It may hang when KafkaDataConsumer's methods are interrupted because of KAFKA-1894\n"
     ]
    },
    {
     "name": "stdout",
     "output_type": "stream",
     "text": [
      "-------------------------------------------\n",
      "Batch: 457\n",
      "-------------------------------------------\n",
      "+----+-----------+---------+------+-------------------+------------+--------------+-------+----------+------+\n",
      "|uuid|record_type|timestamp|msisdn|counterparty_msisdn|duration_sec|data_volume_mb|cell_id|technology|status|\n",
      "+----+-----------+---------+------+-------------------+------------+--------------+-------+----------+------+\n",
      "+----+-----------+---------+------+-------------------+------------+--------------+-------+----------+------+\n",
      "\n"
     ]
    },
    {
     "name": "stderr",
     "output_type": "stream",
     "text": [
      "25/05/05 23:23:06 WARN KafkaDataConsumer: KafkaDataConsumer is not running in UninterruptibleThread. It may hang when KafkaDataConsumer's methods are interrupted because of KAFKA-1894\n"
     ]
    },
    {
     "name": "stdout",
     "output_type": "stream",
     "text": [
      "-------------------------------------------\n",
      "Batch: 458\n",
      "-------------------------------------------\n",
      "+----+-----------+---------+------+-------------------+------------+--------------+-------+----------+------+\n",
      "|uuid|record_type|timestamp|msisdn|counterparty_msisdn|duration_sec|data_volume_mb|cell_id|technology|status|\n",
      "+----+-----------+---------+------+-------------------+------------+--------------+-------+----------+------+\n",
      "+----+-----------+---------+------+-------------------+------------+--------------+-------+----------+------+\n",
      "\n"
     ]
    },
    {
     "name": "stderr",
     "output_type": "stream",
     "text": [
      "25/05/05 23:23:07 WARN KafkaDataConsumer: KafkaDataConsumer is not running in UninterruptibleThread. It may hang when KafkaDataConsumer's methods are interrupted because of KAFKA-1894\n",
      "                                                                                \r"
     ]
    },
    {
     "name": "stdout",
     "output_type": "stream",
     "text": [
      "-------------------------------------------\n",
      "Batch: 459\n",
      "-------------------------------------------\n",
      "+----+-----------+---------+------+-------------------+------------+--------------+-------+----------+------+\n",
      "|uuid|record_type|timestamp|msisdn|counterparty_msisdn|duration_sec|data_volume_mb|cell_id|technology|status|\n",
      "+----+-----------+---------+------+-------------------+------------+--------------+-------+----------+------+\n",
      "+----+-----------+---------+------+-------------------+------------+--------------+-------+----------+------+\n",
      "\n"
     ]
    },
    {
     "name": "stderr",
     "output_type": "stream",
     "text": [
      "25/05/05 23:23:08 WARN KafkaDataConsumer: KafkaDataConsumer is not running in UninterruptibleThread. It may hang when KafkaDataConsumer's methods are interrupted because of KAFKA-1894\n"
     ]
    },
    {
     "name": "stdout",
     "output_type": "stream",
     "text": [
      "-------------------------------------------\n",
      "Batch: 460\n",
      "-------------------------------------------\n",
      "+----+-----------+---------+------+-------------------+------------+--------------+-------+----------+------+\n",
      "|uuid|record_type|timestamp|msisdn|counterparty_msisdn|duration_sec|data_volume_mb|cell_id|technology|status|\n",
      "+----+-----------+---------+------+-------------------+------------+--------------+-------+----------+------+\n",
      "+----+-----------+---------+------+-------------------+------------+--------------+-------+----------+------+\n",
      "\n"
     ]
    },
    {
     "name": "stderr",
     "output_type": "stream",
     "text": [
      "25/05/05 23:23:09 WARN KafkaDataConsumer: KafkaDataConsumer is not running in UninterruptibleThread. It may hang when KafkaDataConsumer's methods are interrupted because of KAFKA-1894\n"
     ]
    },
    {
     "name": "stdout",
     "output_type": "stream",
     "text": [
      "-------------------------------------------\n",
      "Batch: 461\n",
      "-------------------------------------------\n",
      "+----+-----------+---------+------+-------------------+------------+--------------+-------+----------+------+\n",
      "|uuid|record_type|timestamp|msisdn|counterparty_msisdn|duration_sec|data_volume_mb|cell_id|technology|status|\n",
      "+----+-----------+---------+------+-------------------+------------+--------------+-------+----------+------+\n",
      "+----+-----------+---------+------+-------------------+------------+--------------+-------+----------+------+\n",
      "\n"
     ]
    },
    {
     "name": "stderr",
     "output_type": "stream",
     "text": [
      "25/05/05 23:23:09 WARN KafkaDataConsumer: KafkaDataConsumer is not running in UninterruptibleThread. It may hang when KafkaDataConsumer's methods are interrupted because of KAFKA-1894\n"
     ]
    },
    {
     "name": "stdout",
     "output_type": "stream",
     "text": [
      "-------------------------------------------\n",
      "Batch: 462\n",
      "-------------------------------------------\n",
      "+----+-----------+---------+------+-------------------+------------+--------------+-------+----------+------+\n",
      "|uuid|record_type|timestamp|msisdn|counterparty_msisdn|duration_sec|data_volume_mb|cell_id|technology|status|\n",
      "+----+-----------+---------+------+-------------------+------------+--------------+-------+----------+------+\n",
      "+----+-----------+---------+------+-------------------+------------+--------------+-------+----------+------+\n",
      "\n"
     ]
    },
    {
     "name": "stderr",
     "output_type": "stream",
     "text": [
      "25/05/05 23:23:11 WARN KafkaDataConsumer: KafkaDataConsumer is not running in UninterruptibleThread. It may hang when KafkaDataConsumer's methods are interrupted because of KAFKA-1894\n"
     ]
    },
    {
     "name": "stdout",
     "output_type": "stream",
     "text": [
      "-------------------------------------------\n",
      "Batch: 463\n",
      "-------------------------------------------\n",
      "+----+-----------+---------+------+-------------------+------------+--------------+-------+----------+------+\n",
      "|uuid|record_type|timestamp|msisdn|counterparty_msisdn|duration_sec|data_volume_mb|cell_id|technology|status|\n",
      "+----+-----------+---------+------+-------------------+------------+--------------+-------+----------+------+\n",
      "+----+-----------+---------+------+-------------------+------------+--------------+-------+----------+------+\n",
      "\n"
     ]
    },
    {
     "name": "stderr",
     "output_type": "stream",
     "text": [
      "25/05/05 23:23:12 WARN KafkaDataConsumer: KafkaDataConsumer is not running in UninterruptibleThread. It may hang when KafkaDataConsumer's methods are interrupted because of KAFKA-1894\n"
     ]
    },
    {
     "name": "stdout",
     "output_type": "stream",
     "text": [
      "-------------------------------------------\n",
      "Batch: 464\n",
      "-------------------------------------------\n",
      "+----+-----------+---------+------+-------------------+------------+--------------+-------+----------+------+\n",
      "|uuid|record_type|timestamp|msisdn|counterparty_msisdn|duration_sec|data_volume_mb|cell_id|technology|status|\n",
      "+----+-----------+---------+------+-------------------+------------+--------------+-------+----------+------+\n",
      "+----+-----------+---------+------+-------------------+------------+--------------+-------+----------+------+\n",
      "\n"
     ]
    },
    {
     "name": "stderr",
     "output_type": "stream",
     "text": [
      "25/05/05 23:23:14 WARN KafkaDataConsumer: KafkaDataConsumer is not running in UninterruptibleThread. It may hang when KafkaDataConsumer's methods are interrupted because of KAFKA-1894\n"
     ]
    },
    {
     "name": "stdout",
     "output_type": "stream",
     "text": [
      "-------------------------------------------\n",
      "Batch: 465\n",
      "-------------------------------------------\n",
      "+----+-----------+---------+------+-------------------+------------+--------------+-------+----------+------+\n",
      "|uuid|record_type|timestamp|msisdn|counterparty_msisdn|duration_sec|data_volume_mb|cell_id|technology|status|\n",
      "+----+-----------+---------+------+-------------------+------------+--------------+-------+----------+------+\n",
      "+----+-----------+---------+------+-------------------+------------+--------------+-------+----------+------+\n",
      "\n"
     ]
    },
    {
     "name": "stderr",
     "output_type": "stream",
     "text": [
      "25/05/05 23:23:15 WARN KafkaDataConsumer: KafkaDataConsumer is not running in UninterruptibleThread. It may hang when KafkaDataConsumer's methods are interrupted because of KAFKA-1894\n",
      "                                                                                \r"
     ]
    },
    {
     "name": "stdout",
     "output_type": "stream",
     "text": [
      "-------------------------------------------\n",
      "Batch: 466\n",
      "-------------------------------------------\n",
      "+----+-----------+---------+------+-------------------+------------+--------------+-------+----------+------+\n",
      "|uuid|record_type|timestamp|msisdn|counterparty_msisdn|duration_sec|data_volume_mb|cell_id|technology|status|\n",
      "+----+-----------+---------+------+-------------------+------------+--------------+-------+----------+------+\n",
      "+----+-----------+---------+------+-------------------+------------+--------------+-------+----------+------+\n",
      "\n"
     ]
    },
    {
     "name": "stderr",
     "output_type": "stream",
     "text": [
      "25/05/05 23:23:15 WARN KafkaDataConsumer: KafkaDataConsumer is not running in UninterruptibleThread. It may hang when KafkaDataConsumer's methods are interrupted because of KAFKA-1894\n",
      "25/05/05 23:23:15 WARN KafkaDataConsumer: KafkaDataConsumer is not running in UninterruptibleThread. It may hang when KafkaDataConsumer's methods are interrupted because of KAFKA-1894\n"
     ]
    },
    {
     "name": "stdout",
     "output_type": "stream",
     "text": [
      "-------------------------------------------\n",
      "Batch: 467\n",
      "-------------------------------------------\n",
      "+------------------------------------+-----------+-----------------------+------+-------------------+------------+--------------+----------+----------+------+\n",
      "|uuid                                |record_type|timestamp              |msisdn|counterparty_msisdn|duration_sec|data_volume_mb|cell_id   |technology|status|\n",
      "+------------------------------------+-----------+-----------------------+------+-------------------+------------+--------------+----------+----------+------+\n",
      "|39d6f1cc-7b63-4112-b304-8db7b65172d1|voice      |2025-05-05 23:23:15.305|NULL  |212695564818       |332         |NULL          |tamanar_49|4G        |error |\n",
      "+------------------------------------+-----------+-----------------------+------+-------------------+------------+--------------+----------+----------+------+\n",
      "\n"
     ]
    },
    {
     "name": "stderr",
     "output_type": "stream",
     "text": [
      "25/05/05 23:23:17 WARN KafkaDataConsumer: KafkaDataConsumer is not running in UninterruptibleThread. It may hang when KafkaDataConsumer's methods are interrupted because of KAFKA-1894\n"
     ]
    },
    {
     "name": "stdout",
     "output_type": "stream",
     "text": [
      "-------------------------------------------\n",
      "Batch: 468\n",
      "-------------------------------------------\n",
      "+----+-----------+---------+------+-------------------+------------+--------------+-------+----------+------+\n",
      "|uuid|record_type|timestamp|msisdn|counterparty_msisdn|duration_sec|data_volume_mb|cell_id|technology|status|\n",
      "+----+-----------+---------+------+-------------------+------------+--------------+-------+----------+------+\n",
      "+----+-----------+---------+------+-------------------+------------+--------------+-------+----------+------+\n",
      "\n"
     ]
    },
    {
     "name": "stderr",
     "output_type": "stream",
     "text": [
      "25/05/05 23:23:18 WARN KafkaDataConsumer: KafkaDataConsumer is not running in UninterruptibleThread. It may hang when KafkaDataConsumer's methods are interrupted because of KAFKA-1894\n"
     ]
    },
    {
     "name": "stdout",
     "output_type": "stream",
     "text": [
      "-------------------------------------------\n",
      "Batch: 469\n",
      "-------------------------------------------\n",
      "+----+-----------+---------+------+-------------------+------------+--------------+-------+----------+------+\n",
      "|uuid|record_type|timestamp|msisdn|counterparty_msisdn|duration_sec|data_volume_mb|cell_id|technology|status|\n",
      "+----+-----------+---------+------+-------------------+------------+--------------+-------+----------+------+\n",
      "+----+-----------+---------+------+-------------------+------------+--------------+-------+----------+------+\n",
      "\n"
     ]
    },
    {
     "name": "stderr",
     "output_type": "stream",
     "text": [
      "25/05/05 23:23:19 WARN KafkaDataConsumer: KafkaDataConsumer is not running in UninterruptibleThread. It may hang when KafkaDataConsumer's methods are interrupted because of KAFKA-1894\n"
     ]
    },
    {
     "name": "stdout",
     "output_type": "stream",
     "text": [
      "-------------------------------------------\n",
      "Batch: 470\n",
      "-------------------------------------------\n",
      "+----+-----------+---------+------+-------------------+------------+--------------+-------+----------+------+\n",
      "|uuid|record_type|timestamp|msisdn|counterparty_msisdn|duration_sec|data_volume_mb|cell_id|technology|status|\n",
      "+----+-----------+---------+------+-------------------+------------+--------------+-------+----------+------+\n",
      "+----+-----------+---------+------+-------------------+------------+--------------+-------+----------+------+\n",
      "\n"
     ]
    },
    {
     "name": "stderr",
     "output_type": "stream",
     "text": [
      "25/05/05 23:23:19 WARN KafkaDataConsumer: KafkaDataConsumer is not running in UninterruptibleThread. It may hang when KafkaDataConsumer's methods are interrupted because of KAFKA-1894\n"
     ]
    },
    {
     "name": "stdout",
     "output_type": "stream",
     "text": [
      "-------------------------------------------\n",
      "Batch: 471\n",
      "-------------------------------------------\n",
      "+----+-----------+---------+------+-------------------+------------+--------------+-------+----------+------+\n",
      "|uuid|record_type|timestamp|msisdn|counterparty_msisdn|duration_sec|data_volume_mb|cell_id|technology|status|\n",
      "+----+-----------+---------+------+-------------------+------------+--------------+-------+----------+------+\n",
      "+----+-----------+---------+------+-------------------+------------+--------------+-------+----------+------+\n",
      "\n"
     ]
    },
    {
     "name": "stderr",
     "output_type": "stream",
     "text": [
      "25/05/05 23:23:20 WARN KafkaDataConsumer: KafkaDataConsumer is not running in UninterruptibleThread. It may hang when KafkaDataConsumer's methods are interrupted because of KAFKA-1894\n"
     ]
    },
    {
     "name": "stdout",
     "output_type": "stream",
     "text": [
      "-------------------------------------------\n",
      "Batch: 472\n",
      "-------------------------------------------\n",
      "+----+-----------+---------+------+-------------------+------------+--------------+-------+----------+------+\n",
      "|uuid|record_type|timestamp|msisdn|counterparty_msisdn|duration_sec|data_volume_mb|cell_id|technology|status|\n",
      "+----+-----------+---------+------+-------------------+------------+--------------+-------+----------+------+\n",
      "+----+-----------+---------+------+-------------------+------------+--------------+-------+----------+------+\n",
      "\n"
     ]
    },
    {
     "name": "stderr",
     "output_type": "stream",
     "text": [
      "25/05/05 23:23:22 WARN KafkaDataConsumer: KafkaDataConsumer is not running in UninterruptibleThread. It may hang when KafkaDataConsumer's methods are interrupted because of KAFKA-1894\n"
     ]
    },
    {
     "name": "stdout",
     "output_type": "stream",
     "text": [
      "-------------------------------------------\n",
      "Batch: 473\n",
      "-------------------------------------------\n",
      "+----+-----------+---------+------+-------------------+------------+--------------+-------+----------+------+\n",
      "|uuid|record_type|timestamp|msisdn|counterparty_msisdn|duration_sec|data_volume_mb|cell_id|technology|status|\n",
      "+----+-----------+---------+------+-------------------+------------+--------------+-------+----------+------+\n",
      "+----+-----------+---------+------+-------------------+------------+--------------+-------+----------+------+\n",
      "\n"
     ]
    },
    {
     "name": "stderr",
     "output_type": "stream",
     "text": [
      "25/05/05 23:23:23 WARN KafkaDataConsumer: KafkaDataConsumer is not running in UninterruptibleThread. It may hang when KafkaDataConsumer's methods are interrupted because of KAFKA-1894\n",
      "25/05/05 23:23:23 WARN KafkaDataConsumer: KafkaDataConsumer is not running in UninterruptibleThread. It may hang when KafkaDataConsumer's methods are interrupted because of KAFKA-1894\n"
     ]
    },
    {
     "name": "stdout",
     "output_type": "stream",
     "text": [
      "-------------------------------------------\n",
      "Batch: 474\n",
      "-------------------------------------------\n",
      "+----+-----------+---------+------+-------------------+------------+--------------+-------+----------+------+\n",
      "|uuid|record_type|timestamp|msisdn|counterparty_msisdn|duration_sec|data_volume_mb|cell_id|technology|status|\n",
      "+----+-----------+---------+------+-------------------+------------+--------------+-------+----------+------+\n",
      "+----+-----------+---------+------+-------------------+------------+--------------+-------+----------+------+\n",
      "\n"
     ]
    },
    {
     "name": "stderr",
     "output_type": "stream",
     "text": [
      "25/05/05 23:23:23 WARN KafkaDataConsumer: KafkaDataConsumer is not running in UninterruptibleThread. It may hang when KafkaDataConsumer's methods are interrupted because of KAFKA-1894\n"
     ]
    },
    {
     "name": "stdout",
     "output_type": "stream",
     "text": [
      "-------------------------------------------\n",
      "Batch: 475\n",
      "-------------------------------------------\n",
      "+----+-----------+---------+------+-------------------+------------+--------------+-------+----------+------+\n",
      "|uuid|record_type|timestamp|msisdn|counterparty_msisdn|duration_sec|data_volume_mb|cell_id|technology|status|\n",
      "+----+-----------+---------+------+-------------------+------------+--------------+-------+----------+------+\n",
      "+----+-----------+---------+------+-------------------+------------+--------------+-------+----------+------+\n",
      "\n"
     ]
    },
    {
     "name": "stderr",
     "output_type": "stream",
     "text": [
      "25/05/05 23:23:24 WARN KafkaDataConsumer: KafkaDataConsumer is not running in UninterruptibleThread. It may hang when KafkaDataConsumer's methods are interrupted because of KAFKA-1894\n",
      "25/05/05 23:23:24 WARN KafkaDataConsumer: KafkaDataConsumer is not running in UninterruptibleThread. It may hang when KafkaDataConsumer's methods are interrupted because of KAFKA-1894\n"
     ]
    },
    {
     "name": "stdout",
     "output_type": "stream",
     "text": [
      "-------------------------------------------\n",
      "Batch: 476\n",
      "-------------------------------------------\n",
      "+----+-----------+---------+------+-------------------+------------+--------------+-------+----------+------+\n",
      "|uuid|record_type|timestamp|msisdn|counterparty_msisdn|duration_sec|data_volume_mb|cell_id|technology|status|\n",
      "+----+-----------+---------+------+-------------------+------------+--------------+-------+----------+------+\n",
      "+----+-----------+---------+------+-------------------+------------+--------------+-------+----------+------+\n",
      "\n"
     ]
    },
    {
     "name": "stderr",
     "output_type": "stream",
     "text": [
      "25/05/05 23:23:25 WARN KafkaDataConsumer: KafkaDataConsumer is not running in UninterruptibleThread. It may hang when KafkaDataConsumer's methods are interrupted because of KAFKA-1894\n"
     ]
    },
    {
     "name": "stdout",
     "output_type": "stream",
     "text": [
      "-------------------------------------------\n",
      "Batch: 477\n",
      "-------------------------------------------\n",
      "+------------------------------------+-----------+-----------------------+------+-------------------+------------+--------------+-------------+----------+------+\n",
      "|uuid                                |record_type|timestamp              |msisdn|counterparty_msisdn|duration_sec|data_volume_mb|cell_id      |technology|status|\n",
      "+------------------------------------+-----------+-----------------------+------+-------------------+------------+--------------+-------------+----------+------+\n",
      "|ec930746-b6f6-4301-93af-f4fb61ec0416|voice      |2025-05-05 23:23:24.833|NULL  |212788839418       |37          |NULL          |ras_el_ain_32|4G        |error |\n",
      "+------------------------------------+-----------+-----------------------+------+-------------------+------------+--------------+-------------+----------+------+\n",
      "\n"
     ]
    },
    {
     "name": "stderr",
     "output_type": "stream",
     "text": [
      "25/05/05 23:23:26 WARN KafkaDataConsumer: KafkaDataConsumer is not running in UninterruptibleThread. It may hang when KafkaDataConsumer's methods are interrupted because of KAFKA-1894\n"
     ]
    },
    {
     "name": "stdout",
     "output_type": "stream",
     "text": [
      "-------------------------------------------\n",
      "Batch: 478\n",
      "-------------------------------------------\n",
      "+----+-----------+---------+------+-------------------+------------+--------------+-------+----------+------+\n",
      "|uuid|record_type|timestamp|msisdn|counterparty_msisdn|duration_sec|data_volume_mb|cell_id|technology|status|\n",
      "+----+-----------+---------+------+-------------------+------------+--------------+-------+----------+------+\n",
      "+----+-----------+---------+------+-------------------+------------+--------------+-------+----------+------+\n",
      "\n"
     ]
    },
    {
     "name": "stderr",
     "output_type": "stream",
     "text": [
      "25/05/05 23:23:28 WARN KafkaDataConsumer: KafkaDataConsumer is not running in UninterruptibleThread. It may hang when KafkaDataConsumer's methods are interrupted because of KAFKA-1894\n"
     ]
    },
    {
     "name": "stdout",
     "output_type": "stream",
     "text": [
      "-------------------------------------------\n",
      "Batch: 479\n",
      "-------------------------------------------\n",
      "+----+-----------+---------+------+-------------------+------------+--------------+-------+----------+------+\n",
      "|uuid|record_type|timestamp|msisdn|counterparty_msisdn|duration_sec|data_volume_mb|cell_id|technology|status|\n",
      "+----+-----------+---------+------+-------------------+------------+--------------+-------+----------+------+\n",
      "+----+-----------+---------+------+-------------------+------------+--------------+-------+----------+------+\n",
      "\n"
     ]
    },
    {
     "name": "stderr",
     "output_type": "stream",
     "text": [
      "25/05/05 23:23:29 WARN KafkaDataConsumer: KafkaDataConsumer is not running in UninterruptibleThread. It may hang when KafkaDataConsumer's methods are interrupted because of KAFKA-1894\n"
     ]
    },
    {
     "name": "stdout",
     "output_type": "stream",
     "text": [
      "-------------------------------------------\n",
      "Batch: 480\n",
      "-------------------------------------------\n",
      "+------------------------------------+-----------+-----------------------+------+-------------------+------------+--------------+--------+----------+------+\n",
      "|uuid                                |record_type|timestamp              |msisdn|counterparty_msisdn|duration_sec|data_volume_mb|cell_id |technology|status|\n",
      "+------------------------------------+-----------+-----------------------+------+-------------------+------------+--------------+--------+----------+------+\n",
      "|41bd9ba5-b956-4087-a004-ebf9193b696b|voice      |2025-05-05 23:23:28.378|NULL  |212616832264       |5175        |NULL          |meknes_4|5G        |error |\n",
      "+------------------------------------+-----------+-----------------------+------+-------------------+------------+--------------+--------+----------+------+\n",
      "\n"
     ]
    },
    {
     "name": "stderr",
     "output_type": "stream",
     "text": [
      "25/05/05 23:23:30 WARN KafkaDataConsumer: KafkaDataConsumer is not running in UninterruptibleThread. It may hang when KafkaDataConsumer's methods are interrupted because of KAFKA-1894\n",
      "                                                                                \r"
     ]
    },
    {
     "name": "stdout",
     "output_type": "stream",
     "text": [
      "-------------------------------------------\n",
      "Batch: 481\n",
      "-------------------------------------------\n",
      "+----+-----------+---------+------+-------------------+------------+--------------+-------+----------+------+\n",
      "|uuid|record_type|timestamp|msisdn|counterparty_msisdn|duration_sec|data_volume_mb|cell_id|technology|status|\n",
      "+----+-----------+---------+------+-------------------+------------+--------------+-------+----------+------+\n",
      "+----+-----------+---------+------+-------------------+------------+--------------+-------+----------+------+\n",
      "\n"
     ]
    }
   ],
   "source": [
    "required_ok_fields = [\"msisdn\", \"cell_id\", \"technology\", \"record_type\", \"timestamp\"]\n",
    "result_df = result_df.filter(F.col(\"status\") == \"ok\")\n",
    "result_df = result_df.filter(\n",
    "    (F.col(\"status\") == \"ok\") &\n",
    "    F.col(\"msisdn\").isNotNull() &\n",
    "    F.col(\"cell_id\").isNotNull() &\n",
    "    F.col(\"technology\").isNotNull() &\n",
    "    F.col(\"record_type\").isNotNull() &\n",
    "    F.col(\"timestamp\").isNotNull()\n",
    ")\n",
    "# Optional: verify all required fields are non-null\n",
    "for field in required_ok_fields:\n",
    "    result_df = result_df.filter(F.col(field).isNotNull())\n",
    "result_df.printSchema()"
   ]
  },
  {
   "cell_type": "code",
   "execution_count": null,
   "id": "e7186b32",
   "metadata": {},
   "outputs": [],
   "source": [
    "result_df.filter(\"msisdn IS NULL\").writeStream \\\n",
    "    .format(\"console\") \\\n",
    "    .option(\"truncate\", False) \\\n",
    "    .start() \\\n",
    "    .awaitTermination()"
   ]
  },
  {
   "cell_type": "code",
   "execution_count": null,
   "id": "511b52d0",
   "metadata": {},
   "outputs": [],
   "source": [
    "========== OUTPUT ==========\n",
    "latest_version_analyzed_data = get_latest_schema_str(SUBJECT_SINK)\n",
    "\n",
    "result_df = result_df.select(\n",
    "    to_avro(F.struct(\"*\"), latest_version_analyzed_data.schema.schema_str).alias(\n",
    "        \"value\"\n",
    "    ),\n",
    ")"
   ]
  },
  {
   "cell_type": "code",
   "execution_count": null,
   "id": "abfc1f40",
   "metadata": {},
   "outputs": [],
   "source": [
    "# query = (\n",
    "#     result_df.writeStream.format(\"console\")\n",
    "#     .option(\"truncate\", False)\n",
    "#     .option(\"numRows\", 50)\n",
    "#     .start()\n",
    "# )\n",
    "# query.awaitTermination()"
   ]
  },
  {
   "cell_type": "code",
   "execution_count": null,
   "id": "e608a4cb",
   "metadata": {},
   "outputs": [],
   "source": []
  }
 ],
 "metadata": {
  "kernelspec": {
   "display_name": ".venv",
   "language": "python",
   "name": "python3"
  },
  "language_info": {
   "codemirror_mode": {
    "name": "ipython",
    "version": 3
   },
   "file_extension": ".py",
   "mimetype": "text/x-python",
   "name": "python",
   "nbconvert_exporter": "python",
   "pygments_lexer": "ipython3",
   "version": "3.11.7"
  }
 },
 "nbformat": 4,
 "nbformat_minor": 5
}
